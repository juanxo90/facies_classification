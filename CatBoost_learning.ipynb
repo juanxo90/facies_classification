{
 "cells": [
  {
   "cell_type": "markdown",
   "metadata": {
    "id": "ML5spritXSlC"
   },
   "source": [
    "# $$CatBoost\\ Tutorial$$"
   ]
  },
  {
   "cell_type": "markdown",
   "metadata": {
    "id": "v_ajwtP6XSlE"
   },
   "source": [
    "[![Open In Colab](https://colab.research.google.com/assets/colab-badge.svg)](https://colab.research.google.com/github/catboost/tutorials/blob/master/python_tutorial.ipynb)\n",
    "\n",
    "In this tutorial we would explore some base cases of using catboost, such as model training, cross-validation and predicting, as well as some useful features like early stopping,  snapshot support, feature importances and parameters tuning.\n",
    "  \n",
    "You could run this tutorial in Google Colaboratory environment with free CPU or GPU. Just click on this <a href=\"https://colab.research.google.com/github/catboost/tutorials/blob/master/python_tutorial.ipynb\" target=\"_blank\" title=\"Colab\">link</a>."
   ]
  },
  {
   "cell_type": "markdown",
   "metadata": {
    "id": "pBi9kUZxXSlF"
   },
   "source": [
    "## $$Contents$$\n",
    "* [1. Data Preparation](#$$1.\\-Data\\-Preparation$$)\n",
    "    * [1.1 Data Loading](#1.1-Data-Loading)\n",
    "    * [1.2 Feature Preparation](#1.2-Feature-Preparation)\n",
    "    * [1.3 Data Splitting](#1.3-Data-Splitting)\n",
    "* [2. CatBoost Basics](#$$2.\\-CatBoost\\-Basics$$)\n",
    "    * [2.1 Model Training](#2.1-Model-Training)\n",
    "    * [2.2 Model Cross-Validation](#2.2-Model-Cross-Validation)\n",
    "    * [2.3 Model Applying](#2.3-Model-Applying)\n",
    "* [3. CatBoost Features](#$$3.\\-CatBoost\\-Features$$)\n",
    "    * [3.1 Using the best model](#3.1-Using-the-best-model)\n",
    "    * [3.2 Early Stopping](#3.2-Early-Stopping)\n",
    "    * [3.3 Using Baseline](#3.3-Using-Baseline)\n",
    "    * [3.4 Snapshot Support](#3.4-Snapshot-Support)\n",
    "    * [3.5 User Defined Objective Function](#3.5-User-Defined-Objective-Function)\n",
    "    * [3.6 User Defined Metric Function](#3.6-User-Defined-Metric-Function)\n",
    "    * [3.7 Staged Predict](#3.7-Staged-Predict)\n",
    "    * [3.8 Feature Importances](#3.8-Feature-Importances)\n",
    "    * [3.9 Eval Metrics](#3.9-Eval-Metrics)\n",
    "    * [3.10 Learning Processes Comparison](#3.10-Learning-Processes-Comparison)\n",
    "    * [3.11 Model Saving](#3.11-Model-Saving)\n",
    "* [4. Parameters Tuning](#$$4.\\-Parameters\\-Tuning$$)"
   ]
  },
  {
   "cell_type": "markdown",
   "metadata": {
    "id": "Qch93SOqXSlG"
   },
   "source": [
    "## $$1.\\ Data\\ Preparation$$\n",
    "### 1.1 CatBoost installation\n",
    "If you have not already installed CatBoost, you can do so by running '!pip install catboost' command.  \n",
    "  \n",
    "Also you should install ipywidgets package and run special command before launching jupyter notebook to draw plots."
   ]
  },
  {
   "cell_type": "code",
   "execution_count": 2,
   "metadata": {
    "executionInfo": {
     "elapsed": 39351,
     "status": "ok",
     "timestamp": 1667628005252,
     "user": {
      "displayName": "Luis De la Cruz",
      "userId": "06724328066027297588"
     },
     "user_tz": 360
    },
    "id": "9HbPEfxDXSlG"
   },
   "outputs": [],
   "source": [
    "# !pip install catboost\n",
    "# !pip install scikit-learn\n",
    "# !pip install ipywidgets\n",
    "# !jupyter nbextension enable --py widgetsnbextension"
   ]
  },
  {
   "cell_type": "markdown",
   "metadata": {
    "id": "usUOn48kXSlH"
   },
   "source": [
    "### 1.2 Data Loading\n",
    "The data for this tutorial can be obtained from [this page](https://www.kaggle.com/c/titanic/data) (you would have to register a kaggle account or just login with facebook or google+) or you could use catboost.datasets as in code below."
   ]
  },
  {
   "cell_type": "code",
   "execution_count": 1,
   "metadata": {
    "colab": {
     "base_uri": "https://localhost:8080/",
     "height": 302
    },
    "executionInfo": {
     "elapsed": 3521,
     "status": "ok",
     "timestamp": 1667628690303,
     "user": {
      "displayName": "Luis De la Cruz",
      "userId": "06724328066027297588"
     },
     "user_tz": 360
    },
    "id": "n3QMTNhPXSlH",
    "outputId": "824988ec-df9d-4213-fd40-f0399bf33644"
   },
   "outputs": [
    {
     "data": {
      "text/html": [
       "<div>\n",
       "<style scoped>\n",
       "    .dataframe tbody tr th:only-of-type {\n",
       "        vertical-align: middle;\n",
       "    }\n",
       "\n",
       "    .dataframe tbody tr th {\n",
       "        vertical-align: top;\n",
       "    }\n",
       "\n",
       "    .dataframe thead th {\n",
       "        text-align: right;\n",
       "    }\n",
       "</style>\n",
       "<table border=\"1\" class=\"dataframe\">\n",
       "  <thead>\n",
       "    <tr style=\"text-align: right;\">\n",
       "      <th></th>\n",
       "      <th>PassengerId</th>\n",
       "      <th>Survived</th>\n",
       "      <th>Pclass</th>\n",
       "      <th>Name</th>\n",
       "      <th>Sex</th>\n",
       "      <th>Age</th>\n",
       "      <th>SibSp</th>\n",
       "      <th>Parch</th>\n",
       "      <th>Ticket</th>\n",
       "      <th>Fare</th>\n",
       "      <th>Cabin</th>\n",
       "      <th>Embarked</th>\n",
       "    </tr>\n",
       "  </thead>\n",
       "  <tbody>\n",
       "    <tr>\n",
       "      <th>0</th>\n",
       "      <td>1</td>\n",
       "      <td>0</td>\n",
       "      <td>3</td>\n",
       "      <td>Braund, Mr. Owen Harris</td>\n",
       "      <td>male</td>\n",
       "      <td>22.0</td>\n",
       "      <td>1</td>\n",
       "      <td>0</td>\n",
       "      <td>A/5 21171</td>\n",
       "      <td>7.2500</td>\n",
       "      <td>NaN</td>\n",
       "      <td>S</td>\n",
       "    </tr>\n",
       "    <tr>\n",
       "      <th>1</th>\n",
       "      <td>2</td>\n",
       "      <td>1</td>\n",
       "      <td>1</td>\n",
       "      <td>Cumings, Mrs. John Bradley (Florence Briggs Th...</td>\n",
       "      <td>female</td>\n",
       "      <td>38.0</td>\n",
       "      <td>1</td>\n",
       "      <td>0</td>\n",
       "      <td>PC 17599</td>\n",
       "      <td>71.2833</td>\n",
       "      <td>C85</td>\n",
       "      <td>C</td>\n",
       "    </tr>\n",
       "    <tr>\n",
       "      <th>2</th>\n",
       "      <td>3</td>\n",
       "      <td>1</td>\n",
       "      <td>3</td>\n",
       "      <td>Heikkinen, Miss. Laina</td>\n",
       "      <td>female</td>\n",
       "      <td>26.0</td>\n",
       "      <td>0</td>\n",
       "      <td>0</td>\n",
       "      <td>STON/O2. 3101282</td>\n",
       "      <td>7.9250</td>\n",
       "      <td>NaN</td>\n",
       "      <td>S</td>\n",
       "    </tr>\n",
       "    <tr>\n",
       "      <th>3</th>\n",
       "      <td>4</td>\n",
       "      <td>1</td>\n",
       "      <td>1</td>\n",
       "      <td>Futrelle, Mrs. Jacques Heath (Lily May Peel)</td>\n",
       "      <td>female</td>\n",
       "      <td>35.0</td>\n",
       "      <td>1</td>\n",
       "      <td>0</td>\n",
       "      <td>113803</td>\n",
       "      <td>53.1000</td>\n",
       "      <td>C123</td>\n",
       "      <td>S</td>\n",
       "    </tr>\n",
       "    <tr>\n",
       "      <th>4</th>\n",
       "      <td>5</td>\n",
       "      <td>0</td>\n",
       "      <td>3</td>\n",
       "      <td>Allen, Mr. William Henry</td>\n",
       "      <td>male</td>\n",
       "      <td>35.0</td>\n",
       "      <td>0</td>\n",
       "      <td>0</td>\n",
       "      <td>373450</td>\n",
       "      <td>8.0500</td>\n",
       "      <td>NaN</td>\n",
       "      <td>S</td>\n",
       "    </tr>\n",
       "  </tbody>\n",
       "</table>\n",
       "</div>"
      ],
      "text/plain": [
       "   PassengerId  Survived  Pclass  \\\n",
       "0            1         0       3   \n",
       "1            2         1       1   \n",
       "2            3         1       3   \n",
       "3            4         1       1   \n",
       "4            5         0       3   \n",
       "\n",
       "                                                Name     Sex   Age  SibSp  \\\n",
       "0                            Braund, Mr. Owen Harris    male  22.0      1   \n",
       "1  Cumings, Mrs. John Bradley (Florence Briggs Th...  female  38.0      1   \n",
       "2                             Heikkinen, Miss. Laina  female  26.0      0   \n",
       "3       Futrelle, Mrs. Jacques Heath (Lily May Peel)  female  35.0      1   \n",
       "4                           Allen, Mr. William Henry    male  35.0      0   \n",
       "\n",
       "   Parch            Ticket     Fare Cabin Embarked  \n",
       "0      0         A/5 21171   7.2500   NaN        S  \n",
       "1      0          PC 17599  71.2833   C85        C  \n",
       "2      0  STON/O2. 3101282   7.9250   NaN        S  \n",
       "3      0            113803  53.1000  C123        S  \n",
       "4      0            373450   8.0500   NaN        S  "
      ]
     },
     "execution_count": 1,
     "metadata": {},
     "output_type": "execute_result"
    }
   ],
   "source": [
    "from catboost.datasets import titanic\n",
    "import numpy as np\n",
    "\n",
    "train_df, test_df = titanic()\n",
    "\n",
    "train_df.head()"
   ]
  },
  {
   "cell_type": "markdown",
   "metadata": {
    "id": "bbq3HRCFXSlI"
   },
   "source": [
    "### 1.3 Feature Preparation\n",
    "First of all let's check how many absent values do we have:"
   ]
  },
  {
   "cell_type": "code",
   "execution_count": 2,
   "metadata": {
    "colab": {
     "base_uri": "https://localhost:8080/"
    },
    "executionInfo": {
     "elapsed": 287,
     "status": "ok",
     "timestamp": 1667628695580,
     "user": {
      "displayName": "Luis De la Cruz",
      "userId": "06724328066027297588"
     },
     "user_tz": 360
    },
    "id": "9E2PIVwwXSlI",
    "outputId": "99cbafc9-451e-474a-d839-0c344cf96fc5"
   },
   "outputs": [
    {
     "data": {
      "text/plain": [
       "Age         177\n",
       "Cabin       687\n",
       "Embarked      2\n",
       "dtype: int64"
      ]
     },
     "execution_count": 2,
     "metadata": {},
     "output_type": "execute_result"
    }
   ],
   "source": [
    "null_value_stats = train_df.isnull().sum(axis=0)\n",
    "null_value_stats[null_value_stats != 0]"
   ]
  },
  {
   "cell_type": "markdown",
   "metadata": {
    "id": "JwTCLdzqXSlI"
   },
   "source": [
    "As we can see, **`Age`**, **`Cabin`** and **`Embarked`** indeed have some missing values, so let's fill them with some number way out of their distributions - so the model would be able to easily distinguish between them and take it into account:"
   ]
  },
  {
   "cell_type": "code",
   "execution_count": 3,
   "metadata": {
    "executionInfo": {
     "elapsed": 278,
     "status": "ok",
     "timestamp": 1667628711743,
     "user": {
      "displayName": "Luis De la Cruz",
      "userId": "06724328066027297588"
     },
     "user_tz": 360
    },
    "id": "89aUugpPXSlI"
   },
   "outputs": [],
   "source": [
    "train_df.fillna(-999, inplace=True)\n",
    "test_df.fillna(-999, inplace=True)"
   ]
  },
  {
   "cell_type": "markdown",
   "metadata": {
    "id": "hy4uxKtoXSlJ"
   },
   "source": [
    "Now let's separate features and label variable:"
   ]
  },
  {
   "cell_type": "code",
   "execution_count": 4,
   "metadata": {
    "executionInfo": {
     "elapsed": 288,
     "status": "ok",
     "timestamp": 1667628721253,
     "user": {
      "displayName": "Luis De la Cruz",
      "userId": "06724328066027297588"
     },
     "user_tz": 360
    },
    "id": "f3P1LKegXSlJ"
   },
   "outputs": [],
   "source": [
    "X = train_df.drop('Survived', axis=1)\n",
    "y = train_df.Survived"
   ]
  },
  {
   "cell_type": "markdown",
   "metadata": {
    "id": "ZJBhOH6HXSlJ"
   },
   "source": [
    "Pay attention that our features are of different types - some of them are numeric, some are categorical, and some are even just strings, which normally should be handled in some specific way (for example encoded with bag-of-words representation). But in our case we could treat these string features just as categorical one - all the heavy lifting is done inside CatBoost. How cool is that? :)"
   ]
  },
  {
   "cell_type": "code",
   "execution_count": 5,
   "metadata": {
    "colab": {
     "base_uri": "https://localhost:8080/"
    },
    "executionInfo": {
     "elapsed": 323,
     "status": "ok",
     "timestamp": 1667628741515,
     "user": {
      "displayName": "Luis De la Cruz",
      "userId": "06724328066027297588"
     },
     "user_tz": 360
    },
    "id": "r9Jtevr6XSlJ",
    "outputId": "47664cca-704e-42f6-f2ce-c7d49bd914f0"
   },
   "outputs": [
    {
     "name": "stdout",
     "output_type": "stream",
     "text": [
      "PassengerId      int64\n",
      "Pclass           int64\n",
      "Name            object\n",
      "Sex             object\n",
      "Age            float64\n",
      "SibSp            int64\n",
      "Parch            int64\n",
      "Ticket          object\n",
      "Fare           float64\n",
      "Cabin           object\n",
      "Embarked        object\n",
      "dtype: object\n"
     ]
    }
   ],
   "source": [
    "print(X.dtypes)\n",
    "\n",
    "categorical_features_indices = np.where(X.dtypes != float)[0]"
   ]
  },
  {
   "cell_type": "code",
   "execution_count": 6,
   "metadata": {
    "colab": {
     "base_uri": "https://localhost:8080/"
    },
    "executionInfo": {
     "elapsed": 271,
     "status": "ok",
     "timestamp": 1667628761299,
     "user": {
      "displayName": "Luis De la Cruz",
      "userId": "06724328066027297588"
     },
     "user_tz": 360
    },
    "id": "6zhS5bkfa3iW",
    "outputId": "cd2ecefe-791e-4450-c8f4-178f6843e61c"
   },
   "outputs": [
    {
     "data": {
      "text/plain": [
       "array([ 0,  1,  2,  3,  5,  6,  7,  9, 10])"
      ]
     },
     "execution_count": 6,
     "metadata": {},
     "output_type": "execute_result"
    }
   ],
   "source": [
    "categorical_features_indices"
   ]
  },
  {
   "cell_type": "markdown",
   "metadata": {
    "id": "knQEiuZqXSlJ"
   },
   "source": [
    "### 1.4 Data Splitting\n",
    "Let's split the train data into training and validation sets."
   ]
  },
  {
   "cell_type": "code",
   "execution_count": 7,
   "metadata": {
    "executionInfo": {
     "elapsed": 282,
     "status": "ok",
     "timestamp": 1667628776473,
     "user": {
      "displayName": "Luis De la Cruz",
      "userId": "06724328066027297588"
     },
     "user_tz": 360
    },
    "id": "9AX8TeO2XSlJ"
   },
   "outputs": [],
   "source": [
    "from sklearn.model_selection import train_test_split\n",
    "\n",
    "X_train, X_validation, y_train, y_validation = train_test_split(X, y, train_size=0.75, random_state=42)\n",
    "\n",
    "X_test = test_df"
   ]
  },
  {
   "cell_type": "markdown",
   "metadata": {
    "id": "laGUeka0XSlK"
   },
   "source": [
    "## $$2.\\ CatBoost\\ Basics$$"
   ]
  },
  {
   "cell_type": "markdown",
   "metadata": {
    "id": "xX5YsO8ZXSlK"
   },
   "source": [
    "Let's make necessary imports."
   ]
  },
  {
   "cell_type": "code",
   "execution_count": 8,
   "metadata": {
    "executionInfo": {
     "elapsed": 279,
     "status": "ok",
     "timestamp": 1667628779895,
     "user": {
      "displayName": "Luis De la Cruz",
      "userId": "06724328066027297588"
     },
     "user_tz": 360
    },
    "id": "fOb-YurdXSlK"
   },
   "outputs": [],
   "source": [
    "from catboost import CatBoostClassifier, Pool, metrics, cv\n",
    "from sklearn.metrics import accuracy_score"
   ]
  },
  {
   "cell_type": "markdown",
   "metadata": {
    "id": "r3J65vtGXSlK"
   },
   "source": [
    "### 2.1 Model Training\n",
    "Now let's create the model itself. We will go here with default parameters, as they provide a _really_ good baseline almost all the time. The only thing we would like to specify here is `custom_loss` parameter, as this would give us an ability to see what's going on in terms of this competition metric - accuracy, as well as to be able to watch for logloss, as it would be more smooth on dataset of such size."
   ]
  },
  {
   "cell_type": "code",
   "execution_count": 11,
   "metadata": {
    "executionInfo": {
     "elapsed": 258,
     "status": "ok",
     "timestamp": 1667628801552,
     "user": {
      "displayName": "Luis De la Cruz",
      "userId": "06724328066027297588"
     },
     "user_tz": 360
    },
    "id": "V3f5cwFGXSlK"
   },
   "outputs": [],
   "source": [
    "model = CatBoostClassifier(\n",
    "    custom_loss=[metrics.Accuracy()],\n",
    "    random_seed=42,\n",
    "    logging_level='Silent',\n",
    "    task_type=\"GPU\"\n",
    ")"
   ]
  },
  {
   "cell_type": "code",
   "execution_count": 13,
   "metadata": {
    "colab": {
     "base_uri": "https://localhost:8080/",
     "height": 17,
     "referenced_widgets": [
      "6a790c7880984d56b1078321143d7b51"
     ]
    },
    "executionInfo": {
     "elapsed": 8397,
     "status": "ok",
     "timestamp": 1667628898154,
     "user": {
      "displayName": "Luis De la Cruz",
      "userId": "06724328066027297588"
     },
     "user_tz": 360
    },
    "id": "rE3WYGWJXSlK",
    "outputId": "308f0b56-a6c9-4c96-8d21-079490f459a7",
    "scrolled": false
   },
   "outputs": [
    {
     "data": {
      "application/vnd.jupyter.widget-view+json": {
       "model_id": "0f5ce973135c46d7a8e25c32af814a94",
       "version_major": 2,
       "version_minor": 0
      },
      "text/plain": [
       "MetricVisualizer(layout=Layout(align_self='stretch', height='500px'))"
      ]
     },
     "metadata": {},
     "output_type": "display_data"
    }
   ],
   "source": [
    "model.fit(\n",
    "    X_train, y_train,\n",
    "    cat_features=categorical_features_indices,\n",
    "    eval_set=(X_validation, y_validation),\n",
    "#     logging_level='Verbose',  # you can uncomment this for text output\n",
    "    plot=True\n",
    ");"
   ]
  },
  {
   "cell_type": "markdown",
   "metadata": {
    "id": "Lem_RXRrXSlL"
   },
   "source": [
    "As you can see, it is possible to watch our model learn through verbose output or with nice plots (personally I would definately go with the second option - just check out those plots: you can, for example, zoom in areas of interest!)\n",
    "\n",
    "With this we can see that the best accuracy value of **0.8296** (on validation set) was acheived on **150** boosting step."
   ]
  },
  {
   "cell_type": "markdown",
   "metadata": {
    "id": "tG7LQHshXSlL"
   },
   "source": [
    "### 2.2 Model Cross-Validation\n",
    "\n",
    "It is good to validate your model, but to cross-validate it - even better. And also with plots! So with no more words:"
   ]
  },
  {
   "cell_type": "code",
   "execution_count": null,
   "metadata": {},
   "outputs": [],
   "source": []
  },
  {
   "cell_type": "code",
   "execution_count": 61,
   "metadata": {
    "id": "EqDfpaaIXSlL",
    "outputId": "07369b25-8e0d-4b4d-d094-fe4dc16c746b"
   },
   "outputs": [
    {
     "data": {
      "application/vnd.jupyter.widget-view+json": {
       "model_id": "57594555623d4830a1172ba215ba9751",
       "version_major": 2,
       "version_minor": 0
      },
      "text/plain": [
       "MetricVisualizer(layout=Layout(align_self='stretch', height='500px'))"
      ]
     },
     "metadata": {},
     "output_type": "display_data"
    },
    {
     "name": "stdout",
     "output_type": "stream",
     "text": [
      "Training on fold [0/3]\n",
      "\n",
      "bestTest = 0.835016835\n",
      "bestIteration = 55\n",
      "\n",
      "Training on fold [1/3]\n",
      "\n",
      "bestTest = 0.8451178451\n",
      "bestIteration = 58\n",
      "\n",
      "Training on fold [2/3]\n",
      "\n",
      "bestTest = 0.8249158249\n",
      "bestIteration = 41\n",
      "\n"
     ]
    }
   ],
   "source": [
    "cv_params = model.get_params()\n",
    "cv_params.update({\n",
    "    'loss_function': metrics.Logloss()\n",
    "})\n",
    "cv_data = cv(\n",
    "    Pool(X, y, cat_features=categorical_features_indices),\n",
    "    cv_params,\n",
    "    plot=True\n",
    ")"
   ]
  },
  {
   "cell_type": "markdown",
   "metadata": {
    "id": "2Cyc46V-XSlL"
   },
   "source": [
    "Now we have values of our loss functions at each boosting step averaged by 3 folds, which should provide us with a more accurate estimation of our model performance:"
   ]
  },
  {
   "cell_type": "code",
   "execution_count": 15,
   "metadata": {
    "id": "T0rfSsN-XSlL",
    "outputId": "e4373f44-39c3-4a27-bb5a-6f8087b9674c"
   },
   "outputs": [
    {
     "name": "stdout",
     "output_type": "stream",
     "text": [
      "Best validation accuracy score: 0.82±0.01 on step 596\n"
     ]
    }
   ],
   "source": [
    "print('Best validation accuracy score: {:.2f}±{:.2f} on step {}'.format(\n",
    "    np.max(cv_data['test-Accuracy-mean']),\n",
    "    cv_data['test-Accuracy-std'][np.argmax(cv_data['test-Accuracy-mean'])],\n",
    "    np.argmax(cv_data['test-Accuracy-mean'])\n",
    "))"
   ]
  },
  {
   "cell_type": "code",
   "execution_count": 16,
   "metadata": {
    "id": "uLpYREdgXSlL",
    "outputId": "0a9068b3-17d4-4fca-d9ee-235bea8445ef"
   },
   "outputs": [
    {
     "name": "stdout",
     "output_type": "stream",
     "text": [
      "Precise validation accuracy score: 0.8226711560044894\n"
     ]
    }
   ],
   "source": [
    "print('Precise validation accuracy score: {}'.format(np.max(cv_data['test-Accuracy-mean'])))"
   ]
  },
  {
   "cell_type": "markdown",
   "metadata": {
    "id": "AeqdrnqpXSlM"
   },
   "source": [
    "As we can see, our initial estimation of performance on single validation fold was too optimistic - that is why cross-validation is so important!"
   ]
  },
  {
   "cell_type": "markdown",
   "metadata": {
    "id": "iIM7xajwXSlM"
   },
   "source": [
    "### 2.3 Model Applying\n",
    "All you have to do to get predictions is"
   ]
  },
  {
   "cell_type": "code",
   "execution_count": 17,
   "metadata": {
    "id": "1B-OZmynXSlM",
    "outputId": "941aa035-0bdf-4c54-b8c0-5126ef09b239"
   },
   "outputs": [
    {
     "name": "stdout",
     "output_type": "stream",
     "text": [
      "[0 0 0 0 1 0 1 0 1 0]\n",
      "[[0.85657614 0.14342386]\n",
      " [0.75227713 0.24772287]\n",
      " [0.94740798 0.05259202]\n",
      " [0.87610284 0.12389716]\n",
      " [0.24742495 0.75257505]\n",
      " [0.88881247 0.11118753]\n",
      " [0.32890858 0.67109142]\n",
      " [0.84334827 0.15665173]\n",
      " [0.26891627 0.73108373]\n",
      " [0.89728803 0.10271197]]\n"
     ]
    }
   ],
   "source": [
    "predictions = model.predict(X_test)\n",
    "predictions_probs = model.predict_proba(X_test)\n",
    "print(predictions[:10])\n",
    "print(predictions_probs[:10])"
   ]
  },
  {
   "cell_type": "markdown",
   "metadata": {
    "id": "YdKwkzOsXSlM"
   },
   "source": [
    "But let's try to get a better predictions and Catboost features help us in it."
   ]
  },
  {
   "cell_type": "markdown",
   "metadata": {
    "id": "My-D-JMhXSlM"
   },
   "source": [
    "## $$3.\\ CatBoost\\ Features$$\n",
    "You may have noticed that on model creation step I've specified not only `custom_loss` but also `random_seed` parameter. That was done in order to make this notebook reproducible - by default catboost chooses some random value for seed:"
   ]
  },
  {
   "cell_type": "code",
   "execution_count": 18,
   "metadata": {
    "id": "OR2af-d3XSlM",
    "outputId": "6bbf748e-7b52-4920-eeac-7ae22f73d8dc"
   },
   "outputs": [
    {
     "name": "stdout",
     "output_type": "stream",
     "text": [
      "Random seed assigned for this model: 0\n"
     ]
    }
   ],
   "source": [
    "model_without_seed = CatBoostClassifier(iterations=10, logging_level='Silent')\n",
    "model_without_seed.fit(X, y, cat_features=categorical_features_indices)\n",
    "\n",
    "print('Random seed assigned for this model: {}'.format(model_without_seed.random_seed_))"
   ]
  },
  {
   "cell_type": "markdown",
   "metadata": {
    "id": "1r23U2EyXSlN"
   },
   "source": [
    "Let's define some params and create `Pool` for more convenience. It stores all information about dataset (features, labeles, categorical features indices, weights and and much more)."
   ]
  },
  {
   "cell_type": "code",
   "execution_count": 19,
   "metadata": {
    "id": "H-3zS_qYXSlN"
   },
   "outputs": [],
   "source": [
    "params = {\n",
    "    'iterations': 500,\n",
    "    'learning_rate': 0.1,\n",
    "    'eval_metric': metrics.Accuracy(),\n",
    "    'random_seed': 42,\n",
    "    'logging_level': 'Silent',\n",
    "    'use_best_model': False\n",
    "}\n",
    "train_pool = Pool(X_train, y_train, cat_features=categorical_features_indices)\n",
    "validate_pool = Pool(X_validation, y_validation, cat_features=categorical_features_indices)"
   ]
  },
  {
   "cell_type": "markdown",
   "metadata": {
    "id": "61s4n5LlXSlN"
   },
   "source": [
    "### 3.1 Using the best model\n",
    "If you essentially have a validation set, it's always better to use the `use_best_model` parameter during training. By default, this parameter is enabled. If it is enabled, the resulting trees ensemble is shrinking to the best iteration."
   ]
  },
  {
   "cell_type": "code",
   "execution_count": 20,
   "metadata": {
    "id": "p1UcWa6wXSlN",
    "outputId": "d960cd44-4bb6-44b2-c0b9-a8c2a09f99a5"
   },
   "outputs": [
    {
     "name": "stdout",
     "output_type": "stream",
     "text": [
      "Simple model validation accuracy: 0.7982\n",
      "\n",
      "Best model validation accuracy: 0.8251\n"
     ]
    }
   ],
   "source": [
    "model = CatBoostClassifier(**params)\n",
    "model.fit(train_pool, eval_set=validate_pool)\n",
    "\n",
    "best_model_params = params.copy()\n",
    "best_model_params.update({\n",
    "    'use_best_model': True\n",
    "})\n",
    "best_model = CatBoostClassifier(**best_model_params)\n",
    "best_model.fit(train_pool, eval_set=validate_pool);\n",
    "\n",
    "print('Simple model validation accuracy: {:.4}'.format(\n",
    "    accuracy_score(y_validation, model.predict(X_validation))\n",
    "))\n",
    "print('')\n",
    "\n",
    "print('Best model validation accuracy: {:.4}'.format(\n",
    "    accuracy_score(y_validation, best_model.predict(X_validation))\n",
    "))"
   ]
  },
  {
   "cell_type": "markdown",
   "metadata": {
    "id": "F-xWuT35XSlN"
   },
   "source": [
    "### 3.2 Early Stopping\n",
    "If you essentially have a validation set, it's always easier and better to use early stopping. This feature is similar to the previous one, but only in addition to improving the quality it still saves time."
   ]
  },
  {
   "cell_type": "code",
   "execution_count": 21,
   "metadata": {
    "id": "VDpbJbvCXSlN",
    "outputId": "0fb3ec10-508b-4dd3-81e3-63e691bfb5cf"
   },
   "outputs": [
    {
     "name": "stdout",
     "output_type": "stream",
     "text": [
      "CPU times: user 13.9 s, sys: 3.68 s, total: 17.6 s\n",
      "Wall time: 2.2 s\n"
     ]
    },
    {
     "data": {
      "text/plain": [
       "<catboost.core.CatBoostClassifier at 0x7f03ad0c2a50>"
      ]
     },
     "execution_count": 21,
     "metadata": {},
     "output_type": "execute_result"
    }
   ],
   "source": [
    "%%time\n",
    "model = CatBoostClassifier(**params)\n",
    "model.fit(train_pool, eval_set=validate_pool)"
   ]
  },
  {
   "cell_type": "code",
   "execution_count": 22,
   "metadata": {
    "id": "uiQUBJhLXSlO",
    "outputId": "8f7e55ea-42b3-4648-9edd-1a2ecba835c5"
   },
   "outputs": [
    {
     "name": "stdout",
     "output_type": "stream",
     "text": [
      "CPU times: user 1.8 s, sys: 688 ms, total: 2.49 s\n",
      "Wall time: 354 ms\n"
     ]
    },
    {
     "data": {
      "text/plain": [
       "<catboost.core.CatBoostClassifier at 0x7f03ad52d990>"
      ]
     },
     "execution_count": 22,
     "metadata": {},
     "output_type": "execute_result"
    }
   ],
   "source": [
    "%%time\n",
    "earlystop_params = params.copy()\n",
    "earlystop_params.update({\n",
    "    'od_type': 'Iter',\n",
    "    'od_wait': 40\n",
    "})\n",
    "earlystop_model = CatBoostClassifier(**earlystop_params)\n",
    "earlystop_model.fit(train_pool, eval_set=validate_pool);"
   ]
  },
  {
   "cell_type": "code",
   "execution_count": 23,
   "metadata": {
    "id": "SsibyOlCXSlO",
    "outputId": "0fcda8ab-0f8e-4942-f760-197679440886"
   },
   "outputs": [
    {
     "name": "stdout",
     "output_type": "stream",
     "text": [
      "Simple model tree count: 500\n",
      "Simple model validation accuracy: 0.7982\n",
      "\n",
      "Early-stopped model tree count: 82\n",
      "Early-stopped model validation accuracy: 0.8072\n"
     ]
    }
   ],
   "source": [
    "print('Simple model tree count: {}'.format(model.tree_count_))\n",
    "print('Simple model validation accuracy: {:.4}'.format(\n",
    "    accuracy_score(y_validation, model.predict(X_validation))\n",
    "))\n",
    "print('')\n",
    "\n",
    "print('Early-stopped model tree count: {}'.format(earlystop_model.tree_count_))\n",
    "print('Early-stopped model validation accuracy: {:.4}'.format(\n",
    "    accuracy_score(y_validation, earlystop_model.predict(X_validation))\n",
    "))"
   ]
  },
  {
   "cell_type": "markdown",
   "metadata": {
    "id": "3nyQ9kqoXSlO"
   },
   "source": [
    "So we get better quality in a shorter time.\n",
    "\n",
    "Though as was shown earlier simple validation scheme does not precisely describes model out-of-train score (may be biased because of dataset split) it is still nice to track model improvement dynamics - and thereby as we can see from this example it is really good to stop boosting process earlier (before the overfitting kicks in)"
   ]
  },
  {
   "cell_type": "markdown",
   "metadata": {
    "id": "VF51F4LQXSlO"
   },
   "source": [
    "### 3.3 Using Baseline\n",
    "It is posible to use pre-training results (baseline) for training."
   ]
  },
  {
   "cell_type": "code",
   "execution_count": 24,
   "metadata": {
    "id": "RohgME0MXSlO"
   },
   "outputs": [],
   "source": [
    "current_params = params.copy()\n",
    "current_params.update({\n",
    "    'iterations': 10\n",
    "})\n",
    "model = CatBoostClassifier(**current_params).fit(X_train, y_train, categorical_features_indices)\n",
    "# Get baseline (only with prediction_type='RawFormulaVal')\n",
    "baseline = model.predict(X_train, prediction_type='RawFormulaVal')\n",
    "# Fit new model\n",
    "model.fit(X_train, y_train, categorical_features_indices, baseline=baseline);"
   ]
  },
  {
   "cell_type": "markdown",
   "metadata": {
    "id": "0pxTJLHiXSlO"
   },
   "source": [
    "### 3.4 Snapshot Support\n",
    "Catboost supports snapshots. You can use it for recovering training after an interruption or for starting training with previous results. "
   ]
  },
  {
   "cell_type": "code",
   "execution_count": 25,
   "metadata": {
    "id": "9vX6RXTdXSlP",
    "outputId": "1a594b12-593d-49de-b802-5bbaf382d192"
   },
   "outputs": [
    {
     "name": "stdout",
     "output_type": "stream",
     "text": [
      "0:\tlearn: 0.8053892\ttest: 0.7937220\tbest: 0.7937220 (0)\ttotal: 6ms\tremaining: 24ms\n",
      "1:\tlearn: 0.8008982\ttest: 0.7982063\tbest: 0.7982063 (1)\ttotal: 13.3ms\tremaining: 19.9ms\n",
      "2:\tlearn: 0.8008982\ttest: 0.7937220\tbest: 0.7982063 (1)\ttotal: 16ms\tremaining: 10.6ms\n",
      "3:\tlearn: 0.8113772\ttest: 0.7892377\tbest: 0.7982063 (1)\ttotal: 20.2ms\tremaining: 5.06ms\n",
      "4:\tlearn: 0.8173653\ttest: 0.8026906\tbest: 0.8026906 (4)\ttotal: 21.5ms\tremaining: 0us\n",
      "\n",
      "bestTest = 0.802690583\n",
      "bestIteration = 4\n",
      "\n",
      "5:\tlearn: 0.8173653\ttest: 0.8026906\tbest: 0.8026906 (4)\ttotal: 23.9ms\tremaining: 9.36ms\n",
      "6:\tlearn: 0.8248503\ttest: 0.8026906\tbest: 0.8026906 (4)\ttotal: 26.9ms\tremaining: 7.97ms\n",
      "7:\tlearn: 0.8233533\ttest: 0.8026906\tbest: 0.8026906 (4)\ttotal: 29.6ms\tremaining: 5.36ms\n",
      "8:\tlearn: 0.8233533\ttest: 0.8026906\tbest: 0.8026906 (4)\ttotal: 30.1ms\tremaining: 2.15ms\n",
      "9:\tlearn: 0.8233533\ttest: 0.8026906\tbest: 0.8026906 (4)\ttotal: 32.2ms\tremaining: 0us\n",
      "\n",
      "bestTest = 0.802690583\n",
      "bestIteration = 4\n",
      "\n"
     ]
    }
   ],
   "source": [
    "params_with_snapshot = params.copy()\n",
    "params_with_snapshot.update({\n",
    "    'iterations': 5,\n",
    "    'learning_rate': 0.5,\n",
    "    'logging_level': 'Verbose'\n",
    "})\n",
    "model = CatBoostClassifier(**params_with_snapshot).fit(train_pool, eval_set=validate_pool, \n",
    "                                                       save_snapshot=True)\n",
    "params_with_snapshot.update({\n",
    "    'iterations': 10,\n",
    "    'learning_rate': 0.1,\n",
    "})\n",
    "model = CatBoostClassifier(**params_with_snapshot).fit(train_pool, eval_set=validate_pool, \n",
    "                                                       save_snapshot=True)"
   ]
  },
  {
   "cell_type": "markdown",
   "metadata": {
    "id": "ws0hEus1XSlP"
   },
   "source": [
    "### 3.5 User Defined Objective Function\n",
    "It is possible to create your own objective function. Let's create logloss objective function."
   ]
  },
  {
   "cell_type": "code",
   "execution_count": 30,
   "metadata": {
    "id": "F18hu92JXSlP"
   },
   "outputs": [],
   "source": [
    "# for performance reasons it is better to install `numba` package for working with user defined functions\n",
    "# !pip install numba"
   ]
  },
  {
   "cell_type": "code",
   "execution_count": 31,
   "metadata": {
    "id": "W5AtwiCKXSlP"
   },
   "outputs": [],
   "source": [
    "class LoglossObjective(object):\n",
    "    def calc_ders_range(self, approxes, targets, weights):\n",
    "        # approxes, targets, weights are indexed containers of floats\n",
    "        # (containers which have only __len__ and __getitem__ defined).\n",
    "        # weights parameter can be None.\n",
    "        #\n",
    "        # To understand what these parameters mean, assume that there is\n",
    "        # a subset of your dataset that is currently being processed.\n",
    "        # approxes contains current predictions for this subset,\n",
    "        # targets contains target values you provided with the dataset.\n",
    "        #\n",
    "        # This function should return a list of pairs (der1, der2), where\n",
    "        # der1 is the first derivative of the loss function with respect\n",
    "        # to the predicted value, and der2 is the second derivative.\n",
    "        #\n",
    "        # In our case, logloss is defined by the following formula:\n",
    "        # target * log(sigmoid(approx)) + (1 - target) * (1 - sigmoid(approx))\n",
    "        # where sigmoid(x) = 1 / (1 + e^(-x)).\n",
    "        \n",
    "        assert len(approxes) == len(targets)\n",
    "        if weights is not None:\n",
    "            assert len(weights) == len(approxes)\n",
    "        \n",
    "        result = []\n",
    "        for index in range(len(targets)):\n",
    "            e = np.exp(approxes[index])\n",
    "            p = e / (1 + e)\n",
    "            der1 = (1 - p) if targets[index] > 0.0 else -p\n",
    "            der2 = -p * (1 - p)\n",
    "\n",
    "            if weights is not None:\n",
    "                der1 *= weights[index]\n",
    "                der2 *= weights[index]\n",
    "\n",
    "            result.append((der1, der2))\n",
    "        return result"
   ]
  },
  {
   "cell_type": "code",
   "execution_count": 32,
   "metadata": {
    "id": "e0ctC2kLXSlP",
    "outputId": "204b56d8-6172-4ef3-e972-d0d7dcc5978e"
   },
   "outputs": [
    {
     "name": "stdout",
     "output_type": "stream",
     "text": [
      "0:\tlearn: 0.6827074\ttotal: 371ms\tremaining: 3.34s\n",
      "1:\tlearn: 0.6723302\ttotal: 373ms\tremaining: 1.49s\n",
      "2:\tlearn: 0.6619449\ttotal: 374ms\tremaining: 873ms\n",
      "3:\tlearn: 0.6521466\ttotal: 376ms\tremaining: 564ms\n",
      "4:\tlearn: 0.6435227\ttotal: 378ms\tremaining: 378ms\n",
      "5:\tlearn: 0.6353848\ttotal: 380ms\tremaining: 253ms\n",
      "6:\tlearn: 0.6277210\ttotal: 383ms\tremaining: 164ms\n",
      "7:\tlearn: 0.6210282\ttotal: 384ms\tremaining: 96ms\n",
      "8:\tlearn: 0.6141958\ttotal: 386ms\tremaining: 42.8ms\n",
      "9:\tlearn: 0.6073236\ttotal: 388ms\tremaining: 0us\n"
     ]
    }
   ],
   "source": [
    "model = CatBoostClassifier(\n",
    "    iterations=10,\n",
    "    random_seed=42, \n",
    "    loss_function=LoglossObjective(), \n",
    "    eval_metric=metrics.Logloss()\n",
    ")\n",
    "# Fit model\n",
    "model.fit(train_pool)\n",
    "# Only prediction_type='RawFormulaVal' is allowed with custom `loss_function`\n",
    "preds_raw = model.predict(X_test, prediction_type='RawFormulaVal')"
   ]
  },
  {
   "cell_type": "markdown",
   "metadata": {
    "id": "2BIiFFnuXSlQ"
   },
   "source": [
    "### 3.6 User Defined Metric Function\n",
    "Also it is possible to create your own metric function. Let's create logloss metric function."
   ]
  },
  {
   "cell_type": "code",
   "execution_count": 33,
   "metadata": {
    "id": "5io62yT5XSlQ"
   },
   "outputs": [],
   "source": [
    "class LoglossMetric(object):\n",
    "    def get_final_error(self, error, weight):\n",
    "        return error / (weight + 1e-38)\n",
    "\n",
    "    def is_max_optimal(self):\n",
    "        return False\n",
    "\n",
    "    def evaluate(self, approxes, target, weight):\n",
    "        # approxes is a list of indexed containers\n",
    "        # (containers with only __len__ and __getitem__ defined),\n",
    "        # one container per approx dimension.\n",
    "        # Each container contains floats.\n",
    "        # weight is a one dimensional indexed container.\n",
    "        # target is float.\n",
    "        \n",
    "        # weight parameter can be None.\n",
    "        # Returns pair (error, weights sum)\n",
    "        \n",
    "        assert len(approxes) == 1\n",
    "        assert len(target) == len(approxes[0])\n",
    "\n",
    "        approx = approxes[0]\n",
    "\n",
    "        error_sum = 0.0\n",
    "        weight_sum = 0.0\n",
    "\n",
    "        for i in range(len(approx)):\n",
    "            w = 1.0 if weight is None else weight[i]\n",
    "            weight_sum += w\n",
    "            error_sum += -w * (target[i] * approx[i] - np.log(1 + np.exp(approx[i])))\n",
    "\n",
    "        return error_sum, weight_sum"
   ]
  },
  {
   "cell_type": "code",
   "execution_count": 34,
   "metadata": {
    "id": "RfUVFfIfXSlQ",
    "outputId": "d9953825-7cb6-4b34-e90a-34b634995ef6"
   },
   "outputs": [
    {
     "name": "stdout",
     "output_type": "stream",
     "text": [
      "Learning rate set to 0.5\n",
      "0:\tlearn: 0.5521578\ttotal: 155ms\tremaining: 1.4s\n",
      "1:\tlearn: 0.4885686\ttotal: 157ms\tremaining: 627ms\n",
      "2:\tlearn: 0.4607664\ttotal: 158ms\tremaining: 370ms\n",
      "3:\tlearn: 0.4418819\ttotal: 160ms\tremaining: 239ms\n",
      "4:\tlearn: 0.4278162\ttotal: 162ms\tremaining: 162ms\n",
      "5:\tlearn: 0.4151036\ttotal: 164ms\tremaining: 109ms\n",
      "6:\tlearn: 0.4099336\ttotal: 166ms\tremaining: 71.1ms\n",
      "7:\tlearn: 0.4095363\ttotal: 167ms\tremaining: 41.8ms\n",
      "8:\tlearn: 0.4032867\ttotal: 170ms\tremaining: 18.9ms\n",
      "9:\tlearn: 0.3929586\ttotal: 171ms\tremaining: 0us\n"
     ]
    }
   ],
   "source": [
    "model = CatBoostClassifier(\n",
    "    iterations=10,\n",
    "    random_seed=42, \n",
    "    loss_function=metrics.Logloss(),\n",
    "    eval_metric=LoglossMetric()\n",
    ")\n",
    "# Fit model\n",
    "model.fit(train_pool)\n",
    "# Only prediction_type='RawFormulaVal' is allowed with custom `loss_function`\n",
    "preds_raw = model.predict(X_test, prediction_type='RawFormulaVal')"
   ]
  },
  {
   "cell_type": "markdown",
   "metadata": {
    "id": "yC037k5dXSlQ"
   },
   "source": [
    "### 3.7 Staged Predict\n",
    "CatBoost model has `staged_predict` method. It allows you to iteratively get predictions for a given range of trees."
   ]
  },
  {
   "cell_type": "code",
   "execution_count": 35,
   "metadata": {
    "id": "OiR7VSOjXSlQ",
    "outputId": "02fb6781-b7b6-4c7e-aa86-7eec6fbd35e3"
   },
   "outputs": [
    {
     "name": "stdout",
     "output_type": "stream",
     "text": [
      "First class probabilities using the first 3 trees: [0.53597869 0.41039128 0.42057479 0.64281031 0.46576685]\n",
      "First class probabilities using the first 5 trees: [0.63722688 0.42492029 0.46209302 0.70926021 0.44280772]\n",
      "First class probabilities using the first 7 trees: [0.66964764 0.42409144 0.46124982 0.76101033 0.47205986]\n"
     ]
    }
   ],
   "source": [
    "model = CatBoostClassifier(iterations=10, random_seed=42, logging_level='Silent').fit(train_pool)\n",
    "ntree_start, ntree_end, eval_period = 3, 9, 2\n",
    "predictions_iterator = model.staged_predict(validate_pool, 'Probability', \n",
    "                                            ntree_start, ntree_end, \n",
    "                                            eval_period)\n",
    "for preds, tree_count in zip(predictions_iterator, range(ntree_start, ntree_end, eval_period)):\n",
    "    print('First class probabilities using the first {} trees: {}'.format(tree_count, preds[:5, 1]))"
   ]
  },
  {
   "cell_type": "markdown",
   "metadata": {
    "id": "sUQ7yiW0XSlR"
   },
   "source": [
    "### 3.8 Feature Importances\n",
    "Sometimes it is very important to understand which feature made the greatest contribution to the final result. To do this, the CatBoost model has a `get_feature_importance` method."
   ]
  },
  {
   "cell_type": "code",
   "execution_count": 36,
   "metadata": {
    "id": "IatYZ-gXXSlR",
    "outputId": "1c3776b5-466b-4cf5-8de3-4763e9a40887"
   },
   "outputs": [
    {
     "name": "stdout",
     "output_type": "stream",
     "text": [
      "Sex: 59.004092014268586\n",
      "Pclass: 16.340887169747035\n",
      "Ticket: 6.028107169932204\n",
      "Cabin: 3.8347242202560192\n",
      "Fare: 3.712969667934384\n",
      "Age: 3.484451204182482\n",
      "Parch: 3.378089740355865\n",
      "Embarked: 2.3139994072899555\n",
      "SibSp: 1.9026794060334504\n",
      "PassengerId: 0.0\n",
      "Name: 0.0\n"
     ]
    }
   ],
   "source": [
    "model = CatBoostClassifier(iterations=50, random_seed=42, logging_level='Silent').fit(train_pool)\n",
    "feature_importances = model.get_feature_importance(train_pool)\n",
    "feature_names = X_train.columns\n",
    "for score, name in sorted(zip(feature_importances, feature_names), reverse=True):\n",
    "    print('{}: {}'.format(name, score))"
   ]
  },
  {
   "cell_type": "markdown",
   "metadata": {
    "id": "yUO6HVEAXSlR"
   },
   "source": [
    "This shows that features **`Sex`** and **`Pclass`** had the biggest influence on the result."
   ]
  },
  {
   "cell_type": "markdown",
   "metadata": {
    "id": "06ipsJBiXSlR"
   },
   "source": [
    "### 3.9 Eval Metrics\n",
    "The CatBoost has a `eval_metrics` method that allows to calculate a given metrics on a given dataset. And to draw them of course:)"
   ]
  },
  {
   "cell_type": "code",
   "execution_count": 40,
   "metadata": {
    "id": "8fb86Q9kXSlS",
    "outputId": "56fdaef3-7ee8-47eb-c7a2-26ff096cefbb"
   },
   "outputs": [
    {
     "data": {
      "application/vnd.jupyter.widget-view+json": {
       "model_id": "dfd2b3e088834817b4e2141d9c4aaf83",
       "version_major": 2,
       "version_minor": 0
      },
      "text/plain": [
       "MetricVisualizer(layout=Layout(align_self='stretch', height='500px'))"
      ]
     },
     "metadata": {},
     "output_type": "display_data"
    }
   ],
   "source": [
    "model = CatBoostClassifier(iterations=50, random_seed=42, logging_level='Silent').fit(train_pool)\n",
    "eval_metrics = model.eval_metrics(validate_pool, [metrics.AUC()], plot=True)"
   ]
  },
  {
   "cell_type": "code",
   "execution_count": 41,
   "metadata": {
    "id": "pxQ2ezcHXSlS",
    "outputId": "3a2fe523-e02d-4c58-cd19-8261dd8e7626"
   },
   "outputs": [
    {
     "name": "stdout",
     "output_type": "stream",
     "text": [
      "[0.8627368774106994, 0.8623176253563642, 0.8602213650846889, 0.8514170719436525, 0.8495723629045783, 0.8569092738554419]\n"
     ]
    }
   ],
   "source": [
    "print(eval_metrics['AUC'][:6])"
   ]
  },
  {
   "cell_type": "markdown",
   "metadata": {
    "id": "uyoP2gqlXSlS"
   },
   "source": [
    "### 3.10 Learning Processes Comparison\n",
    "You can also compare different models learning process on a single plot."
   ]
  },
  {
   "cell_type": "code",
   "execution_count": 42,
   "metadata": {
    "id": "aTrHJhiaXSlS"
   },
   "outputs": [],
   "source": [
    "model1 = CatBoostClassifier(iterations=100, depth=1, train_dir='model_depth_1/', \n",
    "                            logging_level='Silent')\n",
    "model1.fit(train_pool, eval_set=validate_pool)\n",
    "model2 = CatBoostClassifier(iterations=100, depth=5, train_dir='model_depth_5/', \n",
    "                            logging_level='Silent')\n",
    "model2.fit(train_pool, eval_set=validate_pool);"
   ]
  },
  {
   "cell_type": "code",
   "execution_count": 43,
   "metadata": {
    "id": "Q-UgO8f7XSlT",
    "outputId": "74216c26-60ce-4224-9d48-c4d7aa8d011b"
   },
   "outputs": [
    {
     "data": {
      "application/vnd.jupyter.widget-view+json": {
       "model_id": "80e90f269fe94f69829d746a8b6cfee4",
       "version_major": 2,
       "version_minor": 0
      },
      "text/plain": [
       "MetricVisualizer(layout=Layout(align_self='stretch', height='500px'))"
      ]
     },
     "metadata": {},
     "output_type": "display_data"
    }
   ],
   "source": [
    "from catboost import MetricVisualizer\n",
    "widget = MetricVisualizer(['model_depth_1', 'model_depth_5'])\n",
    "widget.start()"
   ]
  },
  {
   "cell_type": "markdown",
   "metadata": {
    "id": "vXwvWJ58XSlT"
   },
   "source": [
    "### 3.11 Model Saving\n",
    "It is always really handy to be able to dump your model to disk (especially if training took some time)."
   ]
  },
  {
   "cell_type": "code",
   "execution_count": null,
   "metadata": {
    "id": "BAh_tMTYXSlT"
   },
   "outputs": [],
   "source": [
    "model = CatBoostClassifier(iterations=10, random_seed=42, logging_level='Silent').fit(train_pool)\n",
    "model.save_model('catboost_model.dump')\n",
    "model = CatBoostClassifier()\n",
    "model.load_model('catboost_model.dump');"
   ]
  },
  {
   "cell_type": "markdown",
   "metadata": {
    "id": "X2PQjnN-XSlU"
   },
   "source": [
    "# $$4.\\ Parameters\\ Tuning$$\n",
    "While you could always select optimal number of iterations (boosting steps) by cross-validation and learning curve plots, it is also important to play with some of model parameters, and we would like to pay some special attention to `l2_leaf_reg` and `learning_rate`.\n",
    "\n",
    "In this section, we'll select these parameters using the **`hyperopt`** package."
   ]
  },
  {
   "cell_type": "code",
   "execution_count": 45,
   "metadata": {
    "id": "15rFmuTCXSlU"
   },
   "outputs": [],
   "source": [
    "# !pip install hyperopt"
   ]
  },
  {
   "cell_type": "code",
   "execution_count": 46,
   "metadata": {
    "id": "jSySpOnxXSlU"
   },
   "outputs": [],
   "source": [
    "import hyperopt\n",
    "\n",
    "def hyperopt_objective(params):\n",
    "    model = CatBoostClassifier(\n",
    "        l2_leaf_reg=int(params['l2_leaf_reg']),\n",
    "        learning_rate=params['learning_rate'],\n",
    "        iterations=500,\n",
    "        eval_metric=metrics.Accuracy(),\n",
    "        random_seed=42,\n",
    "        verbose=False,\n",
    "        loss_function=metrics.Logloss(),\n",
    "    )\n",
    "    \n",
    "    cv_data = cv(\n",
    "        Pool(X, y, cat_features=categorical_features_indices),\n",
    "        model.get_params(),\n",
    "        logging_level='Silent',\n",
    "    )\n",
    "    best_accuracy = np.max(cv_data['test-Accuracy-mean'])\n",
    "    \n",
    "    return 1 - best_accuracy # as hyperopt minimises"
   ]
  },
  {
   "cell_type": "code",
   "execution_count": 51,
   "metadata": {
    "id": "cA1JJfmBXSlU",
    "outputId": "499cdcd7-e666-4a8d-e1e3-6c3964391958",
    "scrolled": true
   },
   "outputs": [
    {
     "name": "stdout",
     "output_type": "stream",
     "text": [
      "100%|████████████████████████████████████████████████| 50/50 [07:00<00:00,  8.42s/trial, best loss: 0.16835016835016825]\n",
      "{'l2_leaf_reg': 3.0, 'learning_rate': 0.31169226963487207}\n"
     ]
    }
   ],
   "source": [
    "params_space = {\n",
    "    'l2_leaf_reg': hyperopt.hp.qloguniform('l2_leaf_reg', 0, 2, 1),\n",
    "    'learning_rate': hyperopt.hp.uniform('learning_rate', 1e-3, 5e-1),\n",
    "}\n",
    "\n",
    "trials = hyperopt.Trials()\n",
    "\n",
    "best = hyperopt.fmin(\n",
    "    hyperopt_objective,\n",
    "    space=params_space,\n",
    "    algo=hyperopt.tpe.suggest,\n",
    "    max_evals=50,\n",
    "    trials=trials,\n",
    "    rstate=np.random.default_rng(123)\n",
    ")\n",
    "\n",
    "print(best)"
   ]
  },
  {
   "cell_type": "code",
   "execution_count": 53,
   "metadata": {},
   "outputs": [
    {
     "data": {
      "text/plain": [
       "0.31169226963487207"
      ]
     },
     "execution_count": 53,
     "metadata": {},
     "output_type": "execute_result"
    }
   ],
   "source": [
    "best['learning_rate']"
   ]
  },
  {
   "cell_type": "markdown",
   "metadata": {
    "id": "qtO7NnUXXSlV"
   },
   "source": [
    "Now let's get all cv data with best parameters:"
   ]
  },
  {
   "cell_type": "code",
   "execution_count": 55,
   "metadata": {
    "id": "0zHA6B9_XSlV",
    "outputId": "8d4b2119-b0f4-4e20-929b-f87cdf8511f2"
   },
   "outputs": [
    {
     "name": "stdout",
     "output_type": "stream",
     "text": [
      "Training on fold [0/3]\n",
      "\n",
      "bestTest = 0.835016835\n",
      "bestIteration = 55\n",
      "\n",
      "Training on fold [1/3]\n",
      "\n",
      "bestTest = 0.8451178451\n",
      "bestIteration = 58\n",
      "\n",
      "Training on fold [2/3]\n",
      "\n",
      "bestTest = 0.8249158249\n",
      "bestIteration = 41\n",
      "\n"
     ]
    }
   ],
   "source": [
    "model = CatBoostClassifier(\n",
    "    l2_leaf_reg=int(best['l2_leaf_reg']),\n",
    "    learning_rate=best['learning_rate'],\n",
    "    iterations=500,\n",
    "    eval_metric=metrics.Accuracy(),\n",
    "    random_seed=42,\n",
    "    verbose=False,\n",
    "    loss_function=metrics.Logloss()\n",
    ")\n",
    "cv_data = cv(Pool(X, y, cat_features=categorical_features_indices), model.get_params())"
   ]
  },
  {
   "cell_type": "code",
   "execution_count": 56,
   "metadata": {
    "id": "VywMV5caXSlV",
    "outputId": "3c2ac2cd-c4de-43d7-ad12-697c019c4ae8"
   },
   "outputs": [
    {
     "name": "stdout",
     "output_type": "stream",
     "text": [
      "Precise validation accuracy score: 0.8316498316498318\n"
     ]
    }
   ],
   "source": [
    "print('Precise validation accuracy score: {}'.format(np.max(cv_data['test-Accuracy-mean'])))"
   ]
  },
  {
   "cell_type": "markdown",
   "metadata": {
    "id": "Qcepmhl6XSlV"
   },
   "source": [
    "Recall that with default parameters out cv score was 0.8283, and thereby we have (probably not statistically significant) some improvement."
   ]
  },
  {
   "cell_type": "markdown",
   "metadata": {
    "id": "4BYzFshAXSlV"
   },
   "source": [
    "### Make submission\n",
    "Now we would re-train our tuned model on all train data that we have"
   ]
  },
  {
   "cell_type": "code",
   "execution_count": null,
   "metadata": {
    "id": "Fa8IKgPaXSlV",
    "outputId": "941f4df0-d414-4f01-e4a4-c9e199d294f6"
   },
   "outputs": [
    {
     "data": {
      "text/plain": [
       "<catboost.core.CatBoostClassifier at 0x7fa2c200feb0>"
      ]
     },
     "execution_count": 81,
     "metadata": {},
     "output_type": "execute_result"
    }
   ],
   "source": [
    "model.fit(X, y, cat_features=categorical_features_indices)"
   ]
  },
  {
   "cell_type": "markdown",
   "metadata": {
    "id": "TvTbRd7zXSlV"
   },
   "source": [
    "And finally let's prepare the submission file:"
   ]
  },
  {
   "cell_type": "code",
   "execution_count": null,
   "metadata": {
    "id": "IvJsaZyxXSlW"
   },
   "outputs": [],
   "source": [
    "import pandas as pd\n",
    "submisstion = pd.DataFrame()\n",
    "submisstion['PassengerId'] = X_test['PassengerId']\n",
    "submisstion['Survived'] = model.predict(X_test)"
   ]
  },
  {
   "cell_type": "code",
   "execution_count": null,
   "metadata": {
    "id": "B_vbA2FsXSlW"
   },
   "outputs": [],
   "source": [
    "submisstion.to_csv('submission.csv', index=False)"
   ]
  },
  {
   "cell_type": "markdown",
   "metadata": {
    "id": "M_aR_T0eXSlW"
   },
   "source": [
    "Finally you can make submission at [Titanic Kaggle competition](https://www.kaggle.com/c/titanic).\n",
    "\n",
    "That's it! Now you can play around with CatBoost and win some competitions! :)"
   ]
  }
 ],
 "metadata": {
  "colab": {
   "collapsed_sections": [
    "tG7LQHshXSlL",
    "iIM7xajwXSlM",
    "61s4n5LlXSlN",
    "F-xWuT35XSlN",
    "VF51F4LQXSlO",
    "0pxTJLHiXSlO",
    "ws0hEus1XSlP",
    "2BIiFFnuXSlQ",
    "yC037k5dXSlQ",
    "sUQ7yiW0XSlR",
    "06ipsJBiXSlR",
    "uyoP2gqlXSlS",
    "vXwvWJ58XSlT",
    "4BYzFshAXSlV"
   ],
   "provenance": [
    {
     "file_id": "https://github.com/catboost/tutorials/blob/master/python_tutorial.ipynb",
     "timestamp": 1667627828515
    }
   ]
  },
  "kernelspec": {
   "display_name": "Python 3 (ipykernel)",
   "language": "python",
   "name": "python3"
  },
  "language_info": {
   "codemirror_mode": {
    "name": "ipython",
    "version": 3
   },
   "file_extension": ".py",
   "mimetype": "text/x-python",
   "name": "python",
   "nbconvert_exporter": "python",
   "pygments_lexer": "ipython3",
   "version": "3.7.13"
  },
  "widgets": {
   "application/vnd.jupyter.widget-state+json": {
    "6a790c7880984d56b1078321143d7b51": {
     "model_module": "catboost-widget",
     "model_module_version": "^1.0.0",
     "model_name": "CatboostWidgetModel",
     "state": {
      "_dom_classes": [],
      "_model_module": "catboost-widget",
      "_model_module_version": "^1.0.0",
      "_model_name": "CatboostWidgetModel",
      "_view_count": null,
      "_view_module": "catboost-widget",
      "_view_module_version": "^1.0.0",
      "_view_name": "CatboostWidgetView",
      "data": {
       "catboost_info": {
        "content": {
         "data": {
          "iterations": [
           {
            "iteration": 0,
            "learn": [
             0.6739988153,
             0.8083832335
            ],
            "passed_time": 0.05888431866,
            "remaining_time": 58.82543434,
            "test": [
             0.6742629598,
             0.7937219731
            ]
           },
           {
            "iteration": 1,
            "learn": [
             0.658901298,
             0.8053892216
            ],
            "passed_time": 0.06295937449,
            "remaining_time": 31.41672787,
            "test": [
             0.6592240444,
             0.7892376682
            ]
           },
           {
            "iteration": 2,
            "learn": [
             0.6421502329,
             0.8293413174
            ],
            "passed_time": 0.07102447782,
            "remaining_time": 23.60380146,
            "test": [
             0.6426777534,
             0.8071748879
            ]
           },
           {
            "iteration": 3,
            "learn": [
             0.6297275936,
             0.8203592814
            ],
            "passed_time": 0.07624115161,
            "remaining_time": 18.98404675,
            "test": [
             0.6302309923,
             0.8116591928
            ]
           },
           {
            "iteration": 4,
            "learn": [
             0.6147184481,
             0.8308383234
            ],
            "passed_time": 0.08265506881,
            "remaining_time": 16.44835869,
            "test": [
             0.619822804,
             0.8116591928
            ]
           },
           {
            "iteration": 5,
            "learn": [
             0.6017730091,
             0.8293413174
            ],
            "passed_time": 0.08917444182,
            "remaining_time": 14.77323253,
            "test": [
             0.6073627312,
             0.802690583
            ]
           },
           {
            "iteration": 6,
            "learn": [
             0.588530858,
             0.8383233533
            ],
            "passed_time": 0.09607471306,
            "remaining_time": 13.6288843,
            "test": [
             0.5955999679,
             0.802690583
            ]
           },
           {
            "iteration": 7,
            "learn": [
             0.5783200316,
             0.8353293413
            ],
            "passed_time": 0.1031765369,
            "remaining_time": 12.79389057,
            "test": [
             0.5858523201,
             0.8161434978
            ]
           },
           {
            "iteration": 8,
            "learn": [
             0.5665894651,
             0.8293413174
            ],
            "passed_time": 0.1094072727,
            "remaining_time": 12.04695636,
            "test": [
             0.5743842273,
             0.8071748879
            ]
           },
           {
            "iteration": 9,
            "learn": [
             0.5575381153,
             0.8293413174
            ],
            "passed_time": 0.1163017666,
            "remaining_time": 11.51387489,
            "test": [
             0.5662283061,
             0.8071748879
            ]
           },
           {
            "iteration": 10,
            "learn": [
             0.5491044966,
             0.8308383234
            ],
            "passed_time": 0.1237172966,
            "remaining_time": 11.12330966,
            "test": [
             0.557517627,
             0.8071748879
            ]
           },
           {
            "iteration": 11,
            "learn": [
             0.5423887152,
             0.8338323353
            ],
            "passed_time": 0.1277321258,
            "remaining_time": 10.51661169,
            "test": [
             0.5505904503,
             0.8116591928
            ]
           },
           {
            "iteration": 12,
            "learn": [
             0.5354629406,
             0.8323353293
            ],
            "passed_time": 0.1329012705,
            "remaining_time": 10.09027338,
            "test": [
             0.5428797429,
             0.8116591928
            ]
           },
           {
            "iteration": 13,
            "learn": [
             0.5283279488,
             0.8278443114
            ],
            "passed_time": 0.1381708813,
            "remaining_time": 9.731177782,
            "test": [
             0.5360936696,
             0.8116591928
            ]
           },
           {
            "iteration": 14,
            "learn": [
             0.5217500657,
             0.8278443114
            ],
            "passed_time": 0.1446225313,
            "remaining_time": 9.496879558,
            "test": [
             0.5293871883,
             0.8116591928
            ]
           },
           {
            "iteration": 15,
            "learn": [
             0.5157272476,
             0.8248502994
            ],
            "passed_time": 0.1511430456,
            "remaining_time": 9.295297306,
            "test": [
             0.5239491845,
             0.8161434978
            ]
           },
           {
            "iteration": 16,
            "learn": [
             0.5089750124,
             0.8248502994
            ],
            "passed_time": 0.1582188973,
            "remaining_time": 9.148775061,
            "test": [
             0.5185852372,
             0.8161434978
            ]
           },
           {
            "iteration": 17,
            "learn": [
             0.5032450866,
             0.8263473054
            ],
            "passed_time": 0.1650863195,
            "remaining_time": 9.006375875,
            "test": [
             0.5128040819,
             0.8116591928
            ]
           },
           {
            "iteration": 18,
            "learn": [
             0.4970473099,
             0.8248502994
            ],
            "passed_time": 0.1719038137,
            "remaining_time": 8.875665326,
            "test": [
             0.5071750989,
             0.8206278027
            ]
           },
           {
            "iteration": 19,
            "learn": [
             0.4921670284,
             0.8233532934
            ],
            "passed_time": 0.1755598648,
            "remaining_time": 8.602433375,
            "test": [
             0.5028565174,
             0.8206278027
            ]
           },
           {
            "iteration": 20,
            "learn": [
             0.4874681132,
             0.8233532934
            ],
            "passed_time": 0.1825589154,
            "remaining_time": 8.51072277,
            "test": [
             0.4980756984,
             0.8206278027
            ]
           },
           {
            "iteration": 21,
            "learn": [
             0.4846682935,
             0.8233532934
            ],
            "passed_time": 0.1921538395,
            "remaining_time": 8.542111592,
            "test": [
             0.4955480539,
             0.8161434978
            ]
           },
           {
            "iteration": 22,
            "learn": [
             0.4800380917,
             0.8203592814
            ],
            "passed_time": 0.1996330327,
            "remaining_time": 8.48006404,
            "test": [
             0.4916633636,
             0.8206278027
            ]
           },
           {
            "iteration": 23,
            "learn": [
             0.4752794238,
             0.8233532934
            ],
            "passed_time": 0.2101248015,
            "remaining_time": 8.545075259,
            "test": [
             0.4882001783,
             0.8206278027
            ]
           },
           {
            "iteration": 24,
            "learn": [
             0.4716137142,
             0.8263473054
            ],
            "passed_time": 0.2162215627,
            "remaining_time": 8.432640945,
            "test": [
             0.4852623768,
             0.8206278027
            ]
           },
           {
            "iteration": 25,
            "learn": [
             0.4688795262,
             0.8248502994
            ],
            "passed_time": 0.2190442278,
            "remaining_time": 8.205733764,
            "test": [
             0.4824286327,
             0.8206278027
            ]
           },
           {
            "iteration": 26,
            "learn": [
             0.4646352332,
             0.8248502994
            ],
            "passed_time": 0.2265512976,
            "remaining_time": 8.164237501,
            "test": [
             0.4794210813,
             0.8206278027
            ]
           },
           {
            "iteration": 27,
            "learn": [
             0.4622311315,
             0.8248502994
            ],
            "passed_time": 0.2295216188,
            "remaining_time": 7.967679051,
            "test": [
             0.4769200836,
             0.8206278027
            ]
           },
           {
            "iteration": 28,
            "learn": [
             0.4584012853,
             0.8248502994
            ],
            "passed_time": 0.2358023745,
            "remaining_time": 7.895313987,
            "test": [
             0.4743519005,
             0.8161434978
            ]
           },
           {
            "iteration": 29,
            "learn": [
             0.4535303567,
             0.8278443114
            ],
            "passed_time": 0.2426719366,
            "remaining_time": 7.846392616,
            "test": [
             0.4717948036,
             0.8161434978
            ]
           },
           {
            "iteration": 30,
            "learn": [
             0.4507849239,
             0.8278443114
            ],
            "passed_time": 0.249600998,
            "remaining_time": 7.802044098,
            "test": [
             0.4696368113,
             0.8161434978
            ]
           },
           {
            "iteration": 31,
            "learn": [
             0.4497373858,
             0.8308383234
            ],
            "passed_time": 0.2538031429,
            "remaining_time": 7.677545073,
            "test": [
             0.4685334681,
             0.8161434978
            ]
           },
           {
            "iteration": 32,
            "learn": [
             0.4480931231,
             0.8353293413
            ],
            "passed_time": 0.2611720938,
            "remaining_time": 7.653133777,
            "test": [
             0.4673464861,
             0.8116591928
            ]
           },
           {
            "iteration": 33,
            "learn": [
             0.4446326156,
             0.8353293413
            ],
            "passed_time": 0.2682331972,
            "remaining_time": 7.620978484,
            "test": [
             0.4648279467,
             0.8161434978
            ]
           },
           {
            "iteration": 34,
            "learn": [
             0.4425685369,
             0.8323353293
            ],
            "passed_time": 0.2752395033,
            "remaining_time": 7.588746304,
            "test": [
             0.4629504758,
             0.8161434978
            ]
           },
           {
            "iteration": 35,
            "learn": [
             0.4410079647,
             0.8368263473
            ],
            "passed_time": 0.2805541878,
            "remaining_time": 7.512617696,
            "test": [
             0.461581389,
             0.8116591928
            ]
           },
           {
            "iteration": 36,
            "learn": [
             0.4385622868,
             0.8368263473
            ],
            "passed_time": 0.2873734691,
            "remaining_time": 7.479477048,
            "test": [
             0.4598131565,
             0.8116591928
            ]
           },
           {
            "iteration": 37,
            "learn": [
             0.4363623632,
             0.8353293413
            ],
            "passed_time": 0.2938405942,
            "remaining_time": 7.438806622,
            "test": [
             0.4580387594,
             0.8206278027
            ]
           },
           {
            "iteration": 38,
            "learn": [
             0.4346194705,
             0.8368263473
            ],
            "passed_time": 0.2977082651,
            "remaining_time": 7.335836993,
            "test": [
             0.4568825496,
             0.8161434978
            ]
           },
           {
            "iteration": 39,
            "learn": [
             0.4331799903,
             0.8368263473
            ],
            "passed_time": 0.3037723841,
            "remaining_time": 7.290537218,
            "test": [
             0.4556786765,
             0.8161434978
            ]
           },
           {
            "iteration": 40,
            "learn": [
             0.4304897428,
             0.8353293413
            ],
            "passed_time": 0.3111673521,
            "remaining_time": 7.278280259,
            "test": [
             0.4540201006,
             0.8116591928
            ]
           },
           {
            "iteration": 41,
            "learn": [
             0.4283414782,
             0.8368263473
            ],
            "passed_time": 0.3174698011,
            "remaining_time": 7.241334987,
            "test": [
             0.4528727884,
             0.8116591928
            ]
           },
           {
            "iteration": 42,
            "learn": [
             0.4265080448,
             0.8368263473
            ],
            "passed_time": 0.3240313994,
            "remaining_time": 7.21158254,
            "test": [
             0.4517417432,
             0.8161434978
            ]
           },
           {
            "iteration": 43,
            "learn": [
             0.4255831303,
             0.8323353293
            ],
            "passed_time": 0.331243331,
            "remaining_time": 7.197014192,
            "test": [
             0.452202762,
             0.8206278027
            ]
           },
           {
            "iteration": 44,
            "learn": [
             0.4252894749,
             0.8308383234
            ],
            "passed_time": 0.3336940533,
            "remaining_time": 7.081729353,
            "test": [
             0.4518594201,
             0.8161434978
            ]
           },
           {
            "iteration": 45,
            "learn": [
             0.4232906533,
             0.8308383234
            ],
            "passed_time": 0.3402549312,
            "remaining_time": 7.056591399,
            "test": [
             0.450952393,
             0.8206278027
            ]
           },
           {
            "iteration": 46,
            "learn": [
             0.4219784535,
             0.8308383234
            ],
            "passed_time": 0.3466987962,
            "remaining_time": 7.029871336,
            "test": [
             0.4502039757,
             0.8206278027
            ]
           },
           {
            "iteration": 47,
            "learn": [
             0.420393984,
             0.8308383234
            ],
            "passed_time": 0.3537178566,
            "remaining_time": 7.015404156,
            "test": [
             0.4490913849,
             0.8206278027
            ]
           },
           {
            "iteration": 48,
            "learn": [
             0.4194225072,
             0.8293413174
            ],
            "passed_time": 0.3594513581,
            "remaining_time": 6.976290645,
            "test": [
             0.447967822,
             0.8161434978
            ]
           },
           {
            "iteration": 49,
            "learn": [
             0.4179930292,
             0.8293413174
            ],
            "passed_time": 0.3672326377,
            "remaining_time": 6.977420116,
            "test": [
             0.4468923133,
             0.8206278027
            ]
           },
           {
            "iteration": 50,
            "learn": [
             0.4167287161,
             0.8293413174
            ],
            "passed_time": 0.3740246765,
            "remaining_time": 6.959792509,
            "test": [
             0.4462035507,
             0.8206278027
            ]
           },
           {
            "iteration": 51,
            "learn": [
             0.4155112345,
             0.8293413174
            ],
            "passed_time": 0.3812557924,
            "remaining_time": 6.95058637,
            "test": [
             0.4452556786,
             0.8206278027
            ]
           },
           {
            "iteration": 52,
            "learn": [
             0.4145264333,
             0.8323353293
            ],
            "passed_time": 0.3878728944,
            "remaining_time": 6.930483604,
            "test": [
             0.4441310027,
             0.8251121076
            ]
           },
           {
            "iteration": 53,
            "learn": [
             0.4129347692,
             0.8308383234
            ],
            "passed_time": 0.3946291457,
            "remaining_time": 6.913317997,
            "test": [
             0.4433544968,
             0.8251121076
            ]
           },
           {
            "iteration": 54,
            "learn": [
             0.4113961848,
             0.8338323353
            ],
            "passed_time": 0.401498536,
            "remaining_time": 6.898474845,
            "test": [
             0.4420501415,
             0.8206278027
            ]
           },
           {
            "iteration": 55,
            "learn": [
             0.4097376576,
             0.8338323353
            ],
            "passed_time": 0.4085288598,
            "remaining_time": 6.886629351,
            "test": [
             0.4401630669,
             0.8206278027
            ]
           },
           {
            "iteration": 56,
            "learn": [
             0.408838041,
             0.8353293413
            ],
            "passed_time": 0.4145936974,
            "remaining_time": 6.858979941,
            "test": [
             0.4395241026,
             0.8161434978
            ]
           },
           {
            "iteration": 57,
            "learn": [
             0.4069747539,
             0.8353293413
            ],
            "passed_time": 0.4213102469,
            "remaining_time": 6.842659527,
            "test": [
             0.4379574004,
             0.8161434978
            ]
           },
           {
            "iteration": 58,
            "learn": [
             0.4051130873,
             0.8353293413
            ],
            "passed_time": 0.4287255678,
            "remaining_time": 6.837809479,
            "test": [
             0.4357254084,
             0.8161434978
            ]
           },
           {
            "iteration": 59,
            "learn": [
             0.4047833055,
             0.8353293413
            ],
            "passed_time": 0.4325897615,
            "remaining_time": 6.777239598,
            "test": [
             0.4356222087,
             0.8161434978
            ]
           },
           {
            "iteration": 60,
            "learn": [
             0.4037233247,
             0.8368263473
            ],
            "passed_time": 0.4400943183,
            "remaining_time": 6.774566637,
            "test": [
             0.4341760578,
             0.8161434978
            ]
           },
           {
            "iteration": 61,
            "learn": [
             0.402034606,
             0.8383233533
            ],
            "passed_time": 0.4478591292,
            "remaining_time": 6.775675213,
            "test": [
             0.4330486207,
             0.8161434978
            ]
           },
           {
            "iteration": 62,
            "learn": [
             0.3996694744,
             0.8383233533
            ],
            "passed_time": 0.4554228198,
            "remaining_time": 6.773510828,
            "test": [
             0.4335133915,
             0.8161434978
            ]
           },
           {
            "iteration": 63,
            "learn": [
             0.3985631714,
             0.8398203593
            ],
            "passed_time": 0.4636354561,
            "remaining_time": 6.780668545,
            "test": [
             0.4323145521,
             0.8161434978
            ]
           },
           {
            "iteration": 64,
            "learn": [
             0.3975079492,
             0.8428143713
            ],
            "passed_time": 0.4713634146,
            "remaining_time": 6.780381425,
            "test": [
             0.4318979489,
             0.8161434978
            ]
           },
           {
            "iteration": 65,
            "learn": [
             0.3968875706,
             0.8413173653
            ],
            "passed_time": 0.4796436534,
            "remaining_time": 6.787684428,
            "test": [
             0.4311524855,
             0.8161434978
            ]
           },
           {
            "iteration": 66,
            "learn": [
             0.3962620472,
             0.8428143713
            ],
            "passed_time": 0.4850776815,
            "remaining_time": 6.754887715,
            "test": [
             0.4302196713,
             0.8161434978
            ]
           },
           {
            "iteration": 67,
            "learn": [
             0.3956377643,
             0.8428143713
            ],
            "passed_time": 0.4963220728,
            "remaining_time": 6.802531939,
            "test": [
             0.4292186273,
             0.8161434978
            ]
           },
           {
            "iteration": 68,
            "learn": [
             0.3938460376,
             0.8443113772
            ],
            "passed_time": 0.5127488275,
            "remaining_time": 6.9183936,
            "test": [
             0.4288454516,
             0.8161434978
            ]
           },
           {
            "iteration": 69,
            "learn": [
             0.3928598838,
             0.8458083832
            ],
            "passed_time": 0.5250715208,
            "remaining_time": 6.975950205,
            "test": [
             0.4281878036,
             0.8161434978
            ]
           },
           {
            "iteration": 70,
            "learn": [
             0.3926053824,
             0.8443113772
            ],
            "passed_time": 0.5278988065,
            "remaining_time": 6.907295652,
            "test": [
             0.4274334556,
             0.8161434978
            ]
           },
           {
            "iteration": 71,
            "learn": [
             0.3913051104,
             0.8443113772
            ],
            "passed_time": 0.536058919,
            "remaining_time": 6.909203845,
            "test": [
             0.4266916617,
             0.8161434978
            ]
           },
           {
            "iteration": 72,
            "learn": [
             0.3909012147,
             0.8443113772
            ],
            "passed_time": 0.5429923111,
            "remaining_time": 6.895258525,
            "test": [
             0.4265089252,
             0.8116591928
            ]
           },
           {
            "iteration": 73,
            "learn": [
             0.3907597724,
             0.8443113772
            ],
            "passed_time": 0.5501298928,
            "remaining_time": 6.884057848,
            "test": [
             0.4262909791,
             0.8116591928
            ]
           },
           {
            "iteration": 74,
            "learn": [
             0.3903216335,
             0.8443113772
            ],
            "passed_time": 0.5586544954,
            "remaining_time": 6.890072109,
            "test": [
             0.4259924793,
             0.8116591928
            ]
           },
           {
            "iteration": 75,
            "learn": [
             0.3888746245,
             0.8458083832
            ],
            "passed_time": 0.5664787552,
            "remaining_time": 6.887189076,
            "test": [
             0.4249855759,
             0.8161434978
            ]
           },
           {
            "iteration": 76,
            "learn": [
             0.388487543,
             0.8458083832
            ],
            "passed_time": 0.5732168611,
            "remaining_time": 6.871157959,
            "test": [
             0.4248116427,
             0.8161434978
            ]
           },
           {
            "iteration": 77,
            "learn": [
             0.3867381353,
             0.8458083832
            ],
            "passed_time": 0.5801047208,
            "remaining_time": 6.85713529,
            "test": [
             0.4242967424,
             0.8116591928
            ]
           },
           {
            "iteration": 78,
            "learn": [
             0.3858845416,
             0.8473053892
            ],
            "passed_time": 0.5874066637,
            "remaining_time": 6.848120724,
            "test": [
             0.4239430238,
             0.8116591928
            ]
           },
           {
            "iteration": 79,
            "learn": [
             0.3849722949,
             0.8488023952
            ],
            "passed_time": 0.5924132949,
            "remaining_time": 6.812752891,
            "test": [
             0.4224345474,
             0.8206278027
            ]
           },
           {
            "iteration": 80,
            "learn": [
             0.3832012803,
             0.8473053892
            ],
            "passed_time": 0.5997346225,
            "remaining_time": 6.80439652,
            "test": [
             0.4219658551,
             0.8161434978
            ]
           },
           {
            "iteration": 81,
            "learn": [
             0.3820907769,
             0.8488023952
            ],
            "passed_time": 0.6066326244,
            "remaining_time": 6.791326209,
            "test": [
             0.4218923341,
             0.8206278027
            ]
           },
           {
            "iteration": 82,
            "learn": [
             0.3811521625,
             0.8488023952
            ],
            "passed_time": 0.6135694681,
            "remaining_time": 6.778833762,
            "test": [
             0.4211551039,
             0.8206278027
            ]
           },
           {
            "iteration": 83,
            "learn": [
             0.3802925079,
             0.8502994012
            ],
            "passed_time": 0.6206611588,
            "remaining_time": 6.768162161,
            "test": [
             0.4204531967,
             0.8206278027
            ]
           },
           {
            "iteration": 84,
            "learn": [
             0.3793771363,
             0.8488023952
            ],
            "passed_time": 0.6288236339,
            "remaining_time": 6.76910147,
            "test": [
             0.4196669311,
             0.8206278027
            ]
           },
           {
            "iteration": 85,
            "learn": [
             0.3792169171,
             0.8488023952
            ],
            "passed_time": 0.6312043215,
            "remaining_time": 6.708380812,
            "test": [
             0.41914012,
             0.8206278027
            ]
           },
           {
            "iteration": 86,
            "learn": [
             0.3782712108,
             0.8502994012
            ],
            "passed_time": 0.6379982779,
            "remaining_time": 6.695315261,
            "test": [
             0.4185471299,
             0.8251121076
            ]
           },
           {
            "iteration": 87,
            "learn": [
             0.3774515183,
             0.8502994012
            ],
            "passed_time": 0.6446473967,
            "remaining_time": 6.680891202,
            "test": [
             0.418184401,
             0.8206278027
            ]
           },
           {
            "iteration": 88,
            "learn": [
             0.3769812439,
             0.8502994012
            ],
            "passed_time": 0.6509696637,
            "remaining_time": 6.66329622,
            "test": [
             0.4176166201,
             0.8206278027
            ]
           },
           {
            "iteration": 89,
            "learn": [
             0.3764735645,
             0.8502994012
            ],
            "passed_time": 0.6572594321,
            "remaining_time": 6.645623146,
            "test": [
             0.4167528933,
             0.8206278027
            ]
           },
           {
            "iteration": 90,
            "learn": [
             0.3754114812,
             0.8502994012
            ],
            "passed_time": 0.6638451158,
            "remaining_time": 6.631156157,
            "test": [
             0.4168681964,
             0.8251121076
            ]
           },
           {
            "iteration": 91,
            "learn": [
             0.374714414,
             0.8502994012
            ],
            "passed_time": 0.6699513079,
            "remaining_time": 6.612128126,
            "test": [
             0.4166071938,
             0.8251121076
            ]
           },
           {
            "iteration": 92,
            "learn": [
             0.3745579611,
             0.8502994012
            ],
            "passed_time": 0.6737699397,
            "remaining_time": 6.571068122,
            "test": [
             0.4164311633,
             0.8251121076
            ]
           },
           {
            "iteration": 93,
            "learn": [
             0.3742688906,
             0.8502994012
            ],
            "passed_time": 0.6807886692,
            "remaining_time": 6.561643982,
            "test": [
             0.4163285473,
             0.8251121076
            ]
           },
           {
            "iteration": 94,
            "learn": [
             0.3738527697,
             0.8502994012
            ],
            "passed_time": 0.6870785885,
            "remaining_time": 6.545327606,
            "test": [
             0.4159777416,
             0.8251121076
            ]
           },
           {
            "iteration": 95,
            "learn": [
             0.3733778085,
             0.8502994012
            ],
            "passed_time": 0.694345207,
            "remaining_time": 6.538417366,
            "test": [
             0.4157515595,
             0.8251121076
            ]
           },
           {
            "iteration": 96,
            "learn": [
             0.3728777352,
             0.8502994012
            ],
            "passed_time": 0.7011966542,
            "remaining_time": 6.527634832,
            "test": [
             0.4156968845,
             0.8251121076
            ]
           },
           {
            "iteration": 97,
            "learn": [
             0.3722808337,
             0.8502994012
            ],
            "passed_time": 0.7068366333,
            "remaining_time": 6.505782074,
            "test": [
             0.4148254481,
             0.8251121076
            ]
           },
           {
            "iteration": 98,
            "learn": [
             0.3715319769,
             0.8502994012
            ],
            "passed_time": 0.7146299695,
            "remaining_time": 6.503854571,
            "test": [
             0.414215274,
             0.8251121076
            ]
           },
           {
            "iteration": 99,
            "learn": [
             0.3713123348,
             0.8502994012
            ],
            "passed_time": 0.7179084981,
            "remaining_time": 6.461176483,
            "test": [
             0.4137835767,
             0.8251121076
            ]
           },
           {
            "iteration": 100,
            "learn": [
             0.3711680967,
             0.8502994012
            ],
            "passed_time": 0.7205981703,
            "remaining_time": 6.414037179,
            "test": [
             0.413412682,
             0.8251121076
            ]
           },
           {
            "iteration": 101,
            "learn": [
             0.3701463452,
             0.8502994012
            ],
            "passed_time": 0.7277654949,
            "remaining_time": 6.407190338,
            "test": [
             0.412949785,
             0.8251121076
            ]
           },
           {
            "iteration": 102,
            "learn": [
             0.3696276848,
             0.8502994012
            ],
            "passed_time": 0.7353943605,
            "remaining_time": 6.404356712,
            "test": [
             0.4126316086,
             0.8251121076
            ]
           },
           {
            "iteration": 103,
            "learn": [
             0.368795474,
             0.8488023952
            ],
            "passed_time": 0.7430072628,
            "remaining_time": 6.401293341,
            "test": [
             0.4111647837,
             0.8251121076
            ]
           },
           {
            "iteration": 104,
            "learn": [
             0.3680006001,
             0.8488023952
            ],
            "passed_time": 0.7506224891,
            "remaining_time": 6.398163122,
            "test": [
             0.4103193589,
             0.8251121076
            ]
           },
           {
            "iteration": 105,
            "learn": [
             0.3678459771,
             0.8488023952
            ],
            "passed_time": 0.7541406949,
            "remaining_time": 6.360394163,
            "test": [
             0.4103092282,
             0.8251121076
            ]
           },
           {
            "iteration": 106,
            "learn": [
             0.3672393778,
             0.8502994012
            ],
            "passed_time": 0.7614820955,
            "remaining_time": 6.355173003,
            "test": [
             0.4097548782,
             0.8251121076
            ]
           },
           {
            "iteration": 107,
            "learn": [
             0.3672117213,
             0.8502994012
            ],
            "passed_time": 0.7642713944,
            "remaining_time": 6.31231559,
            "test": [
             0.4097518364,
             0.8251121076
            ]
           },
           {
            "iteration": 108,
            "learn": [
             0.366554577,
             0.8502994012
            ],
            "passed_time": 0.7706371466,
            "remaining_time": 6.299428418,
            "test": [
             0.4096296649,
             0.8206278027
            ]
           },
           {
            "iteration": 109,
            "learn": [
             0.365573918,
             0.8502994012
            ],
            "passed_time": 0.7778257159,
            "remaining_time": 6.293317156,
            "test": [
             0.4091176124,
             0.8206278027
            ]
           },
           {
            "iteration": 110,
            "learn": [
             0.3654657359,
             0.8502994012
            ],
            "passed_time": 0.7805423202,
            "remaining_time": 6.251370475,
            "test": [
             0.4088215976,
             0.8206278027
            ]
           },
           {
            "iteration": 111,
            "learn": [
             0.3646548501,
             0.8502994012
            ],
            "passed_time": 0.7880110454,
            "remaining_time": 6.24780186,
            "test": [
             0.4087191905,
             0.8206278027
            ]
           },
           {
            "iteration": 112,
            "learn": [
             0.363467437,
             0.8502994012
            ],
            "passed_time": 0.795111177,
            "remaining_time": 6.24127092,
            "test": [
             0.4075590295,
             0.8206278027
            ]
           },
           {
            "iteration": 113,
            "learn": [
             0.363006476,
             0.8502994012
            ],
            "passed_time": 0.8029405406,
            "remaining_time": 6.240397535,
            "test": [
             0.4073434395,
             0.8206278027
            ]
           },
           {
            "iteration": 114,
            "learn": [
             0.3624457535,
             0.8517964072
            ],
            "passed_time": 0.8096634634,
            "remaining_time": 6.230888392,
            "test": [
             0.4074634493,
             0.8251121076
            ]
           },
           {
            "iteration": 115,
            "learn": [
             0.3616971793,
             0.8532934132
            ],
            "passed_time": 0.8216734986,
            "remaining_time": 6.261718731,
            "test": [
             0.4071796445,
             0.8206278027
            ]
           },
           {
            "iteration": 116,
            "learn": [
             0.3615270989,
             0.8532934132
            ],
            "passed_time": 0.8301425279,
            "remaining_time": 6.265092754,
            "test": [
             0.4071386679,
             0.8206278027
            ]
           },
           {
            "iteration": 117,
            "learn": [
             0.3614277494,
             0.8532934132
            ],
            "passed_time": 0.8357327768,
            "remaining_time": 6.246748382,
            "test": [
             0.4072279815,
             0.8206278027
            ]
           },
           {
            "iteration": 118,
            "learn": [
             0.3603143525,
             0.8532934132
            ],
            "passed_time": 0.8427353926,
            "remaining_time": 6.239074629,
            "test": [
             0.4062959241,
             0.8206278027
            ]
           },
           {
            "iteration": 119,
            "learn": [
             0.3599630077,
             0.8517964072
            ],
            "passed_time": 0.8501783674,
            "remaining_time": 6.234641361,
            "test": [
             0.4062329739,
             0.8206278027
            ]
           },
           {
            "iteration": 120,
            "learn": [
             0.3592807155,
             0.8517964072
            ],
            "passed_time": 0.8577260575,
            "remaining_time": 6.230919046,
            "test": [
             0.4058909125,
             0.8206278027
            ]
           },
           {
            "iteration": 121,
            "learn": [
             0.3587750858,
             0.8517964072
            ],
            "passed_time": 0.8651105675,
            "remaining_time": 6.225959658,
            "test": [
             0.4056309327,
             0.8206278027
            ]
           },
           {
            "iteration": 122,
            "learn": [
             0.3583614208,
             0.8532934132
            ],
            "passed_time": 0.8715188518,
            "remaining_time": 6.214000269,
            "test": [
             0.4056128492,
             0.8206278027
            ]
           },
           {
            "iteration": 123,
            "learn": [
             0.3580263649,
             0.8562874251
            ],
            "passed_time": 0.8793085054,
            "remaining_time": 6.211889119,
            "test": [
             0.4054936908,
             0.8206278027
            ]
           },
           {
            "iteration": 124,
            "learn": [
             0.3574388065,
             0.8577844311
            ],
            "passed_time": 0.8862465291,
            "remaining_time": 6.203725704,
            "test": [
             0.4057917339,
             0.8206278027
            ]
           },
           {
            "iteration": 125,
            "learn": [
             0.3567529777,
             0.8562874251
            ],
            "passed_time": 0.8930568427,
            "remaining_time": 6.194695877,
            "test": [
             0.405502124,
             0.8206278027
            ]
           },
           {
            "iteration": 126,
            "learn": [
             0.3561014505,
             0.8562874251
            ],
            "passed_time": 0.900746458,
            "remaining_time": 6.191745337,
            "test": [
             0.4053355744,
             0.8206278027
            ]
           },
           {
            "iteration": 127,
            "learn": [
             0.3558349448,
             0.8577844311
            ],
            "passed_time": 0.9080850642,
            "remaining_time": 6.1863295,
            "test": [
             0.4051967525,
             0.8206278027
            ]
           },
           {
            "iteration": 128,
            "learn": [
             0.355834804,
             0.8577844311
            ],
            "passed_time": 0.9101059396,
            "remaining_time": 6.144978864,
            "test": [
             0.4051965842,
             0.8206278027
            ]
           },
           {
            "iteration": 129,
            "learn": [
             0.3552631941,
             0.8592814371
            ],
            "passed_time": 0.9174878243,
            "remaining_time": 6.140110824,
            "test": [
             0.4059886223,
             0.8206278027
            ]
           },
           {
            "iteration": 130,
            "learn": [
             0.3551325184,
             0.8592814371
            ],
            "passed_time": 0.9271957001,
            "remaining_time": 6.150634072,
            "test": [
             0.4060901195,
             0.8206278027
            ]
           },
           {
            "iteration": 131,
            "learn": [
             0.3549290851,
             0.8577844311
            ],
            "passed_time": 0.9417927048,
            "remaining_time": 6.193000513,
            "test": [
             0.4058884604,
             0.8206278027
            ]
           },
           {
            "iteration": 132,
            "learn": [
             0.3541759687,
             0.8577844311
            ],
            "passed_time": 0.9494590536,
            "remaining_time": 6.189330823,
            "test": [
             0.4056387492,
             0.8206278027
            ]
           },
           {
            "iteration": 133,
            "learn": [
             0.354102444,
             0.8577844311
            ],
            "passed_time": 0.9538088838,
            "remaining_time": 6.164167861,
            "test": [
             0.4056707235,
             0.8206278027
            ]
           },
           {
            "iteration": 134,
            "learn": [
             0.3540080156,
             0.8577844311
            ],
            "passed_time": 0.9573568115,
            "remaining_time": 6.134175126,
            "test": [
             0.405351647,
             0.8206278027
            ]
           },
           {
            "iteration": 135,
            "learn": [
             0.3534041117,
             0.8592814371
            ],
            "passed_time": 0.9647168406,
            "remaining_time": 6.12878934,
            "test": [
             0.4049093743,
             0.8206278027
            ]
           },
           {
            "iteration": 136,
            "learn": [
             0.3531427252,
             0.8577844311
            ],
            "passed_time": 0.9951195119,
            "remaining_time": 6.26852656,
            "test": [
             0.4047992126,
             0.8206278027
            ]
           },
           {
            "iteration": 137,
            "learn": [
             0.3526642267,
             0.8577844311
            ],
            "passed_time": 1.008374601,
            "remaining_time": 6.298687728,
            "test": [
             0.4042060529,
             0.8206278027
            ]
           },
           {
            "iteration": 138,
            "learn": [
             0.3517461097,
             0.8607784431
            ],
            "passed_time": 1.015681194,
            "remaining_time": 6.291377753,
            "test": [
             0.4038862751,
             0.8206278027
            ]
           },
           {
            "iteration": 139,
            "learn": [
             0.3510655338,
             0.8622754491
            ],
            "passed_time": 1.023849432,
            "remaining_time": 6.289360799,
            "test": [
             0.4031373577,
             0.8206278027
            ]
           },
           {
            "iteration": 140,
            "learn": [
             0.3508675421,
             0.8622754491
            ],
            "passed_time": 1.031209561,
            "remaining_time": 6.282333427,
            "test": [
             0.4030209974,
             0.8206278027
            ]
           },
           {
            "iteration": 141,
            "learn": [
             0.3499321249,
             0.8622754491
            ],
            "passed_time": 1.038962397,
            "remaining_time": 6.277674202,
            "test": [
             0.4032275412,
             0.8206278027
            ]
           },
           {
            "iteration": 142,
            "learn": [
             0.3498985411,
             0.8622754491
            ],
            "passed_time": 1.043041964,
            "remaining_time": 6.250957785,
            "test": [
             0.403254091,
             0.8206278027
            ]
           },
           {
            "iteration": 143,
            "learn": [
             0.3492545059,
             0.8637724551
            ],
            "passed_time": 1.050646924,
            "remaining_time": 6.245512271,
            "test": [
             0.4027983087,
             0.8161434978
            ]
           },
           {
            "iteration": 144,
            "learn": [
             0.3489517879,
             0.8637724551
            ],
            "passed_time": 1.05838878,
            "remaining_time": 6.240844188,
            "test": [
             0.4024768067,
             0.8206278027
            ]
           },
           {
            "iteration": 145,
            "learn": [
             0.3485264911,
             0.8637724551
            ],
            "passed_time": 1.066468863,
            "remaining_time": 6.238112388,
            "test": [
             0.4021109822,
             0.8206278027
            ]
           },
           {
            "iteration": 146,
            "learn": [
             0.3481955059,
             0.8637724551
            ],
            "passed_time": 1.072428916,
            "remaining_time": 6.223005887,
            "test": [
             0.4021176733,
             0.8206278027
            ]
           },
           {
            "iteration": 147,
            "learn": [
             0.3472828648,
             0.8637724551
            ],
            "passed_time": 1.079758536,
            "remaining_time": 6.215907248,
            "test": [
             0.4017108504,
             0.8206278027
            ]
           },
           {
            "iteration": 148,
            "learn": [
             0.346177192,
             0.871257485
            ],
            "passed_time": 1.08666502,
            "remaining_time": 6.206388806,
            "test": [
             0.4010244443,
             0.8206278027
            ]
           },
           {
            "iteration": 149,
            "learn": [
             0.3456411678,
             0.871257485
            ],
            "passed_time": 1.093619481,
            "remaining_time": 6.197177061,
            "test": [
             0.4011646798,
             0.8206278027
            ]
           },
           {
            "iteration": 150,
            "learn": [
             0.3448944504,
             0.871257485
            ],
            "passed_time": 1.100805075,
            "remaining_time": 6.189294759,
            "test": [
             0.4008997803,
             0.8295964126
            ]
           },
           {
            "iteration": 151,
            "learn": [
             0.3445741981,
             0.871257485
            ],
            "passed_time": 1.107542997,
            "remaining_time": 6.178924088,
            "test": [
             0.4008528906,
             0.8295964126
            ]
           },
           {
            "iteration": 152,
            "learn": [
             0.3443865473,
             0.869760479
            ],
            "passed_time": 1.113747042,
            "remaining_time": 6.165645392,
            "test": [
             0.4011244462,
             0.8251121076
            ]
           },
           {
            "iteration": 153,
            "learn": [
             0.3439866532,
             0.869760479
            ],
            "passed_time": 1.121539053,
            "remaining_time": 6.161182071,
            "test": [
             0.4013077616,
             0.8295964126
            ]
           },
           {
            "iteration": 154,
            "learn": [
             0.3437704513,
             0.869760479
            ],
            "passed_time": 1.128252032,
            "remaining_time": 6.150793338,
            "test": [
             0.4014410588,
             0.8251121076
            ]
           },
           {
            "iteration": 155,
            "learn": [
             0.3433918053,
             0.8682634731
            ],
            "passed_time": 1.138296267,
            "remaining_time": 6.158474674,
            "test": [
             0.4014421959,
             0.8295964126
            ]
           },
           {
            "iteration": 156,
            "learn": [
             0.3430506039,
             0.8682634731
            ],
            "passed_time": 1.146237741,
            "remaining_time": 6.154639589,
            "test": [
             0.4010456225,
             0.8295964126
            ]
           },
           {
            "iteration": 157,
            "learn": [
             0.3425826845,
             0.8682634731
            ],
            "passed_time": 1.153662039,
            "remaining_time": 6.147996437,
            "test": [
             0.4006976387,
             0.8295964126
            ]
           },
           {
            "iteration": 158,
            "learn": [
             0.3425423613,
             0.8682634731
            ],
            "passed_time": 1.156528834,
            "remaining_time": 6.117237419,
            "test": [
             0.4006982711,
             0.8295964126
            ]
           },
           {
            "iteration": 159,
            "learn": [
             0.3420207399,
             0.8682634731
            ],
            "passed_time": 1.163508716,
            "remaining_time": 6.108420758,
            "test": [
             0.400018862,
             0.8206278027
            ]
           },
           {
            "iteration": 160,
            "learn": [
             0.341913758,
             0.8682634731
            ],
            "passed_time": 1.167967463,
            "remaining_time": 6.086488826,
            "test": [
             0.3998792882,
             0.8206278027
            ]
           },
           {
            "iteration": 161,
            "learn": [
             0.3414931188,
             0.8682634731
            ],
            "passed_time": 1.177862771,
            "remaining_time": 6.092895074,
            "test": [
             0.3995572782,
             0.8206278027
            ]
           },
           {
            "iteration": 162,
            "learn": [
             0.3408225136,
             0.8682634731
            ],
            "passed_time": 1.185421514,
            "remaining_time": 6.087103109,
            "test": [
             0.3996493576,
             0.8206278027
            ]
           },
           {
            "iteration": 163,
            "learn": [
             0.3406299975,
             0.871257485
            ],
            "passed_time": 1.192546433,
            "remaining_time": 6.07907816,
            "test": [
             0.3997178584,
             0.8206278027
            ]
           },
           {
            "iteration": 164,
            "learn": [
             0.3406299972,
             0.871257485
            ],
            "passed_time": 1.194408196,
            "remaining_time": 6.044429358,
            "test": [
             0.3997178412,
             0.8206278027
            ]
           },
           {
            "iteration": 165,
            "learn": [
             0.340174645,
             0.869760479
            ],
            "passed_time": 1.20454801,
            "remaining_time": 6.051765305,
            "test": [
             0.3994599125,
             0.8206278027
            ]
           },
           {
            "iteration": 166,
            "learn": [
             0.3395948622,
             0.871257485
            ],
            "passed_time": 1.210986178,
            "remaining_time": 6.040428064,
            "test": [
             0.3996377294,
             0.8206278027
            ]
           },
           {
            "iteration": 167,
            "learn": [
             0.3395948619,
             0.871257485
            ],
            "passed_time": 1.213526737,
            "remaining_time": 6.009846697,
            "test": [
             0.3996377116,
             0.8206278027
            ]
           },
           {
            "iteration": 168,
            "learn": [
             0.3391893501,
             0.869760479
            ],
            "passed_time": 1.220575516,
            "remaining_time": 6.001764816,
            "test": [
             0.3995141733,
             0.8206278027
            ]
           },
           {
            "iteration": 169,
            "learn": [
             0.3391193125,
             0.871257485
            ],
            "passed_time": 1.227527099,
            "remaining_time": 5.993220542,
            "test": [
             0.3996210332,
             0.8206278027
            ]
           },
           {
            "iteration": 170,
            "learn": [
             0.3384839535,
             0.871257485
            ],
            "passed_time": 1.235112808,
            "remaining_time": 5.987769112,
            "test": [
             0.3994490353,
             0.8206278027
            ]
           },
           {
            "iteration": 171,
            "learn": [
             0.3383552902,
             0.871257485
            ],
            "passed_time": 1.241639853,
            "remaining_time": 5.9771965,
            "test": [
             0.3992721171,
             0.8206278027
            ]
           },
           {
            "iteration": 172,
            "learn": [
             0.337937857,
             0.871257485
            ],
            "passed_time": 1.24841894,
            "remaining_time": 5.967875511,
            "test": [
             0.3991737066,
             0.8206278027
            ]
           },
           {
            "iteration": 173,
            "learn": [
             0.3372661441,
             0.871257485
            ],
            "passed_time": 1.25606903,
            "remaining_time": 5.962718497,
            "test": [
             0.3988481546,
             0.8206278027
            ]
           },
           {
            "iteration": 174,
            "learn": [
             0.3369315313,
             0.871257485
            ],
            "passed_time": 1.262579641,
            "remaining_time": 5.952161167,
            "test": [
             0.3988157327,
             0.8206278027
            ]
           },
           {
            "iteration": 175,
            "learn": [
             0.3366365614,
             0.871257485
            ],
            "passed_time": 1.26973201,
            "remaining_time": 5.944654411,
            "test": [
             0.3989402311,
             0.8206278027
            ]
           },
           {
            "iteration": 176,
            "learn": [
             0.3361742868,
             0.874251497
            ],
            "passed_time": 1.27679616,
            "remaining_time": 5.936741468,
            "test": [
             0.398707717,
             0.8206278027
            ]
           },
           {
            "iteration": 177,
            "learn": [
             0.3360777878,
             0.874251497
            ],
            "passed_time": 1.281101885,
            "remaining_time": 5.916099716,
            "test": [
             0.3986783139,
             0.8206278027
            ]
           },
           {
            "iteration": 178,
            "learn": [
             0.3355855301,
             0.872754491
            ],
            "passed_time": 1.288040065,
            "remaining_time": 5.907714486,
            "test": [
             0.3986022074,
             0.8206278027
            ]
           },
           {
            "iteration": 179,
            "learn": [
             0.3354022626,
             0.874251497
            ],
            "passed_time": 1.294215241,
            "remaining_time": 5.895869433,
            "test": [
             0.3985948625,
             0.8206278027
            ]
           },
           {
            "iteration": 180,
            "learn": [
             0.3352006786,
             0.875748503
            ],
            "passed_time": 1.30145349,
            "remaining_time": 5.888897284,
            "test": [
             0.3985678178,
             0.8206278027
            ]
           },
           {
            "iteration": 181,
            "learn": [
             0.3344942402,
             0.874251497
            ],
            "passed_time": 1.309009003,
            "remaining_time": 5.883348154,
            "test": [
             0.3985311938,
             0.8206278027
            ]
           },
           {
            "iteration": 182,
            "learn": [
             0.3340321327,
             0.875748503
            ],
            "passed_time": 1.316669534,
            "remaining_time": 5.878245954,
            "test": [
             0.3986520845,
             0.8206278027
            ]
           },
           {
            "iteration": 183,
            "learn": [
             0.3333556166,
             0.878742515
            ],
            "passed_time": 1.324274195,
            "remaining_time": 5.872868167,
            "test": [
             0.3985747288,
             0.8206278027
            ]
           },
           {
            "iteration": 184,
            "learn": [
             0.3330068314,
             0.878742515
            ],
            "passed_time": 1.332161243,
            "remaining_time": 5.868710339,
            "test": [
             0.3982812934,
             0.8206278027
            ]
           },
           {
            "iteration": 185,
            "learn": [
             0.3329831725,
             0.878742515
            ],
            "passed_time": 1.334870194,
            "remaining_time": 5.841851278,
            "test": [
             0.3982823991,
             0.8206278027
            ]
           },
           {
            "iteration": 186,
            "learn": [
             0.3323022642,
             0.880239521
            ],
            "passed_time": 1.342336424,
            "remaining_time": 5.835933223,
            "test": [
             0.3980368156,
             0.8206278027
            ]
           },
           {
            "iteration": 187,
            "learn": [
             0.3322698512,
             0.878742515
            ],
            "passed_time": 1.344917906,
            "remaining_time": 5.808900741,
            "test": [
             0.3978981846,
             0.8206278027
            ]
           },
           {
            "iteration": 188,
            "learn": [
             0.3314342691,
             0.880239521
            ],
            "passed_time": 1.352455392,
            "remaining_time": 5.803393244,
            "test": [
             0.3981614978,
             0.8206278027
            ]
           },
           {
            "iteration": 189,
            "learn": [
             0.3312887637,
             0.878742515
            ],
            "passed_time": 1.358044317,
            "remaining_time": 5.789557352,
            "test": [
             0.3981433126,
             0.8206278027
            ]
           },
           {
            "iteration": 190,
            "learn": [
             0.3309873827,
             0.878742515
            ],
            "passed_time": 1.365451107,
            "remaining_time": 5.783507569,
            "test": [
             0.3980581817,
             0.8206278027
            ]
           },
           {
            "iteration": 191,
            "learn": [
             0.3307796409,
             0.878742515
            ],
            "passed_time": 1.371840281,
            "remaining_time": 5.773161181,
            "test": [
             0.3980431759,
             0.8206278027
            ]
           },
           {
            "iteration": 192,
            "learn": [
             0.3306577501,
             0.878742515
            ],
            "passed_time": 1.379145492,
            "remaining_time": 5.766686075,
            "test": [
             0.3979033336,
             0.8206278027
            ]
           },
           {
            "iteration": 193,
            "learn": [
             0.3299342002,
             0.880239521
            ],
            "passed_time": 1.386528244,
            "remaining_time": 5.760524561,
            "test": [
             0.3978204817,
             0.8161434978
            ]
           },
           {
            "iteration": 194,
            "learn": [
             0.3291372887,
             0.8817365269
            ],
            "passed_time": 1.393955293,
            "remaining_time": 5.75453339,
            "test": [
             0.3965196713,
             0.8161434978
            ]
           },
           {
            "iteration": 195,
            "learn": [
             0.3285707111,
             0.8817365269
            ],
            "passed_time": 1.401191037,
            "remaining_time": 5.747742825,
            "test": [
             0.3970108536,
             0.8161434978
            ]
           },
           {
            "iteration": 196,
            "learn": [
             0.3282817519,
             0.8817365269
            ],
            "passed_time": 1.407593299,
            "remaining_time": 5.737550351,
            "test": [
             0.3967007474,
             0.8206278027
            ]
           },
           {
            "iteration": 197,
            "learn": [
             0.3273961657,
             0.8847305389
            ],
            "passed_time": 1.414334963,
            "remaining_time": 5.728770911,
            "test": [
             0.3968371357,
             0.8161434978
            ]
           },
           {
            "iteration": 198,
            "learn": [
             0.3272149609,
             0.8847305389
            ],
            "passed_time": 1.422075949,
            "remaining_time": 5.724034347,
            "test": [
             0.3966212881,
             0.8206278027
            ]
           },
           {
            "iteration": 199,
            "learn": [
             0.3266134302,
             0.8847305389
            ],
            "passed_time": 1.429154638,
            "remaining_time": 5.716618551,
            "test": [
             0.3968474879,
             0.8161434978
            ]
           },
           {
            "iteration": 200,
            "learn": [
             0.3265758623,
             0.8847305389
            ],
            "passed_time": 1.43545267,
            "remaining_time": 5.706102903,
            "test": [
             0.3967844077,
             0.8161434978
            ]
           },
           {
            "iteration": 201,
            "learn": [
             0.3261540174,
             0.8847305389
            ],
            "passed_time": 1.442919389,
            "remaining_time": 5.700245903,
            "test": [
             0.3968244179,
             0.8161434978
            ]
           },
           {
            "iteration": 202,
            "learn": [
             0.326153872,
             0.8847305389
            ],
            "passed_time": 1.44571125,
            "remaining_time": 5.676019044,
            "test": [
             0.3968187467,
             0.8161434978
            ]
           },
           {
            "iteration": 203,
            "learn": [
             0.3256543208,
             0.8862275449
            ],
            "passed_time": 1.453568922,
            "remaining_time": 5.671768933,
            "test": [
             0.3967295325,
             0.8161434978
            ]
           },
           {
            "iteration": 204,
            "learn": [
             0.325501423,
             0.8862275449
            ],
            "passed_time": 1.460658446,
            "remaining_time": 5.664504704,
            "test": [
             0.3965654599,
             0.8161434978
            ]
           },
           {
            "iteration": 205,
            "learn": [
             0.3254665102,
             0.8862275449
            ],
            "passed_time": 1.463483758,
            "remaining_time": 5.64080633,
            "test": [
             0.3965661319,
             0.8161434978
            ]
           },
           {
            "iteration": 206,
            "learn": [
             0.3251493604,
             0.8862275449
            ],
            "passed_time": 1.472601825,
            "remaining_time": 5.641416652,
            "test": [
             0.3965013277,
             0.8161434978
            ]
           },
           {
            "iteration": 207,
            "learn": [
             0.3251058653,
             0.8862275449
            ],
            "passed_time": 1.477182949,
            "remaining_time": 5.624658153,
            "test": [
             0.3965027769,
             0.8161434978
            ]
           },
           {
            "iteration": 208,
            "learn": [
             0.3247632378,
             0.8862275449
            ],
            "passed_time": 1.489412007,
            "remaining_time": 5.636961232,
            "test": [
             0.3964636806,
             0.8161434978
            ]
           },
           {
            "iteration": 209,
            "learn": [
             0.3245386964,
             0.8877245509
            ],
            "passed_time": 1.497098345,
            "remaining_time": 5.631941394,
            "test": [
             0.3965367426,
             0.8161434978
            ]
           },
           {
            "iteration": 210,
            "learn": [
             0.3237341306,
             0.8907185629
            ],
            "passed_time": 1.514293874,
            "remaining_time": 5.662454343,
            "test": [
             0.3961856202,
             0.8161434978
            ]
           },
           {
            "iteration": 211,
            "learn": [
             0.3233256176,
             0.8892215569
            ],
            "passed_time": 1.522279839,
            "remaining_time": 5.658285438,
            "test": [
             0.3958950087,
             0.8161434978
            ]
           },
           {
            "iteration": 212,
            "learn": [
             0.3232957974,
             0.8892215569
            ],
            "passed_time": 1.526330554,
            "remaining_time": 5.639540591,
            "test": [
             0.3958834503,
             0.8161434978
            ]
           },
           {
            "iteration": 213,
            "learn": [
             0.3229699174,
             0.8892215569
            ],
            "passed_time": 1.536267891,
            "remaining_time": 5.642554031,
            "test": [
             0.3959873426,
             0.8161434978
            ]
           },
           {
            "iteration": 214,
            "learn": [
             0.3225119461,
             0.8892215569
            ],
            "passed_time": 1.543971542,
            "remaining_time": 5.637291445,
            "test": [
             0.3952189357,
             0.8161434978
            ]
           },
           {
            "iteration": 215,
            "learn": [
             0.3217883069,
             0.8877245509
            ],
            "passed_time": 1.554824639,
            "remaining_time": 5.643437577,
            "test": [
             0.3965330141,
             0.8161434978
            ]
           },
           {
            "iteration": 216,
            "learn": [
             0.3211591279,
             0.8922155689
            ],
            "passed_time": 1.56427783,
            "remaining_time": 5.644375766,
            "test": [
             0.3967154951,
             0.8161434978
            ]
           },
           {
            "iteration": 217,
            "learn": [
             0.3201618836,
             0.8922155689
            ],
            "passed_time": 1.570846491,
            "remaining_time": 5.634871358,
            "test": [
             0.3964229956,
             0.8161434978
            ]
           },
           {
            "iteration": 218,
            "learn": [
             0.3197641709,
             0.8922155689
            ],
            "passed_time": 1.577992264,
            "remaining_time": 5.627451864,
            "test": [
             0.3959198132,
             0.8161434978
            ]
           },
           {
            "iteration": 219,
            "learn": [
             0.319620635,
             0.8922155689
            ],
            "passed_time": 1.586069595,
            "remaining_time": 5.623337655,
            "test": [
             0.3959551937,
             0.8161434978
            ]
           },
           {
            "iteration": 220,
            "learn": [
             0.3196179255,
             0.8922155689
            ],
            "passed_time": 1.589306734,
            "remaining_time": 5.602126452,
            "test": [
             0.3959507201,
             0.8161434978
            ]
           },
           {
            "iteration": 221,
            "learn": [
             0.3194516145,
             0.8922155689
            ],
            "passed_time": 1.596474682,
            "remaining_time": 5.594852714,
            "test": [
             0.3959051886,
             0.8161434978
            ]
           },
           {
            "iteration": 222,
            "learn": [
             0.3194492804,
             0.8922155689
            ],
            "passed_time": 1.599091448,
            "remaining_time": 5.571722219,
            "test": [
             0.3959052497,
             0.8161434978
            ]
           },
           {
            "iteration": 223,
            "learn": [
             0.3194209388,
             0.8922155689
            ],
            "passed_time": 1.60685251,
            "remaining_time": 5.566596196,
            "test": [
             0.3958552624,
             0.8161434978
            ]
           },
           {
            "iteration": 224,
            "learn": [
             0.3191670579,
             0.8892215569
            ],
            "passed_time": 1.613407757,
            "remaining_time": 5.557293386,
            "test": [
             0.3956713384,
             0.8161434978
            ]
           },
           {
            "iteration": 225,
            "learn": [
             0.3186720426,
             0.8892215569
            ],
            "passed_time": 1.620624169,
            "remaining_time": 5.550279232,
            "test": [
             0.3955912175,
             0.8161434978
            ]
           },
           {
            "iteration": 226,
            "learn": [
             0.3180586061,
             0.8892215569
            ],
            "passed_time": 1.628125508,
            "remaining_time": 5.544233559,
            "test": [
             0.3954145884,
             0.8161434978
            ]
           },
           {
            "iteration": 227,
            "learn": [
             0.3172180378,
             0.8937125749
            ],
            "passed_time": 1.635574083,
            "remaining_time": 5.537996455,
            "test": [
             0.39559743,
             0.8161434978
            ]
           },
           {
            "iteration": 228,
            "learn": [
             0.3166533952,
             0.8937125749
            ],
            "passed_time": 1.643608976,
            "remaining_time": 5.533722796,
            "test": [
             0.3952899346,
             0.8161434978
            ]
           },
           {
            "iteration": 229,
            "learn": [
             0.3166428161,
             0.8937125749
            ],
            "passed_time": 1.646380333,
            "remaining_time": 5.511795028,
            "test": [
             0.3953342788,
             0.8161434978
            ]
           },
           {
            "iteration": 230,
            "learn": [
             0.3165594596,
             0.8937125749
            ],
            "passed_time": 1.653293538,
            "remaining_time": 5.503821347,
            "test": [
             0.395358979,
             0.8161434978
            ]
           },
           {
            "iteration": 231,
            "learn": [
             0.316535347,
             0.8937125749
            ],
            "passed_time": 1.656535592,
            "remaining_time": 5.483704028,
            "test": [
             0.3954347095,
             0.8161434978
            ]
           },
           {
            "iteration": 232,
            "learn": [
             0.3160546773,
             0.8937125749
            ],
            "passed_time": 1.663017027,
            "remaining_time": 5.474395105,
            "test": [
             0.3952556639,
             0.8161434978
            ]
           },
           {
            "iteration": 233,
            "learn": [
             0.3158872207,
             0.8937125749
            ],
            "passed_time": 1.669025057,
            "remaining_time": 5.463560655,
            "test": [
             0.3952985079,
             0.8161434978
            ]
           },
           {
            "iteration": 234,
            "learn": [
             0.3155405295,
             0.8937125749
            ],
            "passed_time": 1.675938319,
            "remaining_time": 5.455714102,
            "test": [
             0.3950266165,
             0.8161434978
            ]
           },
           {
            "iteration": 235,
            "learn": [
             0.315142136,
             0.8937125749
            ],
            "passed_time": 1.683757895,
            "remaining_time": 5.450809456,
            "test": [
             0.3950194555,
             0.8161434978
            ]
           },
           {
            "iteration": 236,
            "learn": [
             0.314801715,
             0.8952095808
            ],
            "passed_time": 1.690250845,
            "remaining_time": 5.441609261,
            "test": [
             0.3948534401,
             0.8161434978
            ]
           },
           {
            "iteration": 237,
            "learn": [
             0.3145568856,
             0.8952095808
            ],
            "passed_time": 1.697059458,
            "remaining_time": 5.433442465,
            "test": [
             0.3949566592,
             0.8161434978
            ]
           },
           {
            "iteration": 238,
            "learn": [
             0.3139876268,
             0.8952095808
            ],
            "passed_time": 1.705025445,
            "remaining_time": 5.428972234,
            "test": [
             0.3947112704,
             0.8116591928
            ]
           },
           {
            "iteration": 239,
            "learn": [
             0.313884693,
             0.8952095808
            ],
            "passed_time": 1.71182218,
            "remaining_time": 5.420770236,
            "test": [
             0.3945455489,
             0.8116591928
            ]
           },
           {
            "iteration": 240,
            "learn": [
             0.3133804232,
             0.8952095808
            ],
            "passed_time": 1.719449803,
            "remaining_time": 5.415196681,
            "test": [
             0.3947825319,
             0.8116591928
            ]
           },
           {
            "iteration": 241,
            "learn": [
             0.313266374,
             0.8952095808
            ],
            "passed_time": 1.726829232,
            "remaining_time": 5.408828751,
            "test": [
             0.394815827,
             0.8116591928
            ]
           },
           {
            "iteration": 242,
            "learn": [
             0.3125873942,
             0.8952095808
            ],
            "passed_time": 1.733150368,
            "remaining_time": 5.399155673,
            "test": [
             0.3947623845,
             0.8116591928
            ]
           },
           {
            "iteration": 243,
            "learn": [
             0.3125716032,
             0.8952095808
            ],
            "passed_time": 1.735802934,
            "remaining_time": 5.378143516,
            "test": [
             0.3947628199,
             0.8116591928
            ]
           },
           {
            "iteration": 244,
            "learn": [
             0.3124107141,
             0.8952095808
            ],
            "passed_time": 1.742977643,
            "remaining_time": 5.371216818,
            "test": [
             0.3947460915,
             0.8116591928
            ]
           },
           {
            "iteration": 245,
            "learn": [
             0.3120558078,
             0.8952095808
            ],
            "passed_time": 1.753689408,
            "remaining_time": 5.375129325,
            "test": [
             0.3947055807,
             0.8116591928
            ]
           },
           {
            "iteration": 246,
            "learn": [
             0.3118030221,
             0.8952095808
            ],
            "passed_time": 1.761040492,
            "remaining_time": 5.3686781,
            "test": [
             0.3945752638,
             0.8116591928
            ]
           },
           {
            "iteration": 247,
            "learn": [
             0.3115541349,
             0.8952095808
            ],
            "passed_time": 1.769527582,
            "remaining_time": 5.365664281,
            "test": [
             0.3945034119,
             0.8116591928
            ]
           },
           {
            "iteration": 248,
            "learn": [
             0.3113835662,
             0.8952095808
            ],
            "passed_time": 1.776438653,
            "remaining_time": 5.357853125,
            "test": [
             0.3945553345,
             0.8116591928
            ]
           },
           {
            "iteration": 249,
            "learn": [
             0.3109113639,
             0.8952095808
            ],
            "passed_time": 1.783930186,
            "remaining_time": 5.351790558,
            "test": [
             0.3945776247,
             0.8116591928
            ]
           },
           {
            "iteration": 250,
            "learn": [
             0.3105904237,
             0.8952095808
            ],
            "passed_time": 1.791393822,
            "remaining_time": 5.345633359,
            "test": [
             0.3946489932,
             0.8116591928
            ]
           },
           {
            "iteration": 251,
            "learn": [
             0.3104614244,
             0.8952095808
            ],
            "passed_time": 1.795494321,
            "remaining_time": 5.329483144,
            "test": [
             0.3946910519,
             0.8116591928
            ]
           },
           {
            "iteration": 252,
            "learn": [
             0.3102894099,
             0.8952095808
            ],
            "passed_time": 1.80228472,
            "remaining_time": 5.3213703,
            "test": [
             0.3946865461,
             0.8116591928
            ]
           },
           {
            "iteration": 253,
            "learn": [
             0.3098848569,
             0.8952095808
            ],
            "passed_time": 1.808734836,
            "remaining_time": 5.312268455,
            "test": [
             0.3944782887,
             0.8116591928
            ]
           },
           {
            "iteration": 254,
            "learn": [
             0.3096089703,
             0.8952095808
            ],
            "passed_time": 1.815433695,
            "remaining_time": 5.303914127,
            "test": [
             0.3945151591,
             0.8116591928
            ]
           },
           {
            "iteration": 255,
            "learn": [
             0.3095388904,
             0.8967065868
            ],
            "passed_time": 1.826558482,
            "remaining_time": 5.308435587,
            "test": [
             0.3945467329,
             0.8116591928
            ]
           },
           {
            "iteration": 256,
            "learn": [
             0.3093805705,
             0.8967065868
            ],
            "passed_time": 1.833387016,
            "remaining_time": 5.300414602,
            "test": [
             0.394495143,
             0.8116591928
            ]
           },
           {
            "iteration": 257,
            "learn": [
             0.3089447175,
             0.8952095808
            ],
            "passed_time": 1.840861616,
            "remaining_time": 5.294260928,
            "test": [
             0.3943311948,
             0.8116591928
            ]
           },
           {
            "iteration": 258,
            "learn": [
             0.3088279015,
             0.8952095808
            ],
            "passed_time": 1.847360751,
            "remaining_time": 5.28530624,
            "test": [
             0.3942606994,
             0.8116591928
            ]
           },
           {
            "iteration": 259,
            "learn": [
             0.3084806138,
             0.8952095808
            ],
            "passed_time": 1.854030754,
            "remaining_time": 5.276856763,
            "test": [
             0.3942805179,
             0.8116591928
            ]
           },
           {
            "iteration": 260,
            "learn": [
             0.3083580899,
             0.8952095808
            ],
            "passed_time": 1.861566217,
            "remaining_time": 5.270871395,
            "test": [
             0.3941991343,
             0.8116591928
            ]
           },
           {
            "iteration": 261,
            "learn": [
             0.3076091936,
             0.8967065868
            ],
            "passed_time": 1.868999322,
            "remaining_time": 5.264585875,
            "test": [
             0.3944159359,
             0.8116591928
            ]
           },
           {
            "iteration": 262,
            "learn": [
             0.3073588564,
             0.8967065868
            ],
            "passed_time": 1.875840269,
            "remaining_time": 5.256632238,
            "test": [
             0.3943081065,
             0.8116591928
            ]
           },
           {
            "iteration": 263,
            "learn": [
             0.3069483482,
             0.8967065868
            ],
            "passed_time": 1.883209758,
            "remaining_time": 5.250160537,
            "test": [
             0.3943370297,
             0.8116591928
            ]
           },
           {
            "iteration": 264,
            "learn": [
             0.3069207718,
             0.8967065868
            ],
            "passed_time": 1.887723126,
            "remaining_time": 5.235760369,
            "test": [
             0.3943366007,
             0.8116591928
            ]
           },
           {
            "iteration": 265,
            "learn": [
             0.3068479252,
             0.8967065868
            ],
            "passed_time": 1.895636798,
            "remaining_time": 5.230817331,
            "test": [
             0.3943267238,
             0.8116591928
            ]
           },
           {
            "iteration": 266,
            "learn": [
             0.3066469675,
             0.8967065868
            ],
            "passed_time": 1.902649225,
            "remaining_time": 5.223377834,
            "test": [
             0.3944306392,
             0.8116591928
            ]
           },
           {
            "iteration": 267,
            "learn": [
             0.3062193496,
             0.8967065868
            ],
            "passed_time": 1.910938078,
            "remaining_time": 5.219427884,
            "test": [
             0.3943642545,
             0.8116591928
            ]
           },
           {
            "iteration": 268,
            "learn": [
             0.3055804488,
             0.8967065868
            ],
            "passed_time": 1.919231621,
            "remaining_time": 5.215458421,
            "test": [
             0.3942067339,
             0.8116591928
            ]
           },
           {
            "iteration": 269,
            "learn": [
             0.3055582223,
             0.8967065868
            ],
            "passed_time": 1.922150683,
            "remaining_time": 5.19692592,
            "test": [
             0.3942073638,
             0.8116591928
            ]
           },
           {
            "iteration": 270,
            "learn": [
             0.3052150577,
             0.8967065868
            ],
            "passed_time": 1.929594156,
            "remaining_time": 5.190679483,
            "test": [
             0.3939521842,
             0.8116591928
            ]
           },
           {
            "iteration": 271,
            "learn": [
             0.3049012908,
             0.8967065868
            ],
            "passed_time": 1.936929272,
            "remaining_time": 5.184134227,
            "test": [
             0.3939551869,
             0.8116591928
            ]
           },
           {
            "iteration": 272,
            "learn": [
             0.303985145,
             0.8982035928
            ],
            "passed_time": 1.944308559,
            "remaining_time": 5.177700815,
            "test": [
             0.3937941328,
             0.8116591928
            ]
           },
           {
            "iteration": 273,
            "learn": [
             0.3037785545,
             0.8982035928
            ],
            "passed_time": 1.951429415,
            "remaining_time": 5.170575749,
            "test": [
             0.393685302,
             0.8116591928
            ]
           },
           {
            "iteration": 274,
            "learn": [
             0.303582366,
             0.8982035928
            ],
            "passed_time": 1.958574339,
            "remaining_time": 5.163514167,
            "test": [
             0.3936546424,
             0.8116591928
            ]
           },
           {
            "iteration": 275,
            "learn": [
             0.3034915988,
             0.8982035928
            ],
            "passed_time": 1.965851743,
            "remaining_time": 5.156799501,
            "test": [
             0.3936934049,
             0.8116591928
            ]
           },
           {
            "iteration": 276,
            "learn": [
             0.3030852202,
             0.8982035928
            ],
            "passed_time": 1.99420921,
            "remaining_time": 5.205102018,
            "test": [
             0.3936621586,
             0.8116591928
            ]
           },
           {
            "iteration": 277,
            "learn": [
             0.3030279104,
             0.8982035928
            ],
            "passed_time": 2.00844558,
            "remaining_time": 5.216178807,
            "test": [
             0.3936707698,
             0.8116591928
            ]
           },
           {
            "iteration": 278,
            "learn": [
             0.3027175773,
             0.8982035928
            ],
            "passed_time": 2.020615264,
            "remaining_time": 5.221733353,
            "test": [
             0.3935986602,
             0.8116591928
            ]
           },
           {
            "iteration": 279,
            "learn": [
             0.3026976016,
             0.8982035928
            ],
            "passed_time": 2.023474014,
            "remaining_time": 5.203218893,
            "test": [
             0.3935992893,
             0.8116591928
            ]
           },
           {
            "iteration": 280,
            "learn": [
             0.3024985567,
             0.8982035928
            ],
            "passed_time": 2.030517562,
            "remaining_time": 5.195523583,
            "test": [
             0.3935022246,
             0.8116591928
            ]
           },
           {
            "iteration": 281,
            "learn": [
             0.302286243,
             0.8982035928
            ],
            "passed_time": 2.037414894,
            "remaining_time": 5.187460617,
            "test": [
             0.3935177749,
             0.8116591928
            ]
           },
           {
            "iteration": 282,
            "learn": [
             0.3018640709,
             0.8982035928
            ],
            "passed_time": 2.045178241,
            "remaining_time": 5.181599997,
            "test": [
             0.3936244904,
             0.8116591928
            ]
           },
           {
            "iteration": 283,
            "learn": [
             0.3014806837,
             0.8982035928
            ],
            "passed_time": 2.051946409,
            "remaining_time": 5.173217004,
            "test": [
             0.3934154348,
             0.8116591928
            ]
           },
           {
            "iteration": 284,
            "learn": [
             0.3012909165,
             0.8982035928
            ],
            "passed_time": 2.060080627,
            "remaining_time": 5.168272451,
            "test": [
             0.3944429453,
             0.8116591928
            ]
           },
           {
            "iteration": 285,
            "learn": [
             0.3012585315,
             0.8982035928
            ],
            "passed_time": 2.06687201,
            "remaining_time": 5.159953199,
            "test": [
             0.3944373419,
             0.8116591928
            ]
           },
           {
            "iteration": 286,
            "learn": [
             0.3011758088,
             0.8982035928
            ],
            "passed_time": 2.074089553,
            "remaining_time": 5.152703316,
            "test": [
             0.3944604902,
             0.8116591928
            ]
           },
           {
            "iteration": 287,
            "learn": [
             0.3007872069,
             0.8967065868
            ],
            "passed_time": 2.081818632,
            "remaining_time": 5.146718284,
            "test": [
             0.3944592986,
             0.8116591928
            ]
           },
           {
            "iteration": 288,
            "learn": [
             0.3004516018,
             0.8982035928
            ],
            "passed_time": 2.088901311,
            "remaining_time": 5.139130908,
            "test": [
             0.3943732306,
             0.8161434978
            ]
           },
           {
            "iteration": 289,
            "learn": [
             0.3003341157,
             0.8982035928
            ],
            "passed_time": 2.096801609,
            "remaining_time": 5.133548767,
            "test": [
             0.3944369233,
             0.8161434978
            ]
           },
           {
            "iteration": 290,
            "learn": [
             0.3001110065,
             0.8982035928
            ],
            "passed_time": 2.104345282,
            "remaining_time": 5.127081804,
            "test": [
             0.3947635958,
             0.8161434978
            ]
           },
           {
            "iteration": 291,
            "learn": [
             0.300049634,
             0.8982035928
            ],
            "passed_time": 2.111894739,
            "remaining_time": 5.12062149,
            "test": [
             0.3947831746,
             0.8161434978
            ]
           },
           {
            "iteration": 292,
            "learn": [
             0.2995600577,
             0.8982035928
            ],
            "passed_time": 2.120507514,
            "remaining_time": 5.116719496,
            "test": [
             0.3947447919,
             0.8116591928
            ]
           },
           {
            "iteration": 293,
            "learn": [
             0.2995112084,
             0.8997005988
            ],
            "passed_time": 2.127850002,
            "remaining_time": 5.10973504,
            "test": [
             0.3947652789,
             0.8116591928
            ]
           },
           {
            "iteration": 294,
            "learn": [
             0.2988606451,
             0.8982035928
            ],
            "passed_time": 2.13477688,
            "remaining_time": 5.101754916,
            "test": [
             0.3948888068,
             0.8116591928
            ]
           },
           {
            "iteration": 295,
            "learn": [
             0.2979923608,
             0.8982035928
            ],
            "passed_time": 2.141876093,
            "remaining_time": 5.094191789,
            "test": [
             0.3949596874,
             0.8116591928
            ]
           },
           {
            "iteration": 296,
            "learn": [
             0.2968685333,
             0.8997005988
            ],
            "passed_time": 2.148919437,
            "remaining_time": 5.086499544,
            "test": [
             0.3945084762,
             0.8116591928
            ]
           },
           {
            "iteration": 297,
            "learn": [
             0.2961210364,
             0.8997005988
            ],
            "passed_time": 2.156726016,
            "remaining_time": 5.080609607,
            "test": [
             0.394681349,
             0.8116591928
            ]
           },
           {
            "iteration": 298,
            "learn": [
             0.2958292939,
             0.9011976048
            ],
            "passed_time": 2.164526433,
            "remaining_time": 5.074692406,
            "test": [
             0.3946240436,
             0.8116591928
            ]
           },
           {
            "iteration": 299,
            "learn": [
             0.2956822003,
             0.9011976048
            ],
            "passed_time": 2.172126753,
            "remaining_time": 5.068295757,
            "test": [
             0.3945139556,
             0.8116591928
            ]
           },
           {
            "iteration": 300,
            "learn": [
             0.2953613922,
             0.9011976048
            ],
            "passed_time": 2.178707146,
            "remaining_time": 5.059522575,
            "test": [
             0.394409612,
             0.8161434978
            ]
           },
           {
            "iteration": 301,
            "learn": [
             0.295273806,
             0.9011976048
            ],
            "passed_time": 2.186014215,
            "remaining_time": 5.052443452,
            "test": [
             0.3943848533,
             0.8161434978
            ]
           },
           {
            "iteration": 302,
            "learn": [
             0.2948477167,
             0.9011976048
            ],
            "passed_time": 2.193803415,
            "remaining_time": 5.046471881,
            "test": [
             0.3947087151,
             0.8116591928
            ]
           },
           {
            "iteration": 303,
            "learn": [
             0.2947886596,
             0.9011976048
            ],
            "passed_time": 2.200524412,
            "remaining_time": 5.038042733,
            "test": [
             0.3947437397,
             0.8116591928
            ]
           },
           {
            "iteration": 304,
            "learn": [
             0.2942320304,
             0.9011976048
            ],
            "passed_time": 2.207846542,
            "remaining_time": 5.030994579,
            "test": [
             0.3945104973,
             0.8161434978
            ]
           },
           {
            "iteration": 305,
            "learn": [
             0.2934925801,
             0.9026946108
            ],
            "passed_time": 2.215047724,
            "remaining_time": 5.023670327,
            "test": [
             0.3945488598,
             0.8161434978
            ]
           },
           {
            "iteration": 306,
            "learn": [
             0.2920349587,
             0.9041916168
            ],
            "passed_time": 2.221731874,
            "remaining_time": 5.015179767,
            "test": [
             0.394498704,
             0.8161434978
            ]
           },
           {
            "iteration": 307,
            "learn": [
             0.2918578573,
             0.9041916168
            ],
            "passed_time": 2.22896642,
            "remaining_time": 5.007937542,
            "test": [
             0.3944464462,
             0.8161434978
            ]
           },
           {
            "iteration": 308,
            "learn": [
             0.2915460077,
             0.9041916168
            ],
            "passed_time": 2.236080742,
            "remaining_time": 5.000426514,
            "test": [
             0.3945981597,
             0.8161434978
            ]
           },
           {
            "iteration": 309,
            "learn": [
             0.2909860062,
             0.9026946108
            ],
            "passed_time": 2.243738125,
            "remaining_time": 4.994126793,
            "test": [
             0.3945023168,
             0.8161434978
            ]
           },
           {
            "iteration": 310,
            "learn": [
             0.2903803825,
             0.9026946108
            ],
            "passed_time": 2.251087416,
            "remaining_time": 4.987135788,
            "test": [
             0.3943626272,
             0.8161434978
            ]
           },
           {
            "iteration": 311,
            "learn": [
             0.2902808099,
             0.9026946108
            ],
            "passed_time": 2.257545759,
            "remaining_time": 4.978177828,
            "test": [
             0.3943277666,
             0.8161434978
            ]
           },
           {
            "iteration": 312,
            "learn": [
             0.290126119,
             0.9026946108
            ],
            "passed_time": 2.264064979,
            "remaining_time": 4.969369458,
            "test": [
             0.3942917478,
             0.8161434978
            ]
           },
           {
            "iteration": 313,
            "learn": [
             0.2900675212,
             0.9026946108
            ],
            "passed_time": 2.271660222,
            "remaining_time": 4.962926472,
            "test": [
             0.3942673006,
             0.8161434978
            ]
           },
           {
            "iteration": 314,
            "learn": [
             0.2899134863,
             0.9026946108
            ],
            "passed_time": 2.280263181,
            "remaining_time": 4.958667552,
            "test": [
             0.3940966912,
             0.8161434978
            ]
           },
           {
            "iteration": 315,
            "learn": [
             0.2898120096,
             0.9026946108
            ],
            "passed_time": 2.287825525,
            "remaining_time": 4.952128668,
            "test": [
             0.3940037396,
             0.8161434978
            ]
           },
           {
            "iteration": 316,
            "learn": [
             0.2896254464,
             0.9026946108
            ],
            "passed_time": 2.294395541,
            "remaining_time": 4.943445283,
            "test": [
             0.3939459944,
             0.8161434978
            ]
           },
           {
            "iteration": 317,
            "learn": [
             0.2891237038,
             0.9026946108
            ],
            "passed_time": 2.301495266,
            "remaining_time": 4.935911231,
            "test": [
             0.3943077431,
             0.8161434978
            ]
           },
           {
            "iteration": 318,
            "learn": [
             0.2890842877,
             0.9026946108
            ],
            "passed_time": 2.308877439,
            "remaining_time": 4.928982871,
            "test": [
             0.3943226307,
             0.8161434978
            ]
           },
           {
            "iteration": 319,
            "learn": [
             0.2887371305,
             0.9026946108
            ],
            "passed_time": 2.316676999,
            "remaining_time": 4.922938623,
            "test": [
             0.3944823359,
             0.8161434978
            ]
           },
           {
            "iteration": 320,
            "learn": [
             0.2887142319,
             0.9026946108
            ],
            "passed_time": 2.324244125,
            "remaining_time": 4.916391779,
            "test": [
             0.3945003177,
             0.8161434978
            ]
           },
           {
            "iteration": 321,
            "learn": [
             0.2886277948,
             0.9026946108
            ],
            "passed_time": 2.330310725,
            "remaining_time": 4.906679105,
            "test": [
             0.3944620618,
             0.8161434978
            ]
           },
           {
            "iteration": 322,
            "learn": [
             0.288434202,
             0.9026946108
            ],
            "passed_time": 2.336971492,
            "remaining_time": 4.898234365,
            "test": [
             0.394278855,
             0.8161434978
            ]
           },
           {
            "iteration": 323,
            "learn": [
             0.2882762179,
             0.9026946108
            ],
            "passed_time": 2.344402042,
            "remaining_time": 4.89140673,
            "test": [
             0.3941932287,
             0.8161434978
            ]
           },
           {
            "iteration": 324,
            "learn": [
             0.2880824537,
             0.9026946108
            ],
            "passed_time": 2.351458123,
            "remaining_time": 4.88379764,
            "test": [
             0.3941758118,
             0.8161434978
            ]
           },
           {
            "iteration": 325,
            "learn": [
             0.2877656026,
             0.9026946108
            ],
            "passed_time": 2.35878401,
            "remaining_time": 4.876749763,
            "test": [
             0.3941705523,
             0.8161434978
            ]
           },
           {
            "iteration": 326,
            "learn": [
             0.2876274316,
             0.9041916168
            ],
            "passed_time": 2.365931146,
            "remaining_time": 4.869332297,
            "test": [
             0.394346902,
             0.8161434978
            ]
           },
           {
            "iteration": 327,
            "learn": [
             0.2875342073,
             0.9041916168
            ],
            "passed_time": 2.372888302,
            "remaining_time": 4.861527253,
            "test": [
             0.394386455,
             0.8161434978
            ]
           },
           {
            "iteration": 328,
            "learn": [
             0.287131828,
             0.9041916168
            ],
            "passed_time": 2.380694575,
            "remaining_time": 4.855459148,
            "test": [
             0.3942479656,
             0.8161434978
            ]
           },
           {
            "iteration": 329,
            "learn": [
             0.2867026212,
             0.9041916168
            ],
            "passed_time": 2.388418841,
            "remaining_time": 4.849214011,
            "test": [
             0.3942907468,
             0.8161434978
            ]
           },
           {
            "iteration": 330,
            "learn": [
             0.2864792037,
             0.9041916168
            ],
            "passed_time": 2.395745605,
            "remaining_time": 4.842156526,
            "test": [
             0.3941041385,
             0.8161434978
            ]
           },
           {
            "iteration": 331,
            "learn": [
             0.2861154185,
             0.9041916168
            ],
            "passed_time": 2.403620589,
            "remaining_time": 4.836200461,
            "test": [
             0.3941162389,
             0.8161434978
            ]
           },
           {
            "iteration": 332,
            "learn": [
             0.2858819749,
             0.9041916168
            ],
            "passed_time": 2.414320657,
            "remaining_time": 4.835891527,
            "test": [
             0.394089937,
             0.8161434978
            ]
           },
           {
            "iteration": 333,
            "learn": [
             0.2856556453,
             0.9041916168
            ],
            "passed_time": 2.423869856,
            "remaining_time": 4.833225521,
            "test": [
             0.3939203278,
             0.8161434978
            ]
           },
           {
            "iteration": 334,
            "learn": [
             0.2854156863,
             0.9041916168
            ],
            "passed_time": 2.431171552,
            "remaining_time": 4.826056961,
            "test": [
             0.3942680543,
             0.8161434978
            ]
           },
           {
            "iteration": 335,
            "learn": [
             0.2849714386,
             0.9041916168
            ],
            "passed_time": 2.438547932,
            "remaining_time": 4.819035199,
            "test": [
             0.3939746934,
             0.8161434978
            ]
           },
           {
            "iteration": 336,
            "learn": [
             0.2846571372,
             0.9041916168
            ],
            "passed_time": 2.445821718,
            "remaining_time": 4.811809492,
            "test": [
             0.3935953577,
             0.8161434978
            ]
           },
           {
            "iteration": 337,
            "learn": [
             0.2844219202,
             0.9041916168
            ],
            "passed_time": 2.452695308,
            "remaining_time": 4.803799685,
            "test": [
             0.3930933815,
             0.8161434978
            ]
           },
           {
            "iteration": 338,
            "learn": [
             0.2842721772,
             0.9026946108
            ],
            "passed_time": 2.460237741,
            "remaining_time": 4.797100728,
            "test": [
             0.393161727,
             0.8161434978
            ]
           },
           {
            "iteration": 339,
            "learn": [
             0.283764303,
             0.9026946108
            ],
            "passed_time": 2.467916181,
            "remaining_time": 4.790660822,
            "test": [
             0.3929274566,
             0.8161434978
            ]
           },
           {
            "iteration": 340,
            "learn": [
             0.2837208374,
             0.9026946108
            ],
            "passed_time": 2.474975111,
            "remaining_time": 4.783016416,
            "test": [
             0.3929174362,
             0.8161434978
            ]
           },
           {
            "iteration": 341,
            "learn": [
             0.2829730661,
             0.9026946108
            ],
            "passed_time": 2.482093174,
            "remaining_time": 4.775489205,
            "test": [
             0.3928685379,
             0.8161434978
            ]
           },
           {
            "iteration": 342,
            "learn": [
             0.2828121468,
             0.9026946108
            ],
            "passed_time": 2.489995881,
            "remaining_time": 4.769467328,
            "test": [
             0.3928191633,
             0.8161434978
            ]
           },
           {
            "iteration": 343,
            "learn": [
             0.2825429552,
             0.9026946108
            ],
            "passed_time": 2.501546721,
            "remaining_time": 4.770391421,
            "test": [
             0.3925688673,
             0.8161434978
            ]
           },
           {
            "iteration": 344,
            "learn": [
             0.2816978967,
             0.9041916168
            ],
            "passed_time": 2.519728421,
            "remaining_time": 4.783832219,
            "test": [
             0.392724994,
             0.8161434978
            ]
           },
           {
            "iteration": 345,
            "learn": [
             0.2812802854,
             0.9041916168
            ],
            "passed_time": 2.527257018,
            "remaining_time": 4.776954017,
            "test": [
             0.3932255462,
             0.8161434978
            ]
           },
           {
            "iteration": 346,
            "learn": [
             0.2803450003,
             0.9041916168
            ],
            "passed_time": 2.534629303,
            "remaining_time": 4.76977791,
            "test": [
             0.3933986021,
             0.8161434978
            ]
           },
           {
            "iteration": 347,
            "learn": [
             0.2796085116,
             0.9041916168
            ],
            "passed_time": 2.541624811,
            "remaining_time": 4.76189476,
            "test": [
             0.393452903,
             0.8161434978
            ]
           },
           {
            "iteration": 348,
            "learn": [
             0.2793428546,
             0.9041916168
            ],
            "passed_time": 2.548355396,
            "remaining_time": 4.753522529,
            "test": [
             0.3935489788,
             0.8161434978
            ]
           },
           {
            "iteration": 349,
            "learn": [
             0.2786005696,
             0.9041916168
            ],
            "passed_time": 2.555724413,
            "remaining_time": 4.746345339,
            "test": [
             0.3937183149,
             0.8161434978
            ]
           },
           {
            "iteration": 350,
            "learn": [
             0.2777571323,
             0.9041916168
            ],
            "passed_time": 2.563101388,
            "remaining_time": 4.739181768,
            "test": [
             0.3940834061,
             0.8161434978
            ]
           },
           {
            "iteration": 351,
            "learn": [
             0.2776089897,
             0.9041916168
            ],
            "passed_time": 2.569454493,
            "remaining_time": 4.730132135,
            "test": [
             0.3940768637,
             0.8161434978
            ]
           },
           {
            "iteration": 352,
            "learn": [
             0.2767992106,
             0.9041916168
            ],
            "passed_time": 2.576730588,
            "remaining_time": 4.722789492,
            "test": [
             0.39349988,
             0.8161434978
            ]
           },
           {
            "iteration": 353,
            "learn": [
             0.2764869294,
             0.9041916168
            ],
            "passed_time": 2.584031871,
            "remaining_time": 4.715493189,
            "test": [
             0.3933341847,
             0.8161434978
            ]
           },
           {
            "iteration": 354,
            "learn": [
             0.275783873,
             0.9041916168
            ],
            "passed_time": 2.591340607,
            "remaining_time": 4.708210398,
            "test": [
             0.3935131207,
             0.8161434978
            ]
           },
           {
            "iteration": 355,
            "learn": [
             0.2757405707,
             0.9041916168
            ],
            "passed_time": 2.598609363,
            "remaining_time": 4.700855141,
            "test": [
             0.3935982156,
             0.8161434978
            ]
           },
           {
            "iteration": 356,
            "learn": [
             0.2753458076,
             0.9041916168
            ],
            "passed_time": 2.605823509,
            "remaining_time": 4.693402006,
            "test": [
             0.3935227448,
             0.8161434978
            ]
           },
           {
            "iteration": 357,
            "learn": [
             0.2747525854,
             0.9041916168
            ],
            "passed_time": 2.613189284,
            "remaining_time": 4.686222123,
            "test": [
             0.3931350361,
             0.8206278027
            ]
           },
           {
            "iteration": 358,
            "learn": [
             0.2743579086,
             0.9041916168
            ],
            "passed_time": 2.620498736,
            "remaining_time": 4.678940639,
            "test": [
             0.3931074452,
             0.8206278027
            ]
           },
           {
            "iteration": 359,
            "learn": [
             0.2743103416,
             0.9041916168
            ],
            "passed_time": 2.628275553,
            "remaining_time": 4.672489871,
            "test": [
             0.3929877413,
             0.8206278027
            ]
           },
           {
            "iteration": 360,
            "learn": [
             0.2740093861,
             0.9041916168
            ],
            "passed_time": 2.635248701,
            "remaining_time": 4.664609197,
            "test": [
             0.3930501696,
             0.8206278027
            ]
           },
           {
            "iteration": 361,
            "learn": [
             0.2736344257,
             0.9041916168
            ],
            "passed_time": 2.642933317,
            "remaining_time": 4.657987448,
            "test": [
             0.3929447397,
             0.8206278027
            ]
           },
           {
            "iteration": 362,
            "learn": [
             0.2733079532,
             0.9041916168
            ],
            "passed_time": 2.650147398,
            "remaining_time": 4.650534139,
            "test": [
             0.3929421067,
             0.8206278027
            ]
           },
           {
            "iteration": 363,
            "learn": [
             0.2731318619,
             0.9041916168
            ],
            "passed_time": 2.658286221,
            "remaining_time": 4.644697903,
            "test": [
             0.3929351003,
             0.8206278027
            ]
           },
           {
            "iteration": 364,
            "learn": [
             0.2728255929,
             0.9041916168
            ],
            "passed_time": 2.670139527,
            "remaining_time": 4.645311232,
            "test": [
             0.3929583318,
             0.8206278027
            ]
           },
           {
            "iteration": 365,
            "learn": [
             0.2727949269,
             0.9041916168
            ],
            "passed_time": 2.676676405,
            "remaining_time": 4.636647106,
            "test": [
             0.3929581659,
             0.8206278027
            ]
           },
           {
            "iteration": 366,
            "learn": [
             0.2721217038,
             0.9041916168
            ],
            "passed_time": 2.683251612,
            "remaining_time": 4.628060683,
            "test": [
             0.3931140041,
             0.8206278027
            ]
           },
           {
            "iteration": 367,
            "learn": [
             0.271768162,
             0.9041916168
            ],
            "passed_time": 2.691501369,
            "remaining_time": 4.622361047,
            "test": [
             0.3927960067,
             0.8206278027
            ]
           },
           {
            "iteration": 368,
            "learn": [
             0.271494165,
             0.9041916168
            ],
            "passed_time": 2.697925524,
            "remaining_time": 4.61352576,
            "test": [
             0.3928033417,
             0.8206278027
            ]
           },
           {
            "iteration": 369,
            "learn": [
             0.2713830763,
             0.9041916168
            ],
            "passed_time": 2.705164138,
            "remaining_time": 4.606090289,
            "test": [
             0.392939127,
             0.8206278027
            ]
           },
           {
            "iteration": 370,
            "learn": [
             0.2709699931,
             0.9041916168
            ],
            "passed_time": 2.712932861,
            "remaining_time": 4.599554635,
            "test": [
             0.3932069516,
             0.8206278027
            ]
           },
           {
            "iteration": 371,
            "learn": [
             0.2701376347,
             0.9041916168
            ],
            "passed_time": 2.719649743,
            "remaining_time": 4.591236663,
            "test": [
             0.3931881317,
             0.8251121076
            ]
           },
           {
            "iteration": 372,
            "learn": [
             0.2700162723,
             0.9041916168
            ],
            "passed_time": 2.726807189,
            "remaining_time": 4.583667848,
            "test": [
             0.3934585351,
             0.8295964126
            ]
           },
           {
            "iteration": 373,
            "learn": [
             0.2697267656,
             0.9041916168
            ],
            "passed_time": 2.733122638,
            "remaining_time": 4.574691902,
            "test": [
             0.393121974,
             0.8251121076
            ]
           },
           {
            "iteration": 374,
            "learn": [
             0.2694130103,
             0.9041916168
            ],
            "passed_time": 2.73959493,
            "remaining_time": 4.56599155,
            "test": [
             0.3935932152,
             0.8251121076
            ]
           },
           {
            "iteration": 375,
            "learn": [
             0.2693252867,
             0.9041916168
            ],
            "passed_time": 2.74656818,
            "remaining_time": 4.558134426,
            "test": [
             0.3935525034,
             0.8251121076
            ]
           },
           {
            "iteration": 376,
            "learn": [
             0.2687680374,
             0.9071856287
            ],
            "passed_time": 2.753231206,
            "remaining_time": 4.54976934,
            "test": [
             0.3937127253,
             0.8251121076
            ]
           },
           {
            "iteration": 377,
            "learn": [
             0.2685854269,
             0.9071856287
            ],
            "passed_time": 2.759639148,
            "remaining_time": 4.540993518,
            "test": [
             0.3935020747,
             0.8295964126
            ]
           },
           {
            "iteration": 378,
            "learn": [
             0.2679400784,
             0.9071856287
            ],
            "passed_time": 2.766580663,
            "remaining_time": 4.533104464,
            "test": [
             0.3936939673,
             0.8295964126
            ]
           },
           {
            "iteration": 379,
            "learn": [
             0.2670537014,
             0.9086826347
            ],
            "passed_time": 2.774461339,
            "remaining_time": 4.526752711,
            "test": [
             0.3935381627,
             0.8295964126
            ]
           },
           {
            "iteration": 380,
            "learn": [
             0.2665019333,
             0.9086826347
            ],
            "passed_time": 2.782075417,
            "remaining_time": 4.519959799,
            "test": [
             0.3934429866,
             0.8295964126
            ]
           },
           {
            "iteration": 381,
            "learn": [
             0.2659584776,
             0.9101796407
            ],
            "passed_time": 2.788477297,
            "remaining_time": 4.511201491,
            "test": [
             0.3935994467,
             0.8295964126
            ]
           },
           {
            "iteration": 382,
            "learn": [
             0.2658405132,
             0.9101796407
            ],
            "passed_time": 2.795616819,
            "remaining_time": 4.503643805,
            "test": [
             0.3936080608,
             0.8295964126
            ]
           },
           {
            "iteration": 383,
            "learn": [
             0.2656424772,
             0.9101796407
            ],
            "passed_time": 2.802957828,
            "remaining_time": 4.496411515,
            "test": [
             0.3937052134,
             0.8295964126
            ]
           },
           {
            "iteration": 384,
            "learn": [
             0.2648388942,
             0.9101796407
            ],
            "passed_time": 2.810932892,
            "remaining_time": 4.490191503,
            "test": [
             0.3936322188,
             0.8295964126
            ]
           },
           {
            "iteration": 385,
            "learn": [
             0.2644949515,
             0.9086826347
            ],
            "passed_time": 2.8185169,
            "remaining_time": 4.483340354,
            "test": [
             0.3935443373,
             0.8295964126
            ]
           },
           {
            "iteration": 386,
            "learn": [
             0.2640026401,
             0.9086826347
            ],
            "passed_time": 2.825973274,
            "remaining_time": 4.476283248,
            "test": [
             0.3935747124,
             0.8295964126
            ]
           },
           {
            "iteration": 387,
            "learn": [
             0.2639476974,
             0.9086826347
            ],
            "passed_time": 2.833733209,
            "remaining_time": 4.469702897,
            "test": [
             0.3935992802,
             0.8295964126
            ]
           },
           {
            "iteration": 388,
            "learn": [
             0.2636118116,
             0.9101796407
            ],
            "passed_time": 2.840863147,
            "remaining_time": 4.462126949,
            "test": [
             0.3936222381,
             0.8295964126
            ]
           },
           {
            "iteration": 389,
            "learn": [
             0.2628712032,
             0.9101796407
            ],
            "passed_time": 2.848082476,
            "remaining_time": 4.454693104,
            "test": [
             0.3938606909,
             0.8295964126
            ]
           },
           {
            "iteration": 390,
            "learn": [
             0.2627320393,
             0.9101796407
            ],
            "passed_time": 2.855429138,
            "remaining_time": 4.447458683,
            "test": [
             0.3938784791,
             0.8295964126
            ]
           },
           {
            "iteration": 391,
            "learn": [
             0.2623286294,
             0.9101796407
            ],
            "passed_time": 2.862592377,
            "remaining_time": 4.439939196,
            "test": [
             0.3939626803,
             0.8251121076
            ]
           },
           {
            "iteration": 392,
            "learn": [
             0.2617677869,
             0.9101796407
            ],
            "passed_time": 2.869740639,
            "remaining_time": 4.432398391,
            "test": [
             0.3941314117,
             0.8251121076
            ]
           },
           {
            "iteration": 393,
            "learn": [
             0.2611560847,
             0.9101796407
            ],
            "passed_time": 2.876985529,
            "remaining_time": 4.425008199,
            "test": [
             0.3948182849,
             0.8251121076
            ]
           },
           {
            "iteration": 394,
            "learn": [
             0.2608313961,
             0.9101796407
            ],
            "passed_time": 2.884333932,
            "remaining_time": 4.417777288,
            "test": [
             0.394730998,
             0.8251121076
            ]
           },
           {
            "iteration": 395,
            "learn": [
             0.2603952885,
             0.9101796407
            ],
            "passed_time": 2.891465326,
            "remaining_time": 4.41021479,
            "test": [
             0.3945539318,
             0.8251121076
            ]
           },
           {
            "iteration": 396,
            "learn": [
             0.2602947062,
             0.9101796407
            ],
            "passed_time": 2.898984212,
            "remaining_time": 4.403243022,
            "test": [
             0.3946811856,
             0.8251121076
            ]
           },
           {
            "iteration": 397,
            "learn": [
             0.2597627172,
             0.9101796407
            ],
            "passed_time": 2.906171843,
            "remaining_time": 4.395767461,
            "test": [
             0.394733156,
             0.8206278027
            ]
           },
           {
            "iteration": 398,
            "learn": [
             0.2596065801,
             0.9101796407
            ],
            "passed_time": 2.912868503,
            "remaining_time": 4.38755381,
            "test": [
             0.3945786172,
             0.8206278027
            ]
           },
           {
            "iteration": 399,
            "learn": [
             0.2595423553,
             0.9116766467
            ],
            "passed_time": 2.920004997,
            "remaining_time": 4.380007495,
            "test": [
             0.3945935019,
             0.8206278027
            ]
           },
           {
            "iteration": 400,
            "learn": [
             0.259483807,
             0.9116766467
            ],
            "passed_time": 2.927322953,
            "remaining_time": 4.372734286,
            "test": [
             0.3946853325,
             0.8206278027
            ]
           },
           {
            "iteration": 401,
            "learn": [
             0.2593402713,
             0.9116766467
            ],
            "passed_time": 2.934098294,
            "remaining_time": 4.364653681,
            "test": [
             0.3944686156,
             0.8206278027
            ]
           },
           {
            "iteration": 402,
            "learn": [
             0.2591148007,
             0.9116766467
            ],
            "passed_time": 2.940519907,
            "remaining_time": 4.356055544,
            "test": [
             0.3949242052,
             0.8206278027
            ]
           },
           {
            "iteration": 403,
            "learn": [
             0.2589805692,
             0.9116766467
            ],
            "passed_time": 2.948141093,
            "remaining_time": 4.34923785,
            "test": [
             0.3949932152,
             0.8206278027
            ]
           },
           {
            "iteration": 404,
            "learn": [
             0.2588899071,
             0.9116766467
            ],
            "passed_time": 2.954135185,
            "remaining_time": 4.340025765,
            "test": [
             0.3949891668,
             0.8206278027
            ]
           },
           {
            "iteration": 405,
            "learn": [
             0.258414595,
             0.9131736527
            ],
            "passed_time": 2.961347337,
            "remaining_time": 4.332611621,
            "test": [
             0.395110297,
             0.8206278027
            ]
           },
           {
            "iteration": 406,
            "learn": [
             0.2579933708,
             0.9146706587
            ],
            "passed_time": 2.968558081,
            "remaining_time": 4.325196418,
            "test": [
             0.3950425817,
             0.8206278027
            ]
           },
           {
            "iteration": 407,
            "learn": [
             0.2576120754,
             0.9146706587
            ],
            "passed_time": 3.007321741,
            "remaining_time": 4.36356488,
            "test": [
             0.3951139828,
             0.8206278027
            ]
           },
           {
            "iteration": 408,
            "learn": [
             0.2573523575,
             0.9146706587
            ],
            "passed_time": 3.027752586,
            "remaining_time": 4.375065473,
            "test": [
             0.3955451855,
             0.8206278027
            ]
           },
           {
            "iteration": 409,
            "learn": [
             0.2572755046,
             0.9146706587
            ],
            "passed_time": 3.044272061,
            "remaining_time": 4.380781747,
            "test": [
             0.3955493251,
             0.8206278027
            ]
           },
           {
            "iteration": 410,
            "learn": [
             0.256877067,
             0.9176646707
            ],
            "passed_time": 3.051555127,
            "remaining_time": 4.373153211,
            "test": [
             0.3958474177,
             0.8206278027
            ]
           },
           {
            "iteration": 411,
            "learn": [
             0.2567812983,
             0.9161676647
            ],
            "passed_time": 3.058882416,
            "remaining_time": 4.365589467,
            "test": [
             0.395845041,
             0.8206278027
            ]
           },
           {
            "iteration": 412,
            "learn": [
             0.2562087316,
             0.9176646707
            ],
            "passed_time": 3.065944204,
            "remaining_time": 4.35764951,
            "test": [
             0.3957611947,
             0.8161434978
            ]
           },
           {
            "iteration": 413,
            "learn": [
             0.2558420049,
             0.9161676647
            ],
            "passed_time": 3.073750173,
            "remaining_time": 4.350767153,
            "test": [
             0.395352123,
             0.8161434978
            ]
           },
           {
            "iteration": 414,
            "learn": [
             0.255365374,
             0.9161676647
            ],
            "passed_time": 3.081366056,
            "remaining_time": 4.343612392,
            "test": [
             0.3951213496,
             0.8161434978
            ]
           },
           {
            "iteration": 415,
            "learn": [
             0.2553291875,
             0.9161676647
            ],
            "passed_time": 3.088531845,
            "remaining_time": 4.335823552,
            "test": [
             0.3951300095,
             0.8161434978
            ]
           },
           {
            "iteration": 416,
            "learn": [
             0.2551954148,
             0.9161676647
            ],
            "passed_time": 3.09562014,
            "remaining_time": 4.327929357,
            "test": [
             0.3951344077,
             0.8161434978
            ]
           },
           {
            "iteration": 417,
            "learn": [
             0.2548738896,
             0.9176646707
            ],
            "passed_time": 3.101962386,
            "remaining_time": 4.31900026,
            "test": [
             0.3952824813,
             0.8161434978
            ]
           },
           {
            "iteration": 418,
            "learn": [
             0.2548337477,
             0.9176646707
            ],
            "passed_time": 3.109125654,
            "remaining_time": 4.311221969,
            "test": [
             0.3953128235,
             0.8161434978
            ]
           },
           {
            "iteration": 419,
            "learn": [
             0.2545168889,
             0.9176646707
            ],
            "passed_time": 3.117137635,
            "remaining_time": 4.304618639,
            "test": [
             0.395105175,
             0.8161434978
            ]
           },
           {
            "iteration": 420,
            "learn": [
             0.25448912,
             0.9176646707
            ],
            "passed_time": 3.124372336,
            "remaining_time": 4.296939627,
            "test": [
             0.3951279179,
             0.8161434978
            ]
           },
           {
            "iteration": 421,
            "learn": [
             0.2544236848,
             0.9176646707
            ],
            "passed_time": 3.130195957,
            "remaining_time": 4.287330007,
            "test": [
             0.3951587867,
             0.8161434978
            ]
           },
           {
            "iteration": 422,
            "learn": [
             0.2541059582,
             0.9176646707
            ],
            "passed_time": 3.14005704,
            "remaining_time": 4.283245656,
            "test": [
             0.3955016072,
             0.8161434978
            ]
           },
           {
            "iteration": 423,
            "learn": [
             0.2539580882,
             0.9176646707
            ],
            "passed_time": 3.147066952,
            "remaining_time": 4.275260765,
            "test": [
             0.3953673075,
             0.8161434978
            ]
           },
           {
            "iteration": 424,
            "learn": [
             0.2535691728,
             0.9176646707
            ],
            "passed_time": 3.154226752,
            "remaining_time": 4.267483253,
            "test": [
             0.3951590966,
             0.8161434978
            ]
           },
           {
            "iteration": 425,
            "learn": [
             0.2534032362,
             0.9176646707
            ],
            "passed_time": 3.161362069,
            "remaining_time": 4.259675651,
            "test": [
             0.3954811274,
             0.8161434978
            ]
           },
           {
            "iteration": 426,
            "learn": [
             0.2529053165,
             0.9191616766
            ],
            "passed_time": 3.168214733,
            "remaining_time": 4.251491902,
            "test": [
             0.3956575073,
             0.8161434978
            ]
           },
           {
            "iteration": 427,
            "learn": [
             0.2524363157,
             0.9191616766
            ],
            "passed_time": 3.175546974,
            "remaining_time": 4.243955302,
            "test": [
             0.3957283278,
             0.8161434978
            ]
           },
           {
            "iteration": 428,
            "learn": [
             0.2524112901,
             0.9191616766
            ],
            "passed_time": 3.18275163,
            "remaining_time": 4.236249839,
            "test": [
             0.3957542859,
             0.8161434978
            ]
           },
           {
            "iteration": 429,
            "learn": [
             0.2520043288,
             0.9191616766
            ],
            "passed_time": 3.190271439,
            "remaining_time": 4.228964466,
            "test": [
             0.3957241666,
             0.8161434978
            ]
           },
           {
            "iteration": 430,
            "learn": [
             0.2517401377,
             0.9191616766
            ],
            "passed_time": 3.197537154,
            "remaining_time": 4.221342553,
            "test": [
             0.3953766829,
             0.8161434978
            ]
           },
           {
            "iteration": 431,
            "learn": [
             0.2513863472,
             0.9191616766
            ],
            "passed_time": 3.204733275,
            "remaining_time": 4.213630787,
            "test": [
             0.3957690352,
             0.8161434978
            ]
           },
           {
            "iteration": 432,
            "learn": [
             0.2504186315,
             0.9206586826
            ],
            "passed_time": 3.211694182,
            "remaining_time": 4.205613398,
            "test": [
             0.395597212,
             0.8161434978
            ]
           },
           {
            "iteration": 433,
            "learn": [
             0.2496300087,
             0.9206586826
            ],
            "passed_time": 3.218857056,
            "remaining_time": 4.197864271,
            "test": [
             0.3960554308,
             0.8161434978
            ]
           },
           {
            "iteration": 434,
            "learn": [
             0.2491072519,
             0.9206586826
            ],
            "passed_time": 3.225789627,
            "remaining_time": 4.18981871,
            "test": [
             0.3963297193,
             0.8161434978
            ]
           },
           {
            "iteration": 435,
            "learn": [
             0.2490606245,
             0.9206586826
            ],
            "passed_time": 3.232583185,
            "remaining_time": 4.181598432,
            "test": [
             0.3964401356,
             0.8161434978
            ]
           },
           {
            "iteration": 436,
            "learn": [
             0.248759823,
             0.9206586826
            ],
            "passed_time": 3.240080971,
            "remaining_time": 4.174291961,
            "test": [
             0.3967218765,
             0.8161434978
            ]
           },
           {
            "iteration": 437,
            "learn": [
             0.2484354213,
             0.9206586826
            ],
            "passed_time": 3.24805764,
            "remaining_time": 4.167599072,
            "test": [
             0.3967284312,
             0.8161434978
            ]
           },
           {
            "iteration": 438,
            "learn": [
             0.2475788675,
             0.9221556886
            ],
            "passed_time": 3.255700777,
            "remaining_time": 4.160474113,
            "test": [
             0.3966892037,
             0.8161434978
            ]
           },
           {
            "iteration": 439,
            "learn": [
             0.247349149,
             0.9206586826
            ],
            "passed_time": 3.263709418,
            "remaining_time": 4.153811987,
            "test": [
             0.3966972652,
             0.8161434978
            ]
           },
           {
            "iteration": 440,
            "learn": [
             0.2470196619,
             0.9206586826
            ],
            "passed_time": 3.271404117,
            "remaining_time": 4.146745808,
            "test": [
             0.396976415,
             0.8161434978
            ]
           },
           {
            "iteration": 441,
            "learn": [
             0.246974324,
             0.9206586826
            ],
            "passed_time": 3.27961132,
            "remaining_time": 4.140323793,
            "test": [
             0.3970737237,
             0.8161434978
            ]
           },
           {
            "iteration": 442,
            "learn": [
             0.2467800117,
             0.9206586826
            ],
            "passed_time": 3.287495012,
            "remaining_time": 4.133486957,
            "test": [
             0.3971610499,
             0.8161434978
            ]
           },
           {
            "iteration": 443,
            "learn": [
             0.2462157281,
             0.9206586826
            ],
            "passed_time": 3.294719377,
            "remaining_time": 4.12581976,
            "test": [
             0.3973707791,
             0.8161434978
            ]
           },
           {
            "iteration": 444,
            "learn": [
             0.2455488234,
             0.9221556886
            ],
            "passed_time": 3.302063515,
            "remaining_time": 4.118303934,
            "test": [
             0.3977429244,
             0.8161434978
            ]
           },
           {
            "iteration": 445,
            "learn": [
             0.2454992269,
             0.9206586826
            ],
            "passed_time": 3.309055116,
            "remaining_time": 4.110350974,
            "test": [
             0.3976721062,
             0.8161434978
            ]
           },
           {
            "iteration": 446,
            "learn": [
             0.2454823466,
             0.9206586826
            ],
            "passed_time": 3.321384388,
            "remaining_time": 4.109005742,
            "test": [
             0.3976347623,
             0.8161434978
            ]
           },
           {
            "iteration": 447,
            "learn": [
             0.2451277417,
             0.9221556886
            ],
            "passed_time": 3.328910637,
            "remaining_time": 4.101693463,
            "test": [
             0.3978047537,
             0.8161434978
            ]
           },
           {
            "iteration": 448,
            "learn": [
             0.2451061977,
             0.9221556886
            ],
            "passed_time": 3.336050336,
            "remaining_time": 4.093905868,
            "test": [
             0.3977623267,
             0.8161434978
            ]
           },
           {
            "iteration": 449,
            "learn": [
             0.2450824536,
             0.9221556886
            ],
            "passed_time": 3.342671419,
            "remaining_time": 4.085487289,
            "test": [
             0.3978354979,
             0.8161434978
            ]
           },
           {
            "iteration": 450,
            "learn": [
             0.2447372781,
             0.9206586826
            ],
            "passed_time": 3.350198611,
            "remaining_time": 4.078179684,
            "test": [
             0.3979196298,
             0.8161434978
            ]
           },
           {
            "iteration": 451,
            "learn": [
             0.2442383862,
             0.9206586826
            ],
            "passed_time": 3.357249447,
            "remaining_time": 4.070293578,
            "test": [
             0.3980115677,
             0.8161434978
            ]
           },
           {
            "iteration": 452,
            "learn": [
             0.2437505598,
             0.9206586826
            ],
            "passed_time": 3.363947594,
            "remaining_time": 4.061985284,
            "test": [
             0.3979306753,
             0.8161434978
            ]
           },
           {
            "iteration": 453,
            "learn": [
             0.2434299759,
             0.9236526946
            ],
            "passed_time": 3.371296971,
            "remaining_time": 4.054467282,
            "test": [
             0.3982907589,
             0.8161434978
            ]
           },
           {
            "iteration": 454,
            "learn": [
             0.2430659568,
             0.9236526946
            ],
            "passed_time": 3.378837414,
            "remaining_time": 4.047178881,
            "test": [
             0.3984171193,
             0.8161434978
            ]
           },
           {
            "iteration": 455,
            "learn": [
             0.2430270417,
             0.9236526946
            ],
            "passed_time": 3.38780485,
            "remaining_time": 4.041591751,
            "test": [
             0.398386458,
             0.8161434978
            ]
           },
           {
            "iteration": 456,
            "learn": [
             0.2427738858,
             0.9236526946
            ],
            "passed_time": 3.395075429,
            "remaining_time": 4.03397365,
            "test": [
             0.3985092444,
             0.8161434978
            ]
           },
           {
            "iteration": 457,
            "learn": [
             0.2425688064,
             0.9236526946
            ],
            "passed_time": 3.401425549,
            "remaining_time": 4.025267789,
            "test": [
             0.3986027152,
             0.8161434978
            ]
           },
           {
            "iteration": 458,
            "learn": [
             0.2424027047,
             0.9236526946
            ],
            "passed_time": 3.409488934,
            "remaining_time": 4.018591532,
            "test": [
             0.3987648915,
             0.8161434978
            ]
           },
           {
            "iteration": 459,
            "learn": [
             0.2420582584,
             0.9236526946
            ],
            "passed_time": 3.416576311,
            "remaining_time": 4.010763495,
            "test": [
             0.398782963,
             0.8161434978
            ]
           },
           {
            "iteration": 460,
            "learn": [
             0.2415431862,
             0.9236526946
            ],
            "passed_time": 3.424103332,
            "remaining_time": 4.003452703,
            "test": [
             0.3981028885,
             0.8071748879
            ]
           },
           {
            "iteration": 461,
            "learn": [
             0.2412623126,
             0.9236526946
            ],
            "passed_time": 3.4302871,
            "remaining_time": 3.994576753,
            "test": [
             0.397759875,
             0.8116591928
            ]
           },
           {
            "iteration": 462,
            "learn": [
             0.2409588674,
             0.9236526946
            ],
            "passed_time": 3.437505695,
            "remaining_time": 3.986912653,
            "test": [
             0.3981317152,
             0.8071748879
            ]
           },
           {
            "iteration": 463,
            "learn": [
             0.2406763079,
             0.9236526946
            ],
            "passed_time": 3.444935614,
            "remaining_time": 3.979494589,
            "test": [
             0.3979839154,
             0.8116591928
            ]
           },
           {
            "iteration": 464,
            "learn": [
             0.2401859678,
             0.9236526946
            ],
            "passed_time": 3.451856352,
            "remaining_time": 3.971490642,
            "test": [
             0.3983407282,
             0.8116591928
            ]
           },
           {
            "iteration": 465,
            "learn": [
             0.2398564001,
             0.9236526946
            ],
            "passed_time": 3.458766449,
            "remaining_time": 3.96347915,
            "test": [
             0.3984806529,
             0.8071748879
            ]
           },
           {
            "iteration": 466,
            "learn": [
             0.2394755934,
             0.9251497006
            ],
            "passed_time": 3.466146078,
            "remaining_time": 3.956008265,
            "test": [
             0.3985543362,
             0.8116591928
            ]
           },
           {
            "iteration": 467,
            "learn": [
             0.239436931,
             0.9251497006
            ],
            "passed_time": 3.474662712,
            "remaining_time": 3.949830262,
            "test": [
             0.3985783662,
             0.8116591928
            ]
           },
           {
            "iteration": 468,
            "learn": [
             0.2391093002,
             0.9251497006
            ],
            "passed_time": 3.482845724,
            "remaining_time": 3.943264562,
            "test": [
             0.3986517969,
             0.8071748879
            ]
           },
           {
            "iteration": 469,
            "learn": [
             0.2386625172,
             0.9251497006
            ],
            "passed_time": 3.489957956,
            "remaining_time": 3.935484504,
            "test": [
             0.3989855638,
             0.8071748879
            ]
           },
           {
            "iteration": 470,
            "learn": [
             0.2381872339,
             0.9251497006
            ],
            "passed_time": 3.497613603,
            "remaining_time": 3.928317614,
            "test": [
             0.398934172,
             0.8071748879
            ]
           },
           {
            "iteration": 471,
            "learn": [
             0.2376055075,
             0.9236526946
            ],
            "passed_time": 3.508839603,
            "remaining_time": 3.925142607,
            "test": [
             0.3992165642,
             0.8071748879
            ]
           },
           {
            "iteration": 472,
            "learn": [
             0.2369852521,
             0.9236526946
            ],
            "passed_time": 3.516946804,
            "remaining_time": 3.918458701,
            "test": [
             0.3992029691,
             0.8071748879
            ]
           },
           {
            "iteration": 473,
            "learn": [
             0.2367770947,
             0.9236526946
            ],
            "passed_time": 3.526108406,
            "remaining_time": 3.912938864,
            "test": [
             0.3990385053,
             0.8116591928
            ]
           },
           {
            "iteration": 474,
            "learn": [
             0.2366902334,
             0.9236526946
            ],
            "passed_time": 3.535557885,
            "remaining_time": 3.907721873,
            "test": [
             0.3991801621,
             0.8116591928
            ]
           },
           {
            "iteration": 475,
            "learn": [
             0.2364978025,
             0.9251497006
            ],
            "passed_time": 3.544881365,
            "remaining_time": 3.902348394,
            "test": [
             0.3988624202,
             0.8116591928
            ]
           },
           {
            "iteration": 476,
            "learn": [
             0.235951465,
             0.9266467066
            ],
            "passed_time": 3.552306524,
            "remaining_time": 3.894876964,
            "test": [
             0.398813897,
             0.8116591928
            ]
           },
           {
            "iteration": 477,
            "learn": [
             0.2357714956,
             0.9266467066
            ],
            "passed_time": 3.560620575,
            "remaining_time": 3.888376444,
            "test": [
             0.3986606722,
             0.8116591928
            ]
           },
           {
            "iteration": 478,
            "learn": [
             0.2356673774,
             0.9266467066
            ],
            "passed_time": 3.567641372,
            "remaining_time": 3.880461702,
            "test": [
             0.398699583,
             0.8116591928
            ]
           },
           {
            "iteration": 479,
            "learn": [
             0.2352692081,
             0.9251497006
            ],
            "passed_time": 3.574220526,
            "remaining_time": 3.872072236,
            "test": [
             0.3988181518,
             0.8116591928
            ]
           },
           {
            "iteration": 480,
            "learn": [
             0.2351312473,
             0.9251497006
            ],
            "passed_time": 3.58112251,
            "remaining_time": 3.864038633,
            "test": [
             0.3987838088,
             0.8116591928
            ]
           },
           {
            "iteration": 481,
            "learn": [
             0.2348799601,
             0.9251497006
            ],
            "passed_time": 3.588395015,
            "remaining_time": 3.85640792,
            "test": [
             0.3993014163,
             0.8116591928
            ]
           },
           {
            "iteration": 482,
            "learn": [
             0.2344201771,
             0.9266467066
            ],
            "passed_time": 3.595627161,
            "remaining_time": 3.848735492,
            "test": [
             0.3995722736,
             0.8116591928
            ]
           },
           {
            "iteration": 483,
            "learn": [
             0.2339024688,
             0.9281437126
            ],
            "passed_time": 3.603033634,
            "remaining_time": 3.841250734,
            "test": [
             0.3997432575,
             0.8116591928
            ]
           },
           {
            "iteration": 484,
            "learn": [
             0.2337993459,
             0.9281437126
            ],
            "passed_time": 3.609215478,
            "remaining_time": 3.83246592,
            "test": [
             0.3996815298,
             0.8116591928
            ]
           },
           {
            "iteration": 485,
            "learn": [
             0.2336697914,
             0.9281437126
            ],
            "passed_time": 3.615335369,
            "remaining_time": 3.823626295,
            "test": [
             0.3996593551,
             0.8116591928
            ]
           },
           {
            "iteration": 486,
            "learn": [
             0.2332567754,
             0.9296407186
            ],
            "passed_time": 3.622738527,
            "remaining_time": 3.816149619,
            "test": [
             0.4000085023,
             0.8071748879
            ]
           },
           {
            "iteration": 487,
            "learn": [
             0.2326517328,
             0.9296407186
            ],
            "passed_time": 3.629765448,
            "remaining_time": 3.808278503,
            "test": [
             0.4003416188,
             0.8071748879
            ]
           },
           {
            "iteration": 488,
            "learn": [
             0.232482787,
             0.9281437126
            ],
            "passed_time": 3.635430362,
            "remaining_time": 3.798987556,
            "test": [
             0.4003285207,
             0.8116591928
            ]
           },
           {
            "iteration": 489,
            "learn": [
             0.232283346,
             0.9296407186
            ],
            "passed_time": 3.642405059,
            "remaining_time": 3.791074654,
            "test": [
             0.4002768199,
             0.8116591928
            ]
           },
           {
            "iteration": 490,
            "learn": [
             0.2318461265,
             0.9296407186
            ],
            "passed_time": 3.649895254,
            "remaining_time": 3.783699968,
            "test": [
             0.3998456175,
             0.8116591928
            ]
           },
           {
            "iteration": 491,
            "learn": [
             0.2316778152,
             0.9281437126
            ],
            "passed_time": 3.657577481,
            "remaining_time": 3.77652309,
            "test": [
             0.3998497325,
             0.8116591928
            ]
           },
           {
            "iteration": 492,
            "learn": [
             0.2312692608,
             0.9281437126
            ],
            "passed_time": 3.66445496,
            "remaining_time": 3.768516561,
            "test": [
             0.4000347944,
             0.8116591928
            ]
           },
           {
            "iteration": 493,
            "learn": [
             0.2311996719,
             0.9281437126
            ],
            "passed_time": 3.671165044,
            "remaining_time": 3.760343142,
            "test": [
             0.4000261421,
             0.8116591928
            ]
           },
           {
            "iteration": 494,
            "learn": [
             0.2310230504,
             0.9281437126
            ],
            "passed_time": 3.677996049,
            "remaining_time": 3.752298999,
            "test": [
             0.4001433943,
             0.8116591928
            ]
           },
           {
            "iteration": 495,
            "learn": [
             0.2309937916,
             0.9281437126
            ],
            "passed_time": 3.685652334,
            "remaining_time": 3.74509834,
            "test": [
             0.4001660103,
             0.8116591928
            ]
           },
           {
            "iteration": 496,
            "learn": [
             0.2309784047,
             0.9281437126
            ],
            "passed_time": 3.693587781,
            "remaining_time": 3.738178378,
            "test": [
             0.4000766692,
             0.8116591928
            ]
           },
           {
            "iteration": 497,
            "learn": [
             0.2309378567,
             0.9281437126
            ],
            "passed_time": 3.700364258,
            "remaining_time": 3.730086059,
            "test": [
             0.4001060174,
             0.8116591928
            ]
           },
           {
            "iteration": 498,
            "learn": [
             0.2307584173,
             0.9281437126
            ],
            "passed_time": 3.707729911,
            "remaining_time": 3.722590552,
            "test": [
             0.4001245368,
             0.8116591928
            ]
           },
           {
            "iteration": 499,
            "learn": [
             0.2303942704,
             0.9266467066
            ],
            "passed_time": 3.715308086,
            "remaining_time": 3.715308086,
            "test": [
             0.4004810367,
             0.8116591928
            ]
           },
           {
            "iteration": 500,
            "learn": [
             0.2299915956,
             0.9266467066
            ],
            "passed_time": 3.722947674,
            "remaining_time": 3.708085607,
            "test": [
             0.4000835013,
             0.8116591928
            ]
           },
           {
            "iteration": 501,
            "learn": [
             0.2299763037,
             0.9266467066
            ],
            "passed_time": 3.729851589,
            "remaining_time": 3.700131656,
            "test": [
             0.4001095346,
             0.8116591928
            ]
           },
           {
            "iteration": 502,
            "learn": [
             0.2294095348,
             0.9281437126
            ],
            "passed_time": 3.736876694,
            "remaining_time": 3.692301624,
            "test": [
             0.4004350075,
             0.8116591928
            ]
           },
           {
            "iteration": 503,
            "learn": [
             0.2290032502,
             0.9281437126
            ],
            "passed_time": 3.743992226,
            "remaining_time": 3.684563778,
            "test": [
             0.4004430837,
             0.8161434978
            ]
           },
           {
            "iteration": 504,
            "learn": [
             0.2286083509,
             0.9281437126
            ],
            "passed_time": 3.75106989,
            "remaining_time": 3.676791278,
            "test": [
             0.4007688237,
             0.8161434978
            ]
           },
           {
            "iteration": 505,
            "learn": [
             0.2284726754,
             0.9281437126
            ],
            "passed_time": 3.758132069,
            "remaining_time": 3.669006408,
            "test": [
             0.4007066417,
             0.8116591928
            ]
           },
           {
            "iteration": 506,
            "learn": [
             0.2280682284,
             0.9281437126
            ],
            "passed_time": 3.764898187,
            "remaining_time": 3.660936501,
            "test": [
             0.4009866356,
             0.8116591928
            ]
           },
           {
            "iteration": 507,
            "learn": [
             0.2279170923,
             0.9281437126
            ],
            "passed_time": 3.771872837,
            "remaining_time": 3.653073692,
            "test": [
             0.4008777107,
             0.8116591928
            ]
           },
           {
            "iteration": 508,
            "learn": [
             0.2277099753,
             0.9281437126
            ],
            "passed_time": 3.779252174,
            "remaining_time": 3.645604749,
            "test": [
             0.4008844301,
             0.8116591928
            ]
           },
           {
            "iteration": 509,
            "learn": [
             0.2272629051,
             0.9281437126
            ],
            "passed_time": 3.786520152,
            "remaining_time": 3.638029165,
            "test": [
             0.4010893096,
             0.8116591928
            ]
           },
           {
            "iteration": 510,
            "learn": [
             0.2272161987,
             0.9281437126
            ],
            "passed_time": 3.793192722,
            "remaining_time": 3.629885012,
            "test": [
             0.4011025013,
             0.8116591928
            ]
           },
           {
            "iteration": 511,
            "learn": [
             0.2268179996,
             0.9281437126
            ],
            "passed_time": 3.800693096,
            "remaining_time": 3.622535607,
            "test": [
             0.4008580476,
             0.8116591928
            ]
           },
           {
            "iteration": 512,
            "learn": [
             0.2267750971,
             0.9281437126
            ],
            "passed_time": 3.808134737,
            "remaining_time": 3.615129857,
            "test": [
             0.4009264155,
             0.8116591928
            ]
           },
           {
            "iteration": 513,
            "learn": [
             0.2263630638,
             0.9296407186
            ],
            "passed_time": 3.815768083,
            "remaining_time": 3.607905231,
            "test": [
             0.4002572255,
             0.8161434978
            ]
           },
           {
            "iteration": 514,
            "learn": [
             0.2261492192,
             0.9296407186
            ],
            "passed_time": 3.822754431,
            "remaining_time": 3.600069707,
            "test": [
             0.4003809877,
             0.8116591928
            ]
           },
           {
            "iteration": 515,
            "learn": [
             0.2257929842,
             0.9296407186
            ],
            "passed_time": 3.829309209,
            "remaining_time": 3.591832669,
            "test": [
             0.4004928428,
             0.8116591928
            ]
           },
           {
            "iteration": 516,
            "learn": [
             0.2256643045,
             0.9296407186
            ],
            "passed_time": 3.836852481,
            "remaining_time": 3.584525625,
            "test": [
             0.4004824728,
             0.8161434978
            ]
           },
           {
            "iteration": 517,
            "learn": [
             0.2251149247,
             0.9296407186
            ],
            "passed_time": 3.843951514,
            "remaining_time": 3.576804304,
            "test": [
             0.4014834342,
             0.8071748879
            ]
           },
           {
            "iteration": 518,
            "learn": [
             0.2244045999,
             0.9311377246
            ],
            "passed_time": 3.851502818,
            "remaining_time": 3.569504539,
            "test": [
             0.4020699794,
             0.802690583
            ]
           },
           {
            "iteration": 519,
            "learn": [
             0.2239187379,
             0.9311377246
            ],
            "passed_time": 3.858844444,
            "remaining_time": 3.562010256,
            "test": [
             0.4024912196,
             0.8116591928
            ]
           },
           {
            "iteration": 520,
            "learn": [
             0.2236434502,
             0.9311377246
            ],
            "passed_time": 3.866144591,
            "remaining_time": 3.554478424,
            "test": [
             0.4025869527,
             0.8116591928
            ]
           },
           {
            "iteration": 521,
            "learn": [
             0.2233772541,
             0.9311377246
            ],
            "passed_time": 3.873825284,
            "remaining_time": 3.54729595,
            "test": [
             0.402511942,
             0.8071748879
            ]
           },
           {
            "iteration": 522,
            "learn": [
             0.2231432102,
             0.9311377246
            ],
            "passed_time": 3.880306731,
            "remaining_time": 3.539017802,
            "test": [
             0.40251333,
             0.802690583
            ]
           },
           {
            "iteration": 523,
            "learn": [
             0.2228520326,
             0.9311377246
            ],
            "passed_time": 3.887375626,
            "remaining_time": 3.531280148,
            "test": [
             0.402528972,
             0.802690583
            ]
           },
           {
            "iteration": 524,
            "learn": [
             0.2225748313,
             0.9311377246
            ],
            "passed_time": 3.897304662,
            "remaining_time": 3.52613279,
            "test": [
             0.4025821343,
             0.802690583
            ]
           },
           {
            "iteration": 525,
            "learn": [
             0.2223664713,
             0.9311377246
            ],
            "passed_time": 3.90444789,
            "remaining_time": 3.518456844,
            "test": [
             0.4023117677,
             0.802690583
            ]
           },
           {
            "iteration": 526,
            "learn": [
             0.2223400695,
             0.9311377246
            ],
            "passed_time": 3.913021646,
            "remaining_time": 3.512066866,
            "test": [
             0.4024109875,
             0.802690583
            ]
           },
           {
            "iteration": 527,
            "learn": [
             0.2220189212,
             0.9311377246
            ],
            "passed_time": 3.921947321,
            "remaining_time": 3.505983212,
            "test": [
             0.4021617641,
             0.8071748879
            ]
           },
           {
            "iteration": 528,
            "learn": [
             0.2217846421,
             0.9311377246
            ],
            "passed_time": 3.929794365,
            "remaining_time": 3.498928442,
            "test": [
             0.402100517,
             0.802690583
            ]
           },
           {
            "iteration": 529,
            "learn": [
             0.2214846261,
             0.9311377246
            ],
            "passed_time": 3.93721071,
            "remaining_time": 3.491488743,
            "test": [
             0.402038202,
             0.802690583
            ]
           },
           {
            "iteration": 530,
            "learn": [
             0.2211278744,
             0.9326347305
            ],
            "passed_time": 3.944888753,
            "remaining_time": 3.484280273,
            "test": [
             0.4028009919,
             0.8071748879
            ]
           },
           {
            "iteration": 531,
            "learn": [
             0.2210115842,
             0.9326347305
            ],
            "passed_time": 3.951592895,
            "remaining_time": 3.476213299,
            "test": [
             0.4026795198,
             0.8071748879
            ]
           },
           {
            "iteration": 532,
            "learn": [
             0.2204093749,
             0.9311377246
            ],
            "passed_time": 3.958405824,
            "remaining_time": 3.468246754,
            "test": [
             0.4030189379,
             0.8071748879
            ]
           },
           {
            "iteration": 533,
            "learn": [
             0.2203590416,
             0.9311377246
            ],
            "passed_time": 3.965849763,
            "remaining_time": 3.460835187,
            "test": [
             0.403033752,
             0.8071748879
            ]
           },
           {
            "iteration": 534,
            "learn": [
             0.2200486596,
             0.9326347305
            ],
            "passed_time": 3.973277733,
            "remaining_time": 3.453409619,
            "test": [
             0.4029835735,
             0.8071748879
            ]
           },
           {
            "iteration": 535,
            "learn": [
             0.2195000492,
             0.9326347305
            ],
            "passed_time": 3.980281347,
            "remaining_time": 3.445616688,
            "test": [
             0.4031546292,
             0.8071748879
            ]
           },
           {
            "iteration": 536,
            "learn": [
             0.219345597,
             0.9326347305
            ],
            "passed_time": 4.010089884,
            "remaining_time": 3.457489043,
            "test": [
             0.4032037202,
             0.802690583
            ]
           },
           {
            "iteration": 537,
            "learn": [
             0.2192746845,
             0.9326347305
            ],
            "passed_time": 4.033723196,
            "remaining_time": 3.463903562,
            "test": [
             0.4031583062,
             0.802690583
            ]
           },
           {
            "iteration": 538,
            "learn": [
             0.2190067206,
             0.9326347305
            ],
            "passed_time": 4.052050169,
            "remaining_time": 3.46566814,
            "test": [
             0.4034594521,
             0.798206278
            ]
           },
           {
            "iteration": 539,
            "learn": [
             0.2189001321,
             0.9341317365
            ],
            "passed_time": 4.071772885,
            "remaining_time": 3.468547272,
            "test": [
             0.4033536343,
             0.798206278
            ]
           },
           {
            "iteration": 540,
            "learn": [
             0.2187513056,
             0.9341317365
            ],
            "passed_time": 4.082413162,
            "remaining_time": 3.463637045,
            "test": [
             0.4034791387,
             0.798206278
            ]
           },
           {
            "iteration": 541,
            "learn": [
             0.2184514077,
             0.9341317365
            ],
            "passed_time": 4.089299207,
            "remaining_time": 3.455533279,
            "test": [
             0.4034663135,
             0.798206278
            ]
           },
           {
            "iteration": 542,
            "learn": [
             0.2183677839,
             0.9341317365
            ],
            "passed_time": 4.096242075,
            "remaining_time": 3.44748182,
            "test": [
             0.403250534,
             0.798206278
            ]
           },
           {
            "iteration": 543,
            "learn": [
             0.2183437854,
             0.9341317365
            ],
            "passed_time": 4.103132385,
            "remaining_time": 3.439390382,
            "test": [
             0.4032649672,
             0.798206278
            ]
           },
           {
            "iteration": 544,
            "learn": [
             0.2180894156,
             0.9356287425
            ],
            "passed_time": 4.110866837,
            "remaining_time": 3.432008093,
            "test": [
             0.4032586985,
             0.798206278
            ]
           },
           {
            "iteration": 545,
            "learn": [
             0.2179381072,
             0.9341317365
            ],
            "passed_time": 4.116989815,
            "remaining_time": 3.423284571,
            "test": [
             0.4034186651,
             0.798206278
            ]
           },
           {
            "iteration": 546,
            "learn": [
             0.2178779668,
             0.9341317365
            ],
            "passed_time": 4.126669705,
            "remaining_time": 3.417516227,
            "test": [
             0.4033643083,
             0.798206278
            ]
           },
           {
            "iteration": 547,
            "learn": [
             0.2176537319,
             0.9356287425
            ],
            "passed_time": 4.133630658,
            "remaining_time": 3.409490981,
            "test": [
             0.4033614517,
             0.798206278
            ]
           },
           {
            "iteration": 548,
            "learn": [
             0.2175998158,
             0.9356287425
            ],
            "passed_time": 4.141217544,
            "remaining_time": 3.401983812,
            "test": [
             0.4033044676,
             0.798206278
            ]
           },
           {
            "iteration": 549,
            "learn": [
             0.2170950017,
             0.9356287425
            ],
            "passed_time": 4.14809269,
            "remaining_time": 3.393894019,
            "test": [
             0.4032514442,
             0.798206278
            ]
           },
           {
            "iteration": 550,
            "learn": [
             0.2168404821,
             0.9356287425
            ],
            "passed_time": 4.155493842,
            "remaining_time": 3.386237269,
            "test": [
             0.4032412831,
             0.798206278
            ]
           },
           {
            "iteration": 551,
            "learn": [
             0.2168098587,
             0.9356287425
            ],
            "passed_time": 4.162334085,
            "remaining_time": 3.378126214,
            "test": [
             0.4033497974,
             0.798206278
            ]
           },
           {
            "iteration": 552,
            "learn": [
             0.2165879006,
             0.9356287425
            ],
            "passed_time": 4.168845937,
            "remaining_time": 3.369754311,
            "test": [
             0.4034719021,
             0.798206278
            ]
           },
           {
            "iteration": 553,
            "learn": [
             0.2162678109,
             0.9356287425
            ],
            "passed_time": 4.17651928,
            "remaining_time": 3.362324186,
            "test": [
             0.403539204,
             0.798206278
            ]
           },
           {
            "iteration": 554,
            "learn": [
             0.2160271315,
             0.9356287425
            ],
            "passed_time": 4.183519755,
            "remaining_time": 3.354353677,
            "test": [
             0.4035323791,
             0.798206278
            ]
           },
           {
            "iteration": 555,
            "learn": [
             0.215848568,
             0.9356287425
            ],
            "passed_time": 4.191428943,
            "remaining_time": 3.347112321,
            "test": [
             0.403661625,
             0.798206278
            ]
           },
           {
            "iteration": 556,
            "learn": [
             0.2156300104,
             0.9371257485
            ],
            "passed_time": 4.198391021,
            "remaining_time": 3.3391153,
            "test": [
             0.40357658,
             0.798206278
            ]
           },
           {
            "iteration": 557,
            "learn": [
             0.2154524295,
             0.9371257485
            ],
            "passed_time": 4.205009196,
            "remaining_time": 3.330849578,
            "test": [
             0.4032749503,
             0.798206278
            ]
           },
           {
            "iteration": 558,
            "learn": [
             0.2153957652,
             0.9371257485
            ],
            "passed_time": 4.212097795,
            "remaining_time": 3.322960872,
            "test": [
             0.4033683489,
             0.798206278
            ]
           },
           {
            "iteration": 559,
            "learn": [
             0.2153603493,
             0.9371257485
            ],
            "passed_time": 4.219142063,
            "remaining_time": 3.315040192,
            "test": [
             0.4033590534,
             0.798206278
            ]
           },
           {
            "iteration": 560,
            "learn": [
             0.2153033518,
             0.9371257485
            ],
            "passed_time": 4.226725023,
            "remaining_time": 3.30754418,
            "test": [
             0.4033727617,
             0.798206278
            ]
           },
           {
            "iteration": 561,
            "learn": [
             0.2152632726,
             0.9371257485
            ],
            "passed_time": 4.233893907,
            "remaining_time": 3.299725144,
            "test": [
             0.4032865874,
             0.798206278
            ]
           },
           {
            "iteration": 562,
            "learn": [
             0.2148556412,
             0.9386227545
            ],
            "passed_time": 4.241574995,
            "remaining_time": 3.292305991,
            "test": [
             0.4036073035,
             0.798206278
            ]
           },
           {
            "iteration": 563,
            "learn": [
             0.2148436311,
             0.9386227545
            ],
            "passed_time": 4.248950401,
            "remaining_time": 3.284649601,
            "test": [
             0.4035961079,
             0.798206278
            ]
           },
           {
            "iteration": 564,
            "learn": [
             0.2148227893,
             0.9386227545
            ],
            "passed_time": 4.255703571,
            "remaining_time": 3.276515139,
            "test": [
             0.4036479378,
             0.798206278
            ]
           },
           {
            "iteration": 565,
            "learn": [
             0.2147964772,
             0.9386227545
            ],
            "passed_time": 4.261841749,
            "remaining_time": 3.267913991,
            "test": [
             0.4035683777,
             0.798206278
            ]
           },
           {
            "iteration": 566,
            "learn": [
             0.2146438155,
             0.9386227545
            ],
            "passed_time": 4.2688239,
            "remaining_time": 3.259966047,
            "test": [
             0.4035600533,
             0.798206278
            ]
           },
           {
            "iteration": 567,
            "learn": [
             0.2144449844,
             0.9386227545
            ],
            "passed_time": 4.276025174,
            "remaining_time": 3.252188161,
            "test": [
             0.403171913,
             0.798206278
            ]
           },
           {
            "iteration": 568,
            "learn": [
             0.2142730646,
             0.9386227545
            ],
            "passed_time": 4.282445582,
            "remaining_time": 3.243820819,
            "test": [
             0.4028814496,
             0.802690583
            ]
           },
           {
            "iteration": 569,
            "learn": [
             0.21425584,
             0.9386227545
            ],
            "passed_time": 4.289701894,
            "remaining_time": 3.236090903,
            "test": [
             0.4029259492,
             0.802690583
            ]
           },
           {
            "iteration": 570,
            "learn": [
             0.2139707751,
             0.9386227545
            ],
            "passed_time": 4.296524186,
            "remaining_time": 3.22803656,
            "test": [
             0.4032103827,
             0.802690583
            ]
           },
           {
            "iteration": 571,
            "learn": [
             0.2137729806,
             0.9386227545
            ],
            "passed_time": 4.304115792,
            "remaining_time": 3.220562166,
            "test": [
             0.4031149293,
             0.798206278
            ]
           },
           {
            "iteration": 572,
            "learn": [
             0.2136809718,
             0.9386227545
            ],
            "passed_time": 4.310788182,
            "remaining_time": 3.212402362,
            "test": [
             0.4032356992,
             0.8071748879
            ]
           },
           {
            "iteration": 573,
            "learn": [
             0.2133414136,
             0.9386227545
            ],
            "passed_time": 4.318259167,
            "remaining_time": 3.204840427,
            "test": [
             0.4035250801,
             0.802690583
            ]
           },
           {
            "iteration": 574,
            "learn": [
             0.2132676029,
             0.9386227545
            ],
            "passed_time": 4.32524052,
            "remaining_time": 3.196916906,
            "test": [
             0.4035442322,
             0.802690583
            ]
           },
           {
            "iteration": 575,
            "learn": [
             0.2127804863,
             0.9386227545
            ],
            "passed_time": 4.332366085,
            "remaining_time": 3.189102813,
            "test": [
             0.4039081119,
             0.798206278
            ]
           },
           {
            "iteration": 576,
            "learn": [
             0.212457796,
             0.9371257485
            ],
            "passed_time": 4.340138684,
            "remaining_time": 3.181765447,
            "test": [
             0.4039974479,
             0.798206278
            ]
           },
           {
            "iteration": 577,
            "learn": [
             0.2124095591,
             0.9371257485
            ],
            "passed_time": 4.349931313,
            "remaining_time": 3.175901409,
            "test": [
             0.4040149431,
             0.798206278
            ]
           },
           {
            "iteration": 578,
            "learn": [
             0.2121429675,
             0.9371257485
            ],
            "passed_time": 4.356320556,
            "remaining_time": 3.167549144,
            "test": [
             0.4043250546,
             0.798206278
            ]
           },
           {
            "iteration": 579,
            "learn": [
             0.2120690065,
             0.9371257485
            ],
            "passed_time": 4.363032566,
            "remaining_time": 3.159437376,
            "test": [
             0.4045012879,
             0.798206278
            ]
           },
           {
            "iteration": 580,
            "learn": [
             0.2120014241,
             0.9371257485
            ],
            "passed_time": 4.371612537,
            "remaining_time": 3.152677544,
            "test": [
             0.4043891442,
             0.798206278
            ]
           },
           {
            "iteration": 581,
            "learn": [
             0.2116057557,
             0.9386227545
            ],
            "passed_time": 4.379398428,
            "remaining_time": 3.145341139,
            "test": [
             0.4044004185,
             0.798206278
            ]
           },
           {
            "iteration": 582,
            "learn": [
             0.2115861705,
             0.9386227545
            ],
            "passed_time": 4.3863073,
            "remaining_time": 3.13737589,
            "test": [
             0.4043126069,
             0.802690583
            ]
           },
           {
            "iteration": 583,
            "learn": [
             0.2112349952,
             0.9386227545
            ],
            "passed_time": 4.393339463,
            "remaining_time": 3.129502084,
            "test": [
             0.4043208769,
             0.802690583
            ]
           },
           {
            "iteration": 584,
            "learn": [
             0.2110964586,
             0.9386227545
            ],
            "passed_time": 4.400216976,
            "remaining_time": 3.121521444,
            "test": [
             0.4041533627,
             0.802690583
            ]
           },
           {
            "iteration": 585,
            "learn": [
             0.2109454836,
             0.9401197605
            ],
            "passed_time": 4.408255317,
            "remaining_time": 3.114364678,
            "test": [
             0.4045122796,
             0.802690583
            ]
           },
           {
            "iteration": 586,
            "learn": [
             0.2105431363,
             0.9401197605
            ],
            "passed_time": 4.41489212,
            "remaining_time": 3.106218817,
            "test": [
             0.4046417357,
             0.798206278
            ]
           },
           {
            "iteration": 587,
            "learn": [
             0.2104800977,
             0.9401197605
            ],
            "passed_time": 4.421734627,
            "remaining_time": 3.098222221,
            "test": [
             0.4045546428,
             0.798206278
            ]
           },
           {
            "iteration": 588,
            "learn": [
             0.2104397091,
             0.9401197605
            ],
            "passed_time": 4.428064064,
            "remaining_time": 3.089871528,
            "test": [
             0.4046418979,
             0.798206278
            ]
           },
           {
            "iteration": 589,
            "learn": [
             0.2104014757,
             0.9401197605
            ],
            "passed_time": 4.434536066,
            "remaining_time": 3.081626758,
            "test": [
             0.4051772136,
             0.802690583
            ]
           },
           {
            "iteration": 590,
            "learn": [
             0.210296833,
             0.9401197605
            ],
            "passed_time": 4.440446469,
            "remaining_time": 3.072999333,
            "test": [
             0.405032376,
             0.802690583
            ]
           },
           {
            "iteration": 591,
            "learn": [
             0.2097521568,
             0.9401197605
            ],
            "passed_time": 4.447380848,
            "remaining_time": 3.065086801,
            "test": [
             0.4053428902,
             0.798206278
            ]
           },
           {
            "iteration": 592,
            "learn": [
             0.2095017428,
             0.9401197605
            ],
            "passed_time": 4.455128875,
            "remaining_time": 3.057736007,
            "test": [
             0.4051204746,
             0.7937219731
            ]
           },
           {
            "iteration": 593,
            "learn": [
             0.2091593496,
             0.9401197605
            ],
            "passed_time": 4.463258928,
            "remaining_time": 3.050644991,
            "test": [
             0.4052677082,
             0.7937219731
            ]
           },
           {
            "iteration": 594,
            "learn": [
             0.2091078514,
             0.9401197605
            ],
            "passed_time": 4.470381452,
            "remaining_time": 3.042864686,
            "test": [
             0.405277553,
             0.7937219731
            ]
           },
           {
            "iteration": 595,
            "learn": [
             0.2089828242,
             0.9401197605
            ],
            "passed_time": 4.476608428,
            "remaining_time": 3.034479538,
            "test": [
             0.4052292556,
             0.7937219731
            ]
           },
           {
            "iteration": 596,
            "learn": [
             0.2089574097,
             0.9401197605
            ],
            "passed_time": 4.484274901,
            "remaining_time": 3.027073342,
            "test": [
             0.4052238594,
             0.7937219731
            ]
           },
           {
            "iteration": 597,
            "learn": [
             0.2088315352,
             0.9401197605
            ],
            "passed_time": 4.491907716,
            "remaining_time": 3.019643648,
            "test": [
             0.4053406845,
             0.7937219731
            ]
           },
           {
            "iteration": 598,
            "learn": [
             0.2087161362,
             0.9401197605
            ],
            "passed_time": 4.49837565,
            "remaining_time": 3.011433449,
            "test": [
             0.4054072083,
             0.7937219731
            ]
           },
           {
            "iteration": 599,
            "learn": [
             0.2082829397,
             0.9401197605
            ],
            "passed_time": 4.50576489,
            "remaining_time": 3.00384326,
            "test": [
             0.4056420998,
             0.7937219731
            ]
           },
           {
            "iteration": 600,
            "learn": [
             0.2079267522,
             0.9401197605
            ],
            "passed_time": 4.513287841,
            "remaining_time": 2.99634251,
            "test": [
             0.4053952561,
             0.7937219731
            ]
           },
           {
            "iteration": 601,
            "learn": [
             0.2075646581,
             0.9401197605
            ],
            "passed_time": 4.520098512,
            "remaining_time": 2.988370777,
            "test": [
             0.4056832944,
             0.7937219731
            ]
           },
           {
            "iteration": 602,
            "learn": [
             0.2074098386,
             0.9401197605
            ],
            "passed_time": 4.527304782,
            "remaining_time": 2.980663347,
            "test": [
             0.4054349781,
             0.7937219731
            ]
           },
           {
            "iteration": 603,
            "learn": [
             0.2071487968,
             0.9401197605
            ],
            "passed_time": 4.544165887,
            "remaining_time": 2.979287568,
            "test": [
             0.4055491891,
             0.7937219731
            ]
           },
           {
            "iteration": 604,
            "learn": [
             0.2069985813,
             0.9401197605
            ],
            "passed_time": 4.555951456,
            "remaining_time": 2.974546818,
            "test": [
             0.4054868228,
             0.7937219731
            ]
           },
           {
            "iteration": 605,
            "learn": [
             0.2068761657,
             0.9401197605
            ],
            "passed_time": 4.563408289,
            "remaining_time": 2.966968425,
            "test": [
             0.4054646497,
             0.7937219731
            ]
           },
           {
            "iteration": 606,
            "learn": [
             0.2068542479,
             0.9401197605
            ],
            "passed_time": 4.570888664,
            "remaining_time": 2.959405675,
            "test": [
             0.4055102104,
             0.7937219731
            ]
           },
           {
            "iteration": 607,
            "learn": [
             0.2064716838,
             0.9401197605
            ],
            "passed_time": 4.578292203,
            "remaining_time": 2.951793657,
            "test": [
             0.4057372439,
             0.798206278
            ]
           },
           {
            "iteration": 608,
            "learn": [
             0.2062887189,
             0.9401197605
            ],
            "passed_time": 4.584959923,
            "remaining_time": 2.943709901,
            "test": [
             0.4059913146,
             0.798206278
            ]
           },
           {
            "iteration": 609,
            "learn": [
             0.206147507,
             0.9401197605
            ],
            "passed_time": 4.592347211,
            "remaining_time": 2.93609084,
            "test": [
             0.4061173392,
             0.798206278
            ]
           },
           {
            "iteration": 610,
            "learn": [
             0.2058912462,
             0.9401197605
            ],
            "passed_time": 4.599521372,
            "remaining_time": 2.928336848,
            "test": [
             0.4060163414,
             0.798206278
            ]
           },
           {
            "iteration": 611,
            "learn": [
             0.2057074549,
             0.9401197605
            ],
            "passed_time": 4.606921426,
            "remaining_time": 2.920727963,
            "test": [
             0.4058192301,
             0.798206278
            ]
           },
           {
            "iteration": 612,
            "learn": [
             0.2056602732,
             0.9416167665
            ],
            "passed_time": 4.61421328,
            "remaining_time": 2.913051451,
            "test": [
             0.4058446146,
             0.798206278
            ]
           },
           {
            "iteration": 613,
            "learn": [
             0.2054581862,
             0.9416167665
            ],
            "passed_time": 4.621608667,
            "remaining_time": 2.905441279,
            "test": [
             0.4056904592,
             0.798206278
            ]
           },
           {
            "iteration": 614,
            "learn": [
             0.204888229,
             0.9416167665
            ],
            "passed_time": 4.629884837,
            "remaining_time": 2.898383191,
            "test": [
             0.4059002283,
             0.7937219731
            ]
           },
           {
            "iteration": 615,
            "learn": [
             0.2047386916,
             0.9416167665
            ],
            "passed_time": 4.637827188,
            "remaining_time": 2.891113052,
            "test": [
             0.405872284,
             0.7937219731
            ]
           },
           {
            "iteration": 616,
            "learn": [
             0.2046301257,
             0.9401197605
            ],
            "passed_time": 4.644493704,
            "remaining_time": 2.883048766,
            "test": [
             0.4058567381,
             0.7937219731
            ]
           },
           {
            "iteration": 617,
            "learn": [
             0.2045657687,
             0.9401197605
            ],
            "passed_time": 4.651957524,
            "remaining_time": 2.875481836,
            "test": [
             0.4058313716,
             0.7937219731
            ]
           },
           {
            "iteration": 618,
            "learn": [
             0.2043467806,
             0.9416167665
            ],
            "passed_time": 4.659179726,
            "remaining_time": 2.86776652,
            "test": [
             0.4058571243,
             0.7937219731
            ]
           },
           {
            "iteration": 619,
            "learn": [
             0.2043296188,
             0.9416167665
            ],
            "passed_time": 4.665863689,
            "remaining_time": 2.859722906,
            "test": [
             0.4058269529,
             0.7937219731
            ]
           },
           {
            "iteration": 620,
            "learn": [
             0.2042009834,
             0.9431137725
            ],
            "passed_time": 4.673537952,
            "remaining_time": 2.852288057,
            "test": [
             0.4058602438,
             0.7937219731
            ]
           },
           {
            "iteration": 621,
            "learn": [
             0.2041372454,
             0.9431137725
            ],
            "passed_time": 4.680628868,
            "remaining_time": 2.844497929,
            "test": [
             0.4056919768,
             0.7937219731
            ]
           },
           {
            "iteration": 622,
            "learn": [
             0.2041260575,
             0.9416167665
            ],
            "passed_time": 4.687702146,
            "remaining_time": 2.836699373,
            "test": [
             0.4057039525,
             0.7937219731
            ]
           },
           {
            "iteration": 623,
            "learn": [
             0.2040371432,
             0.9416167665
            ],
            "passed_time": 4.694686927,
            "remaining_time": 2.828849815,
            "test": [
             0.4056884976,
             0.7937219731
            ]
           },
           {
            "iteration": 624,
            "learn": [
             0.2040142329,
             0.9416167665
            ],
            "passed_time": 4.701680448,
            "remaining_time": 2.821008269,
            "test": [
             0.4057977184,
             0.7937219731
            ]
           },
           {
            "iteration": 625,
            "learn": [
             0.2039421086,
             0.9416167665
            ],
            "passed_time": 4.707975054,
            "remaining_time": 2.812751869,
            "test": [
             0.4058485396,
             0.7937219731
            ]
           },
           {
            "iteration": 626,
            "learn": [
             0.2036052278,
             0.9431137725
            ],
            "passed_time": 4.715915461,
            "remaining_time": 2.805480809,
            "test": [
             0.4058528671,
             0.7937219731
            ]
           },
           {
            "iteration": 627,
            "learn": [
             0.2031970143,
             0.9431137725
            ],
            "passed_time": 4.723399428,
            "remaining_time": 2.797937241,
            "test": [
             0.4064200165,
             0.798206278
            ]
           },
           {
            "iteration": 628,
            "learn": [
             0.2030926564,
             0.9431137725
            ],
            "passed_time": 4.731035359,
            "remaining_time": 2.790483495,
            "test": [
             0.4066472672,
             0.798206278
            ]
           },
           {
            "iteration": 629,
            "learn": [
             0.202968775,
             0.9431137725
            ],
            "passed_time": 4.73825977,
            "remaining_time": 2.782787484,
            "test": [
             0.4064805233,
             0.798206278
            ]
           },
           {
            "iteration": 630,
            "learn": [
             0.2028402951,
             0.9431137725
            ],
            "passed_time": 4.74552288,
            "remaining_time": 2.775115598,
            "test": [
             0.4066142853,
             0.798206278
            ]
           },
           {
            "iteration": 631,
            "learn": [
             0.202725911,
             0.9431137725
            ],
            "passed_time": 4.751854971,
            "remaining_time": 2.766902894,
            "test": [
             0.4063462406,
             0.798206278
            ]
           },
           {
            "iteration": 632,
            "learn": [
             0.2025504197,
             0.9431137725
            ],
            "passed_time": 4.758747425,
            "remaining_time": 2.759021019,
            "test": [
             0.4065875488,
             0.802690583
            ]
           },
           {
            "iteration": 633,
            "learn": [
             0.2019822359,
             0.9416167665
            ],
            "passed_time": 4.765803485,
            "remaining_time": 2.751236712,
            "test": [
             0.4068692959,
             0.798206278
            ]
           },
           {
            "iteration": 634,
            "learn": [
             0.2013881909,
             0.9416167665
            ],
            "passed_time": 4.772655376,
            "remaining_time": 2.743337342,
            "test": [
             0.4071220643,
             0.7937219731
            ]
           },
           {
            "iteration": 635,
            "learn": [
             0.2013622818,
             0.9416167665
            ],
            "passed_time": 4.781679323,
            "remaining_time": 2.736684393,
            "test": [
             0.4071165441,
             0.7937219731
            ]
           },
           {
            "iteration": 636,
            "learn": [
             0.2008415051,
             0.9416167665
            ],
            "passed_time": 4.790101433,
            "remaining_time": 2.729681036,
            "test": [
             0.4074145572,
             0.7937219731
            ]
           },
           {
            "iteration": 637,
            "learn": [
             0.2003874416,
             0.9416167665
            ],
            "passed_time": 4.796988158,
            "remaining_time": 2.721802058,
            "test": [
             0.4077205692,
             0.7937219731
            ]
           },
           {
            "iteration": 638,
            "learn": [
             0.2000529594,
             0.9416167665
            ],
            "passed_time": 4.803840157,
            "remaining_time": 2.713906568,
            "test": [
             0.4079318094,
             0.7937219731
            ]
           },
           {
            "iteration": 639,
            "learn": [
             0.1999540544,
             0.9416167665
            ],
            "passed_time": 4.811062119,
            "remaining_time": 2.706222442,
            "test": [
             0.4079294098,
             0.7937219731
            ]
           },
           {
            "iteration": 640,
            "learn": [
             0.199922746,
             0.9416167665
            ],
            "passed_time": 4.818393445,
            "remaining_time": 2.698601009,
            "test": [
             0.4078843181,
             0.7937219731
            ]
           },
           {
            "iteration": 641,
            "learn": [
             0.1994433097,
             0.9416167665
            ],
            "passed_time": 4.825533795,
            "remaining_time": 2.690873985,
            "test": [
             0.4077876495,
             0.798206278
            ]
           },
           {
            "iteration": 642,
            "learn": [
             0.1990341554,
             0.9416167665
            ],
            "passed_time": 4.832362252,
            "remaining_time": 2.68297562,
            "test": [
             0.4082766509,
             0.798206278
            ]
           },
           {
            "iteration": 643,
            "learn": [
             0.1989935945,
             0.9416167665
            ],
            "passed_time": 4.839603162,
            "remaining_time": 2.67530858,
            "test": [
             0.4083013439,
             0.798206278
            ]
           },
           {
            "iteration": 644,
            "learn": [
             0.1988306276,
             0.9431137725
            ],
            "passed_time": 4.847959033,
            "remaining_time": 2.668256522,
            "test": [
             0.4083049729,
             0.798206278
            ]
           },
           {
            "iteration": 645,
            "learn": [
             0.1982745138,
             0.9446107784
            ],
            "passed_time": 4.855343782,
            "remaining_time": 2.660668264,
            "test": [
             0.4083431752,
             0.798206278
            ]
           },
           {
            "iteration": 646,
            "learn": [
             0.1979862654,
             0.9446107784
            ],
            "passed_time": 4.86241139,
            "remaining_time": 2.652907606,
            "test": [
             0.4084895217,
             0.802690583
            ]
           },
           {
            "iteration": 647,
            "learn": [
             0.1979044327,
             0.9446107784
            ],
            "passed_time": 4.869109356,
            "remaining_time": 2.644948292,
            "test": [
             0.4085361468,
             0.802690583
            ]
           },
           {
            "iteration": 648,
            "learn": [
             0.1978249822,
             0.9461077844
            ],
            "passed_time": 4.875578253,
            "remaining_time": 2.636868978,
            "test": [
             0.4084768862,
             0.798206278
            ]
           },
           {
            "iteration": 649,
            "learn": [
             0.1973342528,
             0.9431137725
            ],
            "passed_time": 4.882760433,
            "remaining_time": 2.629178695,
            "test": [
             0.4088180599,
             0.7937219731
            ]
           },
           {
            "iteration": 650,
            "learn": [
             0.1970724914,
             0.9431137725
            ],
            "passed_time": 4.889340044,
            "remaining_time": 2.621166936,
            "test": [
             0.4091130022,
             0.7937219731
            ]
           },
           {
            "iteration": 651,
            "learn": [
             0.1970137783,
             0.9431137725
            ],
            "passed_time": 4.896399674,
            "remaining_time": 2.613415777,
            "test": [
             0.4091865291,
             0.7937219731
            ]
           },
           {
            "iteration": 652,
            "learn": [
             0.1969870334,
             0.9431137725
            ],
            "passed_time": 4.903547142,
            "remaining_time": 2.605713412,
            "test": [
             0.4091947908,
             0.7937219731
            ]
           },
           {
            "iteration": 653,
            "learn": [
             0.1969621542,
             0.9446107784
            ],
            "passed_time": 4.911159318,
            "remaining_time": 2.598258599,
            "test": [
             0.4092684108,
             0.7937219731
            ]
           },
           {
            "iteration": 654,
            "learn": [
             0.1969322482,
             0.9446107784
            ],
            "passed_time": 4.917706554,
            "remaining_time": 2.590242384,
            "test": [
             0.4093507837,
             0.7937219731
            ]
           },
           {
            "iteration": 655,
            "learn": [
             0.1968168012,
             0.9461077844
            ],
            "passed_time": 4.924176118,
            "remaining_time": 2.582189916,
            "test": [
             0.4093618986,
             0.7937219731
            ]
           },
           {
            "iteration": 656,
            "learn": [
             0.196546194,
             0.9461077844
            ],
            "passed_time": 4.931497133,
            "remaining_time": 2.574586783,
            "test": [
             0.4090761026,
             0.7937219731
            ]
           },
           {
            "iteration": 657,
            "learn": [
             0.1962347604,
             0.9461077844
            ],
            "passed_time": 4.938746108,
            "remaining_time": 2.566947065,
            "test": [
             0.409196631,
             0.7937219731
            ]
           },
           {
            "iteration": 658,
            "learn": [
             0.1961597335,
             0.9476047904
            ],
            "passed_time": 4.945905163,
            "remaining_time": 2.559262004,
            "test": [
             0.4091615214,
             0.7937219731
            ]
           },
           {
            "iteration": 659,
            "learn": [
             0.1956394216,
             0.9461077844
            ],
            "passed_time": 4.953248443,
            "remaining_time": 2.551673441,
            "test": [
             0.409207684,
             0.7937219731
            ]
           },
           {
            "iteration": 660,
            "learn": [
             0.1956236914,
             0.9476047904
            ],
            "passed_time": 4.960687056,
            "remaining_time": 2.544134511,
            "test": [
             0.4092356023,
             0.7937219731
            ]
           },
           {
            "iteration": 661,
            "learn": [
             0.1954545075,
             0.9476047904
            ],
            "passed_time": 4.967309946,
            "remaining_time": 2.536179398,
            "test": [
             0.4093616251,
             0.7937219731
            ]
           },
           {
            "iteration": 662,
            "learn": [
             0.1951190011,
             0.9476047904
            ],
            "passed_time": 4.974640512,
            "remaining_time": 2.528588013,
            "test": [
             0.4097803422,
             0.798206278
            ]
           },
           {
            "iteration": 663,
            "learn": [
             0.195009862,
             0.9476047904
            ],
            "passed_time": 4.981326085,
            "remaining_time": 2.520671031,
            "test": [
             0.4097903102,
             0.798206278
            ]
           },
           {
            "iteration": 664,
            "learn": [
             0.194898938,
             0.9476047904
            ],
            "passed_time": 4.98760491,
            "remaining_time": 2.51255285,
            "test": [
             0.4097490908,
             0.798206278
            ]
           },
           {
            "iteration": 665,
            "learn": [
             0.194547401,
             0.9476047904
            ],
            "passed_time": 4.994697822,
            "remaining_time": 2.504848457,
            "test": [
             0.41007634,
             0.798206278
            ]
           },
           {
            "iteration": 666,
            "learn": [
             0.1944860515,
             0.9476047904
            ],
            "passed_time": 5.025393377,
            "remaining_time": 2.508929527,
            "test": [
             0.4100757493,
             0.798206278
            ]
           },
           {
            "iteration": 667,
            "learn": [
             0.1943174301,
             0.9476047904
            ],
            "passed_time": 5.057652473,
            "remaining_time": 2.513683564,
            "test": [
             0.4101521316,
             0.798206278
            ]
           },
           {
            "iteration": 668,
            "learn": [
             0.1941497683,
             0.9476047904
            ],
            "passed_time": 5.076781955,
            "remaining_time": 2.511830833,
            "test": [
             0.4100174909,
             0.798206278
            ]
           },
           {
            "iteration": 669,
            "learn": [
             0.1938049436,
             0.9476047904
            ],
            "passed_time": 5.08716273,
            "remaining_time": 2.505617464,
            "test": [
             0.410153292,
             0.798206278
            ]
           },
           {
            "iteration": 670,
            "learn": [
             0.1934186594,
             0.9476047904
            ],
            "passed_time": 5.097872059,
            "remaining_time": 2.499552768,
            "test": [
             0.4104149004,
             0.7937219731
            ]
           },
           {
            "iteration": 671,
            "learn": [
             0.1932050217,
             0.9476047904
            ],
            "passed_time": 5.108291312,
            "remaining_time": 2.493332664,
            "test": [
             0.4102778469,
             0.7937219731
            ]
           },
           {
            "iteration": 672,
            "learn": [
             0.1931092674,
             0.9476047904
            ],
            "passed_time": 5.115950289,
            "remaining_time": 2.485758907,
            "test": [
             0.4104816027,
             0.7937219731
            ]
           },
           {
            "iteration": 673,
            "learn": [
             0.1926277789,
             0.9476047904
            ],
            "passed_time": 5.122862929,
            "remaining_time": 2.477823909,
            "test": [
             0.4108660902,
             0.7937219731
            ]
           },
           {
            "iteration": 674,
            "learn": [
             0.1925318141,
             0.9476047904
            ],
            "passed_time": 5.130717381,
            "remaining_time": 2.470345406,
            "test": [
             0.4107258652,
             0.7937219731
            ]
           },
           {
            "iteration": 675,
            "learn": [
             0.1923053378,
             0.9476047904
            ],
            "passed_time": 5.138228862,
            "remaining_time": 2.462701407,
            "test": [
             0.41056247,
             0.798206278
            ]
           },
           {
            "iteration": 676,
            "learn": [
             0.1922277419,
             0.9476047904
            ],
            "passed_time": 5.144643302,
            "remaining_time": 2.454534397,
            "test": [
             0.4105619285,
             0.798206278
            ]
           },
           {
            "iteration": 677,
            "learn": [
             0.1918858781,
             0.9476047904
            ],
            "passed_time": 5.151572954,
            "remaining_time": 2.446617244,
            "test": [
             0.4105365598,
             0.7937219731
            ]
           },
           {
            "iteration": 678,
            "learn": [
             0.1918759292,
             0.9476047904
            ],
            "passed_time": 5.158586683,
            "remaining_time": 2.438742747,
            "test": [
             0.4104482365,
             0.7937219731
            ]
           },
           {
            "iteration": 679,
            "learn": [
             0.1917758385,
             0.9476047904
            ],
            "passed_time": 5.165647357,
            "remaining_time": 2.430892874,
            "test": [
             0.4104176604,
             0.7937219731
            ]
           },
           {
            "iteration": 680,
            "learn": [
             0.1915826453,
             0.9476047904
            ],
            "passed_time": 5.172377734,
            "remaining_time": 2.422890598,
            "test": [
             0.4104035222,
             0.7937219731
            ]
           },
           {
            "iteration": 681,
            "learn": [
             0.1910738715,
             0.9476047904
            ],
            "passed_time": 5.179133408,
            "remaining_time": 2.414903847,
            "test": [
             0.4109038313,
             0.7937219731
            ]
           },
           {
            "iteration": 682,
            "learn": [
             0.1910487783,
             0.9476047904
            ],
            "passed_time": 5.186168915,
            "remaining_time": 2.40705058,
            "test": [
             0.4108935599,
             0.7937219731
            ]
           },
           {
            "iteration": 683,
            "learn": [
             0.1908834548,
             0.9476047904
            ],
            "passed_time": 5.193183028,
            "remaining_time": 2.39918982,
            "test": [
             0.4116266498,
             0.7937219731
            ]
           },
           {
            "iteration": 684,
            "learn": [
             0.1906554941,
             0.9476047904
            ],
            "passed_time": 5.199205332,
            "remaining_time": 2.390875445,
            "test": [
             0.4116973277,
             0.7937219731
            ]
           },
           {
            "iteration": 685,
            "learn": [
             0.1904783934,
             0.9476047904
            ],
            "passed_time": 5.206011289,
            "remaining_time": 2.38292645,
            "test": [
             0.4115391002,
             0.7937219731
            ]
           },
           {
            "iteration": 686,
            "learn": [
             0.1903402946,
             0.9505988024
            ],
            "passed_time": 5.212393803,
            "remaining_time": 2.374787861,
            "test": [
             0.4117700089,
             0.7937219731
            ]
           },
           {
            "iteration": 687,
            "learn": [
             0.1895302237,
             0.9491017964
            ],
            "passed_time": 5.2199518,
            "remaining_time": 2.367187444,
            "test": [
             0.4122598015,
             0.798206278
            ]
           },
           {
            "iteration": 688,
            "learn": [
             0.1894939719,
             0.9505988024
            ],
            "passed_time": 5.227145171,
            "remaining_time": 2.359422566,
            "test": [
             0.4122727909,
             0.798206278
            ]
           },
           {
            "iteration": 689,
            "learn": [
             0.1889762899,
             0.9491017964
            ],
            "passed_time": 5.234707376,
            "remaining_time": 2.351825053,
            "test": [
             0.412297474,
             0.798206278
            ]
           },
           {
            "iteration": 690,
            "learn": [
             0.188925581,
             0.9491017964
            ],
            "passed_time": 5.241906341,
            "remaining_time": 2.344065209,
            "test": [
             0.4123167955,
             0.798206278
            ]
           },
           {
            "iteration": 691,
            "learn": [
             0.1886122604,
             0.9491017964
            ],
            "passed_time": 5.249145144,
            "remaining_time": 2.336324717,
            "test": [
             0.4125436143,
             0.798206278
            ]
           },
           {
            "iteration": 692,
            "learn": [
             0.1884658435,
             0.9491017964
            ],
            "passed_time": 5.255564973,
            "remaining_time": 2.328222867,
            "test": [
             0.4125520043,
             0.798206278
            ]
           },
           {
            "iteration": 693,
            "learn": [
             0.1882047907,
             0.9491017964
            ],
            "passed_time": 5.262773473,
            "remaining_time": 2.320473606,
            "test": [
             0.412767327,
             0.798206278
            ]
           },
           {
            "iteration": 694,
            "learn": [
             0.1879432236,
             0.9491017964
            ],
            "passed_time": 5.270043259,
            "remaining_time": 2.312752797,
            "test": [
             0.4128834002,
             0.798206278
            ]
           },
           {
            "iteration": 695,
            "learn": [
             0.1876886934,
             0.9491017964
            ],
            "passed_time": 5.277166616,
            "remaining_time": 2.304969326,
            "test": [
             0.412430255,
             0.798206278
            ]
           },
           {
            "iteration": 696,
            "learn": [
             0.1875217022,
             0.9505988024
            ],
            "passed_time": 5.284164221,
            "remaining_time": 2.297133083,
            "test": [
             0.4125262687,
             0.798206278
            ]
           },
           {
            "iteration": 697,
            "learn": [
             0.1874185973,
             0.9505988024
            ],
            "passed_time": 5.292252017,
            "remaining_time": 2.28977093,
            "test": [
             0.4123851864,
             0.798206278
            ]
           },
           {
            "iteration": 698,
            "learn": [
             0.1873210958,
             0.9505988024
            ],
            "passed_time": 5.299636719,
            "remaining_time": 2.282103938,
            "test": [
             0.4123454983,
             0.798206278
            ]
           },
           {
            "iteration": 699,
            "learn": [
             0.1872601747,
             0.9505988024
            ],
            "passed_time": 5.30672279,
            "remaining_time": 2.274309767,
            "test": [
             0.4123123875,
             0.798206278
            ]
           },
           {
            "iteration": 700,
            "learn": [
             0.1868296397,
             0.9505988024
            ],
            "passed_time": 5.314928092,
            "remaining_time": 2.266995006,
            "test": [
             0.4123370157,
             0.798206278
            ]
           },
           {
            "iteration": 701,
            "learn": [
             0.1868026511,
             0.9505988024
            ],
            "passed_time": 5.322056879,
            "remaining_time": 2.259220727,
            "test": [
             0.4122973238,
             0.798206278
            ]
           },
           {
            "iteration": 702,
            "learn": [
             0.1865872475,
             0.9505988024
            ],
            "passed_time": 5.329633822,
            "remaining_time": 2.251637618,
            "test": [
             0.4119097583,
             0.798206278
            ]
           },
           {
            "iteration": 703,
            "learn": [
             0.1863770769,
             0.9505988024
            ],
            "passed_time": 5.33662912,
            "remaining_time": 2.243809971,
            "test": [
             0.4117011847,
             0.798206278
            ]
           },
           {
            "iteration": 704,
            "learn": [
             0.1859379413,
             0.9505988024
            ],
            "passed_time": 5.343848336,
            "remaining_time": 2.236078382,
            "test": [
             0.4122338465,
             0.798206278
            ]
           },
           {
            "iteration": 705,
            "learn": [
             0.1856381328,
             0.9505988024
            ],
            "passed_time": 5.352296334,
            "remaining_time": 2.228859947,
            "test": [
             0.4126507048,
             0.798206278
            ]
           },
           {
            "iteration": 706,
            "learn": [
             0.1854719411,
             0.9505988024
            ],
            "passed_time": 5.359158627,
            "remaining_time": 2.220980874,
            "test": [
             0.4125905888,
             0.802690583
            ]
           },
           {
            "iteration": 707,
            "learn": [
             0.1853721083,
             0.9505988024
            ],
            "passed_time": 5.36583722,
            "remaining_time": 2.21302891,
            "test": [
             0.4123895389,
             0.802690583
            ]
           },
           {
            "iteration": 708,
            "learn": [
             0.1847923014,
             0.9505988024
            ],
            "passed_time": 5.373895363,
            "remaining_time": 2.205646757,
            "test": [
             0.412861789,
             0.802690583
            ]
           },
           {
            "iteration": 709,
            "learn": [
             0.1846627601,
             0.9505988024
            ],
            "passed_time": 5.385312701,
            "remaining_time": 2.199634765,
            "test": [
             0.4128971097,
             0.802690583
            ]
           },
           {
            "iteration": 710,
            "learn": [
             0.1844433896,
             0.9505988024
            ],
            "passed_time": 5.392404805,
            "remaining_time": 2.191849492,
            "test": [
             0.4129513323,
             0.802690583
            ]
           },
           {
            "iteration": 711,
            "learn": [
             0.1841343372,
             0.9505988024
            ],
            "passed_time": 5.399528427,
            "remaining_time": 2.184078914,
            "test": [
             0.4129476458,
             0.802690583
            ]
           },
           {
            "iteration": 712,
            "learn": [
             0.1838292705,
             0.9505988024
            ],
            "passed_time": 5.406113239,
            "remaining_time": 2.176093267,
            "test": [
             0.4130478589,
             0.802690583
            ]
           },
           {
            "iteration": 713,
            "learn": [
             0.1836811137,
             0.9505988024
            ],
            "passed_time": 5.414453786,
            "remaining_time": 2.168814822,
            "test": [
             0.4130707488,
             0.802690583
            ]
           },
           {
            "iteration": 714,
            "learn": [
             0.1832701685,
             0.9505988024
            ],
            "passed_time": 5.421565666,
            "remaining_time": 2.161043657,
            "test": [
             0.4134219269,
             0.802690583
            ]
           },
           {
            "iteration": 715,
            "learn": [
             0.183089851,
             0.9491017964
            ],
            "passed_time": 5.429257669,
            "remaining_time": 2.153504439,
            "test": [
             0.4133731982,
             0.802690583
            ]
           },
           {
            "iteration": 716,
            "learn": [
             0.1830406892,
             0.9491017964
            ],
            "passed_time": 5.436325668,
            "remaining_time": 2.145718499,
            "test": [
             0.4133958791,
             0.802690583
            ]
           },
           {
            "iteration": 717,
            "learn": [
             0.183025873,
             0.9505988024
            ],
            "passed_time": 5.444852342,
            "remaining_time": 2.138507466,
            "test": [
             0.4133735205,
             0.802690583
            ]
           },
           {
            "iteration": 718,
            "learn": [
             0.1828895606,
             0.9520958084
            ],
            "passed_time": 5.452051405,
            "remaining_time": 2.130773915,
            "test": [
             0.4133828329,
             0.802690583
            ]
           },
           {
            "iteration": 719,
            "learn": [
             0.1828500356,
             0.9520958084
            ],
            "passed_time": 5.459154721,
            "remaining_time": 2.123004614,
            "test": [
             0.4134062491,
             0.802690583
            ]
           },
           {
            "iteration": 720,
            "learn": [
             0.1824732563,
             0.9520958084
            ],
            "passed_time": 5.466730515,
            "remaining_time": 2.115419991,
            "test": [
             0.4138970685,
             0.798206278
            ]
           },
           {
            "iteration": 721,
            "learn": [
             0.1822842364,
             0.9520958084
            ],
            "passed_time": 5.473883133,
            "remaining_time": 2.107672453,
            "test": [
             0.4138086709,
             0.802690583
            ]
           },
           {
            "iteration": 722,
            "learn": [
             0.1822372821,
             0.9520958084
            ],
            "passed_time": 5.480575106,
            "remaining_time": 2.099750075,
            "test": [
             0.4137704372,
             0.802690583
            ]
           },
           {
            "iteration": 723,
            "learn": [
             0.1821655539,
             0.9520958084
            ],
            "passed_time": 5.486836214,
            "remaining_time": 2.091666844,
            "test": [
             0.4140319363,
             0.802690583
            ]
           },
           {
            "iteration": 724,
            "learn": [
             0.1819344304,
             0.9520958084
            ],
            "passed_time": 5.494023285,
            "remaining_time": 2.083939867,
            "test": [
             0.4141350246,
             0.802690583
            ]
           },
           {
            "iteration": 725,
            "learn": [
             0.1818411668,
             0.9520958084
            ],
            "passed_time": 5.501700316,
            "remaining_time": 2.076399293,
            "test": [
             0.4142304233,
             0.802690583
            ]
           },
           {
            "iteration": 726,
            "learn": [
             0.1817380618,
             0.9520958084
            ],
            "passed_time": 5.508899943,
            "remaining_time": 2.068679071,
            "test": [
             0.4142057594,
             0.802690583
            ]
           },
           {
            "iteration": 727,
            "learn": [
             0.1816047865,
             0.9520958084
            ],
            "passed_time": 5.515337268,
            "remaining_time": 2.060675463,
            "test": [
             0.414209923,
             0.802690583
            ]
           },
           {
            "iteration": 728,
            "learn": [
             0.1815814275,
             0.9520958084
            ],
            "passed_time": 5.522605472,
            "remaining_time": 2.052985025,
            "test": [
             0.4141974048,
             0.802690583
            ]
           },
           {
            "iteration": 729,
            "learn": [
             0.1812727346,
             0.9520958084
            ],
            "passed_time": 5.530181396,
            "remaining_time": 2.045409557,
            "test": [
             0.4144815374,
             0.802690583
            ]
           },
           {
            "iteration": 730,
            "learn": [
             0.1811188118,
             0.9520958084
            ],
            "passed_time": 5.550188458,
            "remaining_time": 2.042408612,
            "test": [
             0.4142661878,
             0.798206278
            ]
           },
           {
            "iteration": 731,
            "learn": [
             0.1806570502,
             0.9520958084
            ],
            "passed_time": 5.559480026,
            "remaining_time": 2.035438042,
            "test": [
             0.4143066401,
             0.798206278
            ]
           },
           {
            "iteration": 732,
            "learn": [
             0.1805770158,
             0.9520958084
            ],
            "passed_time": 5.567249907,
            "remaining_time": 2.027906856,
            "test": [
             0.414253005,
             0.802690583
            ]
           },
           {
            "iteration": 733,
            "learn": [
             0.1804532056,
             0.9520958084
            ],
            "passed_time": 5.574308005,
            "remaining_time": 2.02011707,
            "test": [
             0.414346068,
             0.802690583
            ]
           },
           {
            "iteration": 734,
            "learn": [
             0.18034246,
             0.9520958084
            ],
            "passed_time": 5.581247389,
            "remaining_time": 2.012286474,
            "test": [
             0.414324447,
             0.802690583
            ]
           },
           {
            "iteration": 735,
            "learn": [
             0.180180595,
             0.9520958084
            ],
            "passed_time": 5.588099434,
            "remaining_time": 2.004426971,
            "test": [
             0.4144627054,
             0.802690583
            ]
           },
           {
            "iteration": 736,
            "learn": [
             0.1800339035,
             0.9520958084
            ],
            "passed_time": 5.595639439,
            "remaining_time": 1.996815702,
            "test": [
             0.4145283646,
             0.798206278
            ]
           },
           {
            "iteration": 737,
            "learn": [
             0.1800264524,
             0.9520958084
            ],
            "passed_time": 5.603108528,
            "remaining_time": 1.98917945,
            "test": [
             0.4145410963,
             0.798206278
            ]
           },
           {
            "iteration": 738,
            "learn": [
             0.1797251821,
             0.9520958084
            ],
            "passed_time": 5.610058706,
            "remaining_time": 1.981360382,
            "test": [
             0.414955539,
             0.798206278
            ]
           },
           {
            "iteration": 739,
            "learn": [
             0.1796242517,
             0.9520958084
            ],
            "passed_time": 5.616700646,
            "remaining_time": 1.973435362,
            "test": [
             0.414900087,
             0.798206278
            ]
           },
           {
            "iteration": 740,
            "learn": [
             0.1795858542,
             0.9520958084
            ],
            "passed_time": 5.623347187,
            "remaining_time": 1.965515413,
            "test": [
             0.4145753427,
             0.798206278
            ]
           },
           {
            "iteration": 741,
            "learn": [
             0.1795069023,
             0.9520958084
            ],
            "passed_time": 5.630383539,
            "remaining_time": 1.957734438,
            "test": [
             0.4147152974,
             0.798206278
            ]
           },
           {
            "iteration": 742,
            "learn": [
             0.1794996812,
             0.9520958084
            ],
            "passed_time": 5.637614036,
            "remaining_time": 1.950022621,
            "test": [
             0.4146923555,
             0.798206278
            ]
           },
           {
            "iteration": 743,
            "learn": [
             0.1793166362,
             0.9520958084
            ],
            "passed_time": 5.644874097,
            "remaining_time": 1.94232227,
            "test": [
             0.4146788048,
             0.798206278
            ]
           },
           {
            "iteration": 744,
            "learn": [
             0.1792689965,
             0.9520958084
            ],
            "passed_time": 5.651428164,
            "remaining_time": 1.934381452,
            "test": [
             0.4147514789,
             0.798206278
            ]
           },
           {
            "iteration": 745,
            "learn": [
             0.1792612058,
             0.9520958084
            ],
            "passed_time": 5.658499837,
            "remaining_time": 1.926620588,
            "test": [
             0.4146457459,
             0.798206278
            ]
           },
           {
            "iteration": 746,
            "learn": [
             0.1792506138,
             0.9520958084
            ],
            "passed_time": 5.66514204,
            "remaining_time": 1.918716113,
            "test": [
             0.4147123748,
             0.798206278
            ]
           },
           {
            "iteration": 747,
            "learn": [
             0.1788164871,
             0.9520958084
            ],
            "passed_time": 5.674260581,
            "remaining_time": 1.911649287,
            "test": [
             0.4147582509,
             0.798206278
            ]
           },
           {
            "iteration": 748,
            "learn": [
             0.1785048701,
             0.9535928144
            ],
            "passed_time": 5.681285361,
            "remaining_time": 1.903875334,
            "test": [
             0.414674525,
             0.798206278
            ]
           },
           {
            "iteration": 749,
            "learn": [
             0.1782868862,
             0.9535928144
            ],
            "passed_time": 5.689205032,
            "remaining_time": 1.896401677,
            "test": [
             0.4146833038,
             0.798206278
            ]
           },
           {
            "iteration": 750,
            "learn": [
             0.178250705,
             0.9535928144
            ],
            "passed_time": 5.696108751,
            "remaining_time": 1.888589985,
            "test": [
             0.4144867612,
             0.798206278
            ]
           },
           {
            "iteration": 751,
            "learn": [
             0.1781301072,
             0.9535928144
            ],
            "passed_time": 5.702940518,
            "remaining_time": 1.880756979,
            "test": [
             0.4146331134,
             0.798206278
            ]
           },
           {
            "iteration": 752,
            "learn": [
             0.1779911888,
             0.9535928144
            ],
            "passed_time": 5.712004692,
            "remaining_time": 1.87365891,
            "test": [
             0.4147681151,
             0.798206278
            ]
           },
           {
            "iteration": 753,
            "learn": [
             0.1779738293,
             0.9535928144
            ],
            "passed_time": 5.719209783,
            "remaining_time": 1.86594908,
            "test": [
             0.4148246497,
             0.798206278
            ]
           },
           {
            "iteration": 754,
            "learn": [
             0.1779184284,
             0.9535928144
            ],
            "passed_time": 5.724824356,
            "remaining_time": 1.85772446,
            "test": [
             0.4148998625,
             0.798206278
            ]
           },
           {
            "iteration": 755,
            "learn": [
             0.1776879552,
             0.9535928144
            ],
            "passed_time": 5.732289172,
            "remaining_time": 1.850103913,
            "test": [
             0.4146422948,
             0.798206278
            ]
           },
           {
            "iteration": 756,
            "learn": [
             0.1772656184,
             0.9535928144
            ],
            "passed_time": 5.739974233,
            "remaining_time": 1.842554476,
            "test": [
             0.4151878133,
             0.798206278
            ]
           },
           {
            "iteration": 757,
            "learn": [
             0.176971775,
             0.9535928144
            ],
            "passed_time": 5.747367479,
            "remaining_time": 1.834911517,
            "test": [
             0.4155274469,
             0.798206278
            ]
           },
           {
            "iteration": 758,
            "learn": [
             0.176955787,
             0.9535928144
            ],
            "passed_time": 5.755141219,
            "remaining_time": 1.827390031,
            "test": [
             0.4154674806,
             0.798206278
            ]
           },
           {
            "iteration": 759,
            "learn": [
             0.1768759522,
             0.9535928144
            ],
            "passed_time": 5.761340537,
            "remaining_time": 1.819370696,
            "test": [
             0.4154687984,
             0.798206278
            ]
           },
           {
            "iteration": 760,
            "learn": [
             0.1766602888,
             0.9535928144
            ],
            "passed_time": 5.76775989,
            "remaining_time": 1.811425248,
            "test": [
             0.4158805938,
             0.798206278
            ]
           },
           {
            "iteration": 761,
            "learn": [
             0.1763260224,
             0.9535928144
            ],
            "passed_time": 5.775111884,
            "remaining_time": 1.803775103,
            "test": [
             0.4161064511,
             0.798206278
            ]
           },
           {
            "iteration": 762,
            "learn": [
             0.1759085903,
             0.9550898204
            ],
            "passed_time": 5.782003003,
            "remaining_time": 1.795982584,
            "test": [
             0.4162622511,
             0.798206278
            ]
           },
           {
            "iteration": 763,
            "learn": [
             0.1756568642,
             0.9550898204
            ],
            "passed_time": 5.789763391,
            "remaining_time": 1.788460943,
            "test": [
             0.4165740668,
             0.798206278
            ]
           },
           {
            "iteration": 764,
            "learn": [
             0.1756382431,
             0.9550898204
            ],
            "passed_time": 5.796861379,
            "remaining_time": 1.780735195,
            "test": [
             0.4165709085,
             0.798206278
            ]
           },
           {
            "iteration": 765,
            "learn": [
             0.1753263962,
             0.9550898204
            ],
            "passed_time": 5.804431392,
            "remaining_time": 1.773155282,
            "test": [
             0.4165993279,
             0.798206278
            ]
           },
           {
            "iteration": 766,
            "learn": [
             0.1752083876,
             0.9550898204
            ],
            "passed_time": 5.812104395,
            "remaining_time": 1.765606681,
            "test": [
             0.4166234702,
             0.798206278
            ]
           },
           {
            "iteration": 767,
            "learn": [
             0.1749531136,
             0.9550898204
            ],
            "passed_time": 5.819025566,
            "remaining_time": 1.75783064,
            "test": [
             0.4170031841,
             0.798206278
            ]
           },
           {
            "iteration": 768,
            "learn": [
             0.1749129464,
             0.9550898204
            ],
            "passed_time": 5.826102221,
            "remaining_time": 1.750103528,
            "test": [
             0.4170263062,
             0.798206278
            ]
           },
           {
            "iteration": 769,
            "learn": [
             0.1745285905,
             0.9550898204
            ],
            "passed_time": 5.83343608,
            "remaining_time": 1.742454933,
            "test": [
             0.4176998938,
             0.798206278
            ]
           },
           {
            "iteration": 770,
            "learn": [
             0.1745227698,
             0.9550898204
            ],
            "passed_time": 5.849437484,
            "remaining_time": 1.737381561,
            "test": [
             0.4177098164,
             0.798206278
            ]
           },
           {
            "iteration": 771,
            "learn": [
             0.1741362114,
             0.9550898204
            ],
            "passed_time": 5.870115192,
            "remaining_time": 1.733660963,
            "test": [
             0.4176874584,
             0.798206278
            ]
           },
           {
            "iteration": 772,
            "learn": [
             0.1737494463,
             0.9550898204
            ],
            "passed_time": 5.889529463,
            "remaining_time": 1.72952547,
            "test": [
             0.4178495363,
             0.798206278
            ]
           },
           {
            "iteration": 773,
            "learn": [
             0.1737326069,
             0.9550898204
            ],
            "passed_time": 5.902424933,
            "remaining_time": 1.723447073,
            "test": [
             0.4179173672,
             0.798206278
            ]
           },
           {
            "iteration": 774,
            "learn": [
             0.1735426011,
             0.9550898204
            ],
            "passed_time": 5.909110267,
            "remaining_time": 1.715548142,
            "test": [
             0.417882604,
             0.802690583
            ]
           },
           {
            "iteration": 775,
            "learn": [
             0.1732703594,
             0.9550898204
            ],
            "passed_time": 5.915449343,
            "remaining_time": 1.707552388,
            "test": [
             0.4181271259,
             0.802690583
            ]
           },
           {
            "iteration": 776,
            "learn": [
             0.1731675868,
             0.9550898204
            ],
            "passed_time": 5.922428943,
            "remaining_time": 1.699744729,
            "test": [
             0.4181068588,
             0.802690583
            ]
           },
           {
            "iteration": 777,
            "learn": [
             0.1727833232,
             0.9550898204
            ],
            "passed_time": 5.929993512,
            "remaining_time": 1.692106118,
            "test": [
             0.4181436907,
             0.802690583
            ]
           },
           {
            "iteration": 778,
            "learn": [
             0.1725706273,
             0.9550898204
            ],
            "passed_time": 5.937486279,
            "remaining_time": 1.684447327,
            "test": [
             0.4185490445,
             0.802690583
            ]
           },
           {
            "iteration": 779,
            "learn": [
             0.172407985,
             0.9550898204
            ],
            "passed_time": 5.944817835,
            "remaining_time": 1.676743492,
            "test": [
             0.4185860631,
             0.802690583
            ]
           },
           {
            "iteration": 780,
            "learn": [
             0.1723275018,
             0.9550898204
            ],
            "passed_time": 5.952091314,
            "remaining_time": 1.669024325,
            "test": [
             0.418628039,
             0.802690583
            ]
           },
           {
            "iteration": 781,
            "learn": [
             0.1722496188,
             0.9550898204
            ],
            "passed_time": 5.958655104,
            "remaining_time": 1.661108456,
            "test": [
             0.41867074,
             0.802690583
            ]
           },
           {
            "iteration": 782,
            "learn": [
             0.1720383881,
             0.9550898204
            ],
            "passed_time": 5.966221599,
            "remaining_time": 1.65347393,
            "test": [
             0.4188837878,
             0.802690583
            ]
           },
           {
            "iteration": 783,
            "learn": [
             0.1719609294,
             0.9550898204
            ],
            "passed_time": 5.972861773,
            "remaining_time": 1.645584366,
            "test": [
             0.418867152,
             0.802690583
            ]
           },
           {
            "iteration": 784,
            "learn": [
             0.1716785103,
             0.9550898204
            ],
            "passed_time": 5.979843866,
            "remaining_time": 1.637791632,
            "test": [
             0.419034148,
             0.802690583
            ]
           },
           {
            "iteration": 785,
            "learn": [
             0.1714882375,
             0.9550898204
            ],
            "passed_time": 5.986818404,
            "remaining_time": 1.629998904,
            "test": [
             0.4195243322,
             0.802690583
            ]
           },
           {
            "iteration": 786,
            "learn": [
             0.1714740474,
             0.9550898204
            ],
            "passed_time": 5.994228582,
            "remaining_time": 1.62232616,
            "test": [
             0.4195207651,
             0.802690583
            ]
           },
           {
            "iteration": 787,
            "learn": [
             0.1713764809,
             0.9550898204
            ],
            "passed_time": 6.001844927,
            "remaining_time": 1.614709549,
            "test": [
             0.4195760419,
             0.802690583
            ]
           },
           {
            "iteration": 788,
            "learn": [
             0.171246814,
             0.9550898204
            ],
            "passed_time": 6.009558954,
            "remaining_time": 1.607119061,
            "test": [
             0.4196500726,
             0.802690583
            ]
           },
           {
            "iteration": 789,
            "learn": [
             0.1710338275,
             0.9550898204
            ],
            "passed_time": 6.016617423,
            "remaining_time": 1.599353999,
            "test": [
             0.4195777073,
             0.802690583
            ]
           },
           {
            "iteration": 790,
            "learn": [
             0.1706573813,
             0.9550898204
            ],
            "passed_time": 6.036952778,
            "remaining_time": 1.595098774,
            "test": [
             0.4195875577,
             0.8071748879
            ]
           },
           {
            "iteration": 791,
            "learn": [
             0.1705915318,
             0.9550898204
            ],
            "passed_time": 6.080044464,
            "remaining_time": 1.596779354,
            "test": [
             0.4196538736,
             0.8071748879
            ]
           },
           {
            "iteration": 792,
            "learn": [
             0.1704172706,
             0.9550898204
            ],
            "passed_time": 6.100682385,
            "remaining_time": 1.592485818,
            "test": [
             0.4196247747,
             0.8071748879
            ]
           },
           {
            "iteration": 793,
            "learn": [
             0.1701836454,
             0.9550898204
            ],
            "passed_time": 6.121200557,
            "remaining_time": 1.588120044,
            "test": [
             0.4197364384,
             0.8071748879
            ]
           },
           {
            "iteration": 794,
            "learn": [
             0.1699332314,
             0.9550898204
            ],
            "passed_time": 6.130346127,
            "remaining_time": 1.580781077,
            "test": [
             0.4205036272,
             0.8071748879
            ]
           },
           {
            "iteration": 795,
            "learn": [
             0.1697321216,
             0.9550898204
            ],
            "passed_time": 6.137768043,
            "remaining_time": 1.57299583,
            "test": [
             0.4203676135,
             0.802690583
            ]
           },
           {
            "iteration": 796,
            "learn": [
             0.1695179805,
             0.9550898204
            ],
            "passed_time": 6.144626327,
            "remaining_time": 1.565067935,
            "test": [
             0.4204197875,
             0.802690583
            ]
           },
           {
            "iteration": 797,
            "learn": [
             0.1694672998,
             0.9550898204
            ],
            "passed_time": 6.152252094,
            "remaining_time": 1.557336996,
            "test": [
             0.4204576646,
             0.802690583
            ]
           },
           {
            "iteration": 798,
            "learn": [
             0.1693439219,
             0.9550898204
            ],
            "passed_time": 6.159301928,
            "remaining_time": 1.549461436,
            "test": [
             0.4203256491,
             0.802690583
            ]
           },
           {
            "iteration": 799,
            "learn": [
             0.1693257746,
             0.9550898204
            ],
            "passed_time": 6.164842723,
            "remaining_time": 1.541210681,
            "test": [
             0.4203393932,
             0.802690583
            ]
           },
           {
            "iteration": 800,
            "learn": [
             0.1691649121,
             0.9550898204
            ],
            "passed_time": 6.17189056,
            "remaining_time": 1.5333411,
            "test": [
             0.4202145053,
             0.802690583
            ]
           },
           {
            "iteration": 801,
            "learn": [
             0.1691580283,
             0.9550898204
            ],
            "passed_time": 6.178198768,
            "remaining_time": 1.525290968,
            "test": [
             0.4201138627,
             0.802690583
            ]
           },
           {
            "iteration": 802,
            "learn": [
             0.1689560814,
             0.9550898204
            ],
            "passed_time": 6.185725251,
            "remaining_time": 1.517544053,
            "test": [
             0.4200772239,
             0.802690583
            ]
           },
           {
            "iteration": 803,
            "learn": [
             0.1688706442,
             0.9550898204
            ],
            "passed_time": 6.193499115,
            "remaining_time": 1.509857993,
            "test": [
             0.4200180663,
             0.802690583
            ]
           },
           {
            "iteration": 804,
            "learn": [
             0.1688570724,
             0.9550898204
            ],
            "passed_time": 6.200320296,
            "remaining_time": 1.501940941,
            "test": [
             0.4200968258,
             0.802690583
            ]
           },
           {
            "iteration": 805,
            "learn": [
             0.1687736965,
             0.9550898204
            ],
            "passed_time": 6.207463358,
            "remaining_time": 1.494104084,
            "test": [
             0.4201438605,
             0.802690583
            ]
           },
           {
            "iteration": 806,
            "learn": [
             0.168706505,
             0.9550898204
            ],
            "passed_time": 6.214803145,
            "remaining_time": 1.486315994,
            "test": [
             0.4202616852,
             0.802690583
            ]
           },
           {
            "iteration": 807,
            "learn": [
             0.1685706102,
             0.9550898204
            ],
            "passed_time": 6.222640309,
            "remaining_time": 1.478647202,
            "test": [
             0.4203578679,
             0.802690583
            ]
           },
           {
            "iteration": 808,
            "learn": [
             0.1684497286,
             0.9550898204
            ],
            "passed_time": 6.233812484,
            "remaining_time": 1.47176537,
            "test": [
             0.4202478678,
             0.802690583
            ]
           },
           {
            "iteration": 809,
            "learn": [
             0.1683977976,
             0.9550898204
            ],
            "passed_time": 6.240959631,
            "remaining_time": 1.463928802,
            "test": [
             0.4204985637,
             0.8071748879
            ]
           },
           {
            "iteration": 810,
            "learn": [
             0.1682419229,
             0.9550898204
            ],
            "passed_time": 6.248446423,
            "remaining_time": 1.456173088,
            "test": [
             0.4209972994,
             0.8071748879
            ]
           },
           {
            "iteration": 811,
            "learn": [
             0.1680623197,
             0.9550898204
            ],
            "passed_time": 6.255606761,
            "remaining_time": 1.448342452,
            "test": [
             0.421042935,
             0.8071748879
            ]
           },
           {
            "iteration": 812,
            "learn": [
             0.1679816714,
             0.9550898204
            ],
            "passed_time": 6.263022259,
            "remaining_time": 1.440572155,
            "test": [
             0.4212159806,
             0.8071748879
            ]
           },
           {
            "iteration": 813,
            "learn": [
             0.1675967519,
             0.9550898204
            ],
            "passed_time": 6.27061753,
            "remaining_time": 1.432843809,
            "test": [
             0.4212477173,
             0.8071748879
            ]
           },
           {
            "iteration": 814,
            "learn": [
             0.1673342955,
             0.9550898204
            ],
            "passed_time": 6.278829669,
            "remaining_time": 1.425255814,
            "test": [
             0.4211978503,
             0.8071748879
            ]
           },
           {
            "iteration": 815,
            "learn": [
             0.166933796,
             0.9550898204
            ],
            "passed_time": 6.286833931,
            "remaining_time": 1.417619416,
            "test": [
             0.4215222905,
             0.802690583
            ]
           },
           {
            "iteration": 816,
            "learn": [
             0.1667863818,
             0.9550898204
            ],
            "passed_time": 6.294220519,
            "remaining_time": 1.409843764,
            "test": [
             0.4215170397,
             0.802690583
            ]
           },
           {
            "iteration": 817,
            "learn": [
             0.1667161191,
             0.9550898204
            ],
            "passed_time": 6.301516574,
            "remaining_time": 1.40204892,
            "test": [
             0.4215234195,
             0.802690583
            ]
           },
           {
            "iteration": 818,
            "learn": [
             0.1663339494,
             0.9550898204
            ],
            "passed_time": 6.308972113,
            "remaining_time": 1.39429054,
            "test": [
             0.4223552021,
             0.802690583
            ]
           },
           {
            "iteration": 819,
            "learn": [
             0.1662892968,
             0.9550898204
            ],
            "passed_time": 6.315959298,
            "remaining_time": 1.38643009,
            "test": [
             0.4223264721,
             0.802690583
            ]
           },
           {
            "iteration": 820,
            "learn": [
             0.1661123778,
             0.9550898204
            ],
            "passed_time": 6.323336536,
            "remaining_time": 1.378656809,
            "test": [
             0.4222194369,
             0.802690583
            ]
           },
           {
            "iteration": 821,
            "learn": [
             0.1660268385,
             0.9550898204
            ],
            "passed_time": 6.331113716,
            "remaining_time": 1.370971097,
            "test": [
             0.4223143402,
             0.802690583
            ]
           },
           {
            "iteration": 822,
            "learn": [
             0.1659539467,
             0.9550898204
            ],
            "passed_time": 6.340751961,
            "remaining_time": 1.363685416,
            "test": [
             0.4222435573,
             0.802690583
            ]
           },
           {
            "iteration": 823,
            "learn": [
             0.1658216412,
             0.9550898204
            ],
            "passed_time": 6.347383645,
            "remaining_time": 1.355751847,
            "test": [
             0.4222677075,
             0.802690583
            ]
           },
           {
            "iteration": 824,
            "learn": [
             0.1655259945,
             0.9550898204
            ],
            "passed_time": 6.354383496,
            "remaining_time": 1.347899529,
            "test": [
             0.422756798,
             0.802690583
            ]
           },
           {
            "iteration": 825,
            "learn": [
             0.1654129856,
             0.9550898204
            ],
            "passed_time": 6.3610127,
            "remaining_time": 1.339971198,
            "test": [
             0.4226346552,
             0.802690583
            ]
           },
           {
            "iteration": 826,
            "learn": [
             0.1653256827,
             0.9550898204
            ],
            "passed_time": 6.368020651,
            "remaining_time": 1.332125239,
            "test": [
             0.4227550978,
             0.802690583
            ]
           },
           {
            "iteration": 827,
            "learn": [
             0.1652052289,
             0.9550898204
            ],
            "passed_time": 6.374861787,
            "remaining_time": 1.324246651,
            "test": [
             0.4227693855,
             0.802690583
            ]
           },
           {
            "iteration": 828,
            "learn": [
             0.1650794664,
             0.9550898204
            ],
            "passed_time": 6.38218523,
            "remaining_time": 1.316470054,
            "test": [
             0.4226603307,
             0.802690583
            ]
           },
           {
            "iteration": 829,
            "learn": [
             0.1647943082,
             0.9550898204
            ],
            "passed_time": 6.389648127,
            "remaining_time": 1.30872311,
            "test": [
             0.4228808934,
             0.802690583
            ]
           },
           {
            "iteration": 830,
            "learn": [
             0.1642399889,
             0.9550898204
            ],
            "passed_time": 6.396763471,
            "remaining_time": 1.300906169,
            "test": [
             0.4228146056,
             0.798206278
            ]
           },
           {
            "iteration": 831,
            "learn": [
             0.1639167764,
             0.9550898204
            ],
            "passed_time": 6.40603249,
            "remaining_time": 1.293525791,
            "test": [
             0.4229034536,
             0.798206278
            ]
           },
           {
            "iteration": 832,
            "learn": [
             0.1638494343,
             0.9550898204
            ],
            "passed_time": 6.412875562,
            "remaining_time": 1.285654524,
            "test": [
             0.4229821572,
             0.798206278
            ]
           },
           {
            "iteration": 833,
            "learn": [
             0.1638333422,
             0.9550898204
            ],
            "passed_time": 6.419265214,
            "remaining_time": 1.277695474,
            "test": [
             0.4230596657,
             0.798206278
            ]
           },
           {
            "iteration": 834,
            "learn": [
             0.1637108001,
             0.9550898204
            ],
            "passed_time": 6.426408522,
            "remaining_time": 1.269889109,
            "test": [
             0.4231168981,
             0.798206278
            ]
           },
           {
            "iteration": 835,
            "learn": [
             0.1636520925,
             0.9550898204
            ],
            "passed_time": 6.433752732,
            "remaining_time": 1.262123742,
            "test": [
             0.4229845811,
             0.798206278
            ]
           },
           {
            "iteration": 836,
            "learn": [
             0.1633178398,
             0.9550898204
            ],
            "passed_time": 6.441015526,
            "remaining_time": 1.254343525,
            "test": [
             0.4231038776,
             0.798206278
            ]
           },
           {
            "iteration": 837,
            "learn": [
             0.1629881502,
             0.9550898204
            ],
            "passed_time": 6.451067812,
            "remaining_time": 1.247103801,
            "test": [
             0.4228532116,
             0.798206278
            ]
           },
           {
            "iteration": 838,
            "learn": [
             0.1629508066,
             0.9550898204
            ],
            "passed_time": 6.458614405,
            "remaining_time": 1.239376543,
            "test": [
             0.4226753646,
             0.798206278
            ]
           },
           {
            "iteration": 839,
            "learn": [
             0.1628018796,
             0.9550898204
            ],
            "passed_time": 6.466560847,
            "remaining_time": 1.231725876,
            "test": [
             0.422633952,
             0.798206278
            ]
           },
           {
            "iteration": 840,
            "learn": [
             0.1627208045,
             0.9550898204
            ],
            "passed_time": 6.473481218,
            "remaining_time": 1.223880516,
            "test": [
             0.4226261148,
             0.798206278
            ]
           },
           {
            "iteration": 841,
            "learn": [
             0.1625729009,
             0.9550898204
            ],
            "passed_time": 6.480323802,
            "remaining_time": 1.216022756,
            "test": [
             0.4225304083,
             0.798206278
            ]
           },
           {
            "iteration": 842,
            "learn": [
             0.1623359023,
             0.9550898204
            ],
            "passed_time": 6.487602393,
            "remaining_time": 1.208248607,
            "test": [
             0.4225430829,
             0.798206278
            ]
           },
           {
            "iteration": 843,
            "learn": [
             0.1621926584,
             0.9565868263
            ],
            "passed_time": 6.495118412,
            "remaining_time": 1.200519517,
            "test": [
             0.4226809219,
             0.798206278
            ]
           },
           {
            "iteration": 844,
            "learn": [
             0.1621697635,
             0.9550898204
            ],
            "passed_time": 6.501914483,
            "remaining_time": 1.19265887,
            "test": [
             0.4227054954,
             0.798206278
            ]
           },
           {
            "iteration": 845,
            "learn": [
             0.1621497494,
             0.9550898204
            ],
            "passed_time": 6.507704876,
            "remaining_time": 1.184617672,
            "test": [
             0.4228013682,
             0.798206278
            ]
           },
           {
            "iteration": 846,
            "learn": [
             0.1617726987,
             0.9550898204
            ],
            "passed_time": 6.515542507,
            "remaining_time": 1.176951598,
            "test": [
             0.4230427285,
             0.798206278
            ]
           },
           {
            "iteration": 847,
            "learn": [
             0.1617085039,
             0.9550898204
            ],
            "passed_time": 6.521478621,
            "remaining_time": 1.168944281,
            "test": [
             0.4230406605,
             0.798206278
            ]
           },
           {
            "iteration": 848,
            "learn": [
             0.1613583089,
             0.9550898204
            ],
            "passed_time": 6.528592942,
            "remaining_time": 1.161151395,
            "test": [
             0.4238683251,
             0.798206278
            ]
           },
           {
            "iteration": 849,
            "learn": [
             0.1610413466,
             0.9565868263
            ],
            "passed_time": 6.535675786,
            "remaining_time": 1.15335455,
            "test": [
             0.4239924347,
             0.798206278
            ]
           },
           {
            "iteration": 850,
            "learn": [
             0.160997645,
             0.9565868263
            ],
            "passed_time": 6.546365409,
            "remaining_time": 1.146190888,
            "test": [
             0.4240652411,
             0.798206278
            ]
           },
           {
            "iteration": 851,
            "learn": [
             0.160928707,
             0.9565868263
            ],
            "passed_time": 6.558356993,
            "remaining_time": 1.139245111,
            "test": [
             0.4241010296,
             0.798206278
            ]
           },
           {
            "iteration": 852,
            "learn": [
             0.160916801,
             0.9565868263
            ],
            "passed_time": 6.566592622,
            "remaining_time": 1.131640229,
            "test": [
             0.4241438089,
             0.798206278
            ]
           },
           {
            "iteration": 853,
            "learn": [
             0.1607447608,
             0.9565868263
            ],
            "passed_time": 6.572926896,
            "remaining_time": 1.123708814,
            "test": [
             0.4243380127,
             0.798206278
            ]
           },
           {
            "iteration": 854,
            "learn": [
             0.1606260896,
             0.9550898204
            ],
            "passed_time": 6.580948409,
            "remaining_time": 1.116067274,
            "test": [
             0.424442809,
             0.798206278
            ]
           },
           {
            "iteration": 855,
            "learn": [
             0.1603039614,
             0.9580838323
            ],
            "passed_time": 6.587818462,
            "remaining_time": 1.108231143,
            "test": [
             0.4246522751,
             0.798206278
            ]
           },
           {
            "iteration": 856,
            "learn": [
             0.1601758891,
             0.9565868263
            ],
            "passed_time": 6.594136593,
            "remaining_time": 1.100305172,
            "test": [
             0.42466058,
             0.798206278
            ]
           },
           {
            "iteration": 857,
            "learn": [
             0.1601546705,
             0.9565868263
            ],
            "passed_time": 6.60078124,
            "remaining_time": 1.092436988,
            "test": [
             0.424683474,
             0.798206278
            ]
           },
           {
            "iteration": 858,
            "learn": [
             0.1599293197,
             0.9580838323
            ],
            "passed_time": 6.608360355,
            "remaining_time": 1.084725041,
            "test": [
             0.4249647951,
             0.798206278
            ]
           },
           {
            "iteration": 859,
            "learn": [
             0.1597356816,
             0.9580838323
            ],
            "passed_time": 6.614747385,
            "remaining_time": 1.076819342,
            "test": [
             0.42502094,
             0.798206278
            ]
           },
           {
            "iteration": 860,
            "learn": [
             0.1595633895,
             0.9580838323
            ],
            "passed_time": 6.621986805,
            "remaining_time": 1.06905478,
            "test": [
             0.4250857761,
             0.798206278
            ]
           },
           {
            "iteration": 861,
            "learn": [
             0.1594357391,
             0.9580838323
            ],
            "passed_time": 6.628675129,
            "remaining_time": 1.061203211,
            "test": [
             0.4253323137,
             0.798206278
            ]
           },
           {
            "iteration": 862,
            "learn": [
             0.1593813127,
             0.9580838323
            ],
            "passed_time": 6.635172153,
            "remaining_time": 1.053323969,
            "test": [
             0.4253946707,
             0.798206278
            ]
           },
           {
            "iteration": 863,
            "learn": [
             0.1593229333,
             0.9580838323
            ],
            "passed_time": 6.642027517,
            "remaining_time": 1.045504331,
            "test": [
             0.4253347691,
             0.798206278
            ]
           },
           {
            "iteration": 864,
            "learn": [
             0.1587775694,
             0.9580838323
            ],
            "passed_time": 6.648832362,
            "remaining_time": 1.037679039,
            "test": [
             0.4251684882,
             0.798206278
            ]
           },
           {
            "iteration": 865,
            "learn": [
             0.1586251939,
             0.9580838323
            ],
            "passed_time": 6.656561179,
            "remaining_time": 1.029999074,
            "test": [
             0.4251088342,
             0.798206278
            ]
           },
           {
            "iteration": 866,
            "learn": [
             0.1586137551,
             0.9580838323
            ],
            "passed_time": 6.663375438,
            "remaining_time": 1.0221787,
            "test": [
             0.4251844752,
             0.798206278
            ]
           },
           {
            "iteration": 867,
            "learn": [
             0.1585143947,
             0.9580838323
            ],
            "passed_time": 6.671285989,
            "remaining_time": 1.014527362,
            "test": [
             0.4254559002,
             0.798206278
            ]
           },
           {
            "iteration": 868,
            "learn": [
             0.1584100361,
             0.9580838323
            ],
            "passed_time": 6.679679485,
            "remaining_time": 1.006948231,
            "test": [
             0.4254165092,
             0.798206278
            ]
           },
           {
            "iteration": 869,
            "learn": [
             0.158261098,
             0.9580838323
            ],
            "passed_time": 6.687200686,
            "remaining_time": 0.9992368841,
            "test": [
             0.425211813,
             0.798206278
            ]
           },
           {
            "iteration": 870,
            "learn": [
             0.1580363717,
             0.9595808383
            ],
            "passed_time": 6.693757166,
            "remaining_time": 0.9913830935,
            "test": [
             0.4255224936,
             0.798206278
            ]
           },
           {
            "iteration": 871,
            "learn": [
             0.1577862898,
             0.9610778443
            ],
            "passed_time": 6.701268448,
            "remaining_time": 0.9836724327,
            "test": [
             0.4264693389,
             0.798206278
            ]
           },
           {
            "iteration": 872,
            "learn": [
             0.1575010123,
             0.9610778443
            ],
            "passed_time": 6.708510972,
            "remaining_time": 0.9759231311,
            "test": [
             0.4266995733,
             0.798206278
            ]
           },
           {
            "iteration": 873,
            "learn": [
             0.1572197115,
             0.9610778443
            ],
            "passed_time": 6.715549283,
            "remaining_time": 0.9681455487,
            "test": [
             0.4268857781,
             0.798206278
            ]
           },
           {
            "iteration": 874,
            "learn": [
             0.1571716653,
             0.9610778443
            ],
            "passed_time": 6.723224401,
            "remaining_time": 0.9604606288,
            "test": [
             0.4268196951,
             0.798206278
            ]
           },
           {
            "iteration": 875,
            "learn": [
             0.1570976435,
             0.9610778443
            ],
            "passed_time": 6.732168737,
            "remaining_time": 0.952955392,
            "test": [
             0.4269053008,
             0.798206278
            ]
           },
           {
            "iteration": 876,
            "learn": [
             0.1569863497,
             0.9610778443
            ],
            "passed_time": 6.739963904,
            "remaining_time": 0.9452857015,
            "test": [
             0.4270429185,
             0.798206278
            ]
           },
           {
            "iteration": 877,
            "learn": [
             0.156699064,
             0.9610778443
            ],
            "passed_time": 6.746880334,
            "remaining_time": 0.9374936228,
            "test": [
             0.4269142868,
             0.798206278
            ]
           },
           {
            "iteration": 878,
            "learn": [
             0.1566554117,
             0.9610778443
            ],
            "passed_time": 6.754005566,
            "remaining_time": 0.9297322793,
            "test": [
             0.4270517158,
             0.798206278
            ]
           },
           {
            "iteration": 879,
            "learn": [
             0.1566299469,
             0.9610778443
            ],
            "passed_time": 6.759676269,
            "remaining_time": 0.9217740367,
            "test": [
             0.4270678125,
             0.798206278
            ]
           },
           {
            "iteration": 880,
            "learn": [
             0.1565964403,
             0.9610778443
            ],
            "passed_time": 6.766691411,
            "remaining_time": 0.9140025856,
            "test": [
             0.4271585516,
             0.798206278
            ]
           },
           {
            "iteration": 881,
            "learn": [
             0.1564280381,
             0.9610778443
            ],
            "passed_time": 6.773949662,
            "remaining_time": 0.9062653742,
            "test": [
             0.4269172407,
             0.798206278
            ]
           },
           {
            "iteration": 882,
            "learn": [
             0.1563611135,
             0.9610778443
            ],
            "passed_time": 6.781085631,
            "remaining_time": 0.8985130451,
            "test": [
             0.4269260626,
             0.798206278
            ]
           },
           {
            "iteration": 883,
            "learn": [
             0.1563369344,
             0.9610778443
            ],
            "passed_time": 6.788116908,
            "remaining_time": 0.8907483726,
            "test": [
             0.4270513113,
             0.798206278
            ]
           },
           {
            "iteration": 884,
            "learn": [
             0.1563243232,
             0.9610778443
            ],
            "passed_time": 6.795426093,
            "remaining_time": 0.8830214697,
            "test": [
             0.4271269541,
             0.798206278
            ]
           },
           {
            "iteration": 885,
            "learn": [
             0.1561357024,
             0.9610778443
            ],
            "passed_time": 6.802507941,
            "remaining_time": 0.8752662587,
            "test": [
             0.4272915593,
             0.798206278
            ]
           },
           {
            "iteration": 886,
            "learn": [
             0.1558660641,
             0.9610778443
            ],
            "passed_time": 6.809657601,
            "remaining_time": 0.8675212051,
            "test": [
             0.4280127205,
             0.798206278
            ]
           },
           {
            "iteration": 887,
            "learn": [
             0.155417333,
             0.9625748503
            ],
            "passed_time": 6.817011521,
            "remaining_time": 0.8598032549,
            "test": [
             0.4284299667,
             0.798206278
            ]
           },
           {
            "iteration": 888,
            "learn": [
             0.1551538105,
             0.9625748503
            ],
            "passed_time": 6.8239037,
            "remaining_time": 0.852028471,
            "test": [
             0.4286129192,
             0.798206278
            ]
           },
           {
            "iteration": 889,
            "learn": [
             0.1547988434,
             0.9625748503
            ],
            "passed_time": 6.831306496,
            "remaining_time": 0.8443187804,
            "test": [
             0.4287489848,
             0.798206278
            ]
           },
           {
            "iteration": 890,
            "learn": [
             0.1547362437,
             0.9625748503
            ],
            "passed_time": 6.837057056,
            "remaining_time": 0.8364076533,
            "test": [
             0.4287762027,
             0.798206278
            ]
           },
           {
            "iteration": 891,
            "learn": [
             0.1546360164,
             0.9625748503
            ],
            "passed_time": 6.843858106,
            "remaining_time": 0.8286285599,
            "test": [
             0.4290759746,
             0.798206278
            ]
           },
           {
            "iteration": 892,
            "learn": [
             0.1544807493,
             0.9625748503
            ],
            "passed_time": 6.853903744,
            "remaining_time": 0.8212404262,
            "test": [
             0.4288715911,
             0.798206278
            ]
           },
           {
            "iteration": 893,
            "learn": [
             0.1544616195,
             0.9625748503
            ],
            "passed_time": 6.860968869,
            "remaining_time": 0.8134929532,
            "test": [
             0.4289631683,
             0.798206278
            ]
           },
           {
            "iteration": 894,
            "learn": [
             0.1544557088,
             0.9625748503
            ],
            "passed_time": 6.868180444,
            "remaining_time": 0.8057641861,
            "test": [
             0.4288939296,
             0.798206278
            ]
           },
           {
            "iteration": 895,
            "learn": [
             0.1542069889,
             0.9625748503
            ],
            "passed_time": 6.875134608,
            "remaining_time": 0.7980066955,
            "test": [
             0.4290766023,
             0.798206278
            ]
           },
           {
            "iteration": 896,
            "learn": [
             0.1539879232,
             0.9625748503
            ],
            "passed_time": 6.882452331,
            "remaining_time": 0.7902927426,
            "test": [
             0.4291569046,
             0.798206278
            ]
           },
           {
            "iteration": 897,
            "learn": [
             0.1537012553,
             0.9625748503
            ],
            "passed_time": 6.889199841,
            "remaining_time": 0.782514904,
            "test": [
             0.4291054023,
             0.7937219731
            ]
           },
           {
            "iteration": 898,
            "learn": [
             0.1534666262,
             0.9640718563
            ],
            "passed_time": 6.896290538,
            "remaining_time": 0.7747779136,
            "test": [
             0.4292841507,
             0.7937219731
            ]
           },
           {
            "iteration": 899,
            "learn": [
             0.1533378793,
             0.9640718563
            ],
            "passed_time": 6.902241802,
            "remaining_time": 0.7669157558,
            "test": [
             0.4293249629,
             0.7937219731
            ]
           },
           {
            "iteration": 900,
            "learn": [
             0.153323034,
             0.9640718563
            ],
            "passed_time": 6.908537865,
            "remaining_time": 0.7590957254,
            "test": [
             0.4293102815,
             0.7937219731
            ]
           },
           {
            "iteration": 901,
            "learn": [
             0.1532618252,
             0.9640718563
            ],
            "passed_time": 6.916554851,
            "remaining_time": 0.7514660481,
            "test": [
             0.4292187213,
             0.7937219731
            ]
           },
           {
            "iteration": 902,
            "learn": [
             0.1530061269,
             0.9640718563
            ],
            "passed_time": 6.923987414,
            "remaining_time": 0.7437727344,
            "test": [
             0.4296767132,
             0.798206278
            ]
           },
           {
            "iteration": 903,
            "learn": [
             0.15281436,
             0.9625748503
            ],
            "passed_time": 6.931447614,
            "remaining_time": 0.7360829324,
            "test": [
             0.429889037,
             0.7937219731
            ]
           },
           {
            "iteration": 904,
            "learn": [
             0.1525923953,
             0.9640718563
            ],
            "passed_time": 6.938323557,
            "remaining_time": 0.7283323071,
            "test": [
             0.4300661383,
             0.7937219731
            ]
           },
           {
            "iteration": 905,
            "learn": [
             0.152549382,
             0.9640718563
            ],
            "passed_time": 6.945602645,
            "remaining_time": 0.72062544,
            "test": [
             0.429992512,
             0.7937219731
            ]
           },
           {
            "iteration": 906,
            "learn": [
             0.1522719326,
             0.9655688623
            ],
            "passed_time": 6.952343961,
            "remaining_time": 0.7128643753,
            "test": [
             0.4302691579,
             0.7937219731
            ]
           },
           {
            "iteration": 907,
            "learn": [
             0.1522449165,
             0.9655688623
            ],
            "passed_time": 6.959725226,
            "remaining_time": 0.7051703974,
            "test": [
             0.4303415184,
             0.7937219731
            ]
           },
           {
            "iteration": 908,
            "learn": [
             0.1521356405,
             0.9655688623
            ],
            "passed_time": 6.967265478,
            "remaining_time": 0.6974930237,
            "test": [
             0.430259906,
             0.7937219731
            ]
           },
           {
            "iteration": 909,
            "learn": [
             0.1519952753,
             0.9640718563
            ],
            "passed_time": 6.974625341,
            "remaining_time": 0.6897981106,
            "test": [
             0.4302266185,
             0.798206278
            ]
           },
           {
            "iteration": 910,
            "learn": [
             0.1515988755,
             0.9655688623
            ],
            "passed_time": 6.981898308,
            "remaining_time": 0.6820954439,
            "test": [
             0.4307050002,
             0.798206278
            ]
           },
           {
            "iteration": 911,
            "learn": [
             0.151476956,
             0.9655688623
            ],
            "passed_time": 6.989123608,
            "remaining_time": 0.6743891201,
            "test": [
             0.4308158974,
             0.7937219731
            ]
           },
           {
            "iteration": 912,
            "learn": [
             0.1513061535,
             0.9655688623
            ],
            "passed_time": 6.996542023,
            "remaining_time": 0.6667022519,
            "test": [
             0.4307145003,
             0.798206278
            ]
           },
           {
            "iteration": 913,
            "learn": [
             0.1510706281,
             0.9640718563
            ],
            "passed_time": 7.004267243,
            "remaining_time": 0.6590448391,
            "test": [
             0.430826401,
             0.798206278
            ]
           },
           {
            "iteration": 914,
            "learn": [
             0.1507828588,
             0.9655688623
            ],
            "passed_time": 7.011174017,
            "remaining_time": 0.6513112474,
            "test": [
             0.4311252951,
             0.798206278
            ]
           },
           {
            "iteration": 915,
            "learn": [
             0.1507721017,
             0.9655688623
            ],
            "passed_time": 7.018107807,
            "remaining_time": 0.6435819386,
            "test": [
             0.4311672829,
             0.798206278
            ]
           },
           {
            "iteration": 916,
            "learn": [
             0.1507639987,
             0.9655688623
            ],
            "passed_time": 7.024277646,
            "remaining_time": 0.6357852177,
            "test": [
             0.4312158574,
             0.798206278
            ]
           },
           {
            "iteration": 917,
            "learn": [
             0.1506551351,
             0.9655688623
            ],
            "passed_time": 7.030149651,
            "remaining_time": 0.6279654372,
            "test": [
             0.4308236093,
             0.798206278
            ]
           },
           {
            "iteration": 918,
            "learn": [
             0.1505249304,
             0.9655688623
            ],
            "passed_time": 7.037526193,
            "remaining_time": 0.6202825045,
            "test": [
             0.4308217279,
             0.802690583
            ]
           },
           {
            "iteration": 919,
            "learn": [
             0.1501363294,
             0.9655688623
            ],
            "passed_time": 7.044565593,
            "remaining_time": 0.6125709211,
            "test": [
             0.4309655106,
             0.802690583
            ]
           },
           {
            "iteration": 920,
            "learn": [
             0.1500633846,
             0.9655688623
            ],
            "passed_time": 7.051468342,
            "remaining_time": 0.6048490761,
            "test": [
             0.43099885,
             0.802690583
            ]
           },
           {
            "iteration": 921,
            "learn": [
             0.1498992719,
             0.9655688623
            ],
            "passed_time": 7.059091168,
            "remaining_time": 0.5971899253,
            "test": [
             0.4313171896,
             0.802690583
            ]
           },
           {
            "iteration": 922,
            "learn": [
             0.1496970958,
             0.9655688623
            ],
            "passed_time": 7.118784552,
            "remaining_time": 0.5938747676,
            "test": [
             0.4313359442,
             0.802690583
            ]
           },
           {
            "iteration": 923,
            "learn": [
             0.149473603,
             0.9655688623
            ],
            "passed_time": 7.137580899,
            "remaining_time": 0.5870737536,
            "test": [
             0.431382808,
             0.798206278
            ]
           },
           {
            "iteration": 924,
            "learn": [
             0.1493494396,
             0.9655688623
            ],
            "passed_time": 7.156124158,
            "remaining_time": 0.5802262831,
            "test": [
             0.4313046426,
             0.802690583
            ]
           },
           {
            "iteration": 925,
            "learn": [
             0.1491059729,
             0.9655688623
            ],
            "passed_time": 7.173604838,
            "remaining_time": 0.5732686372,
            "test": [
             0.4310087812,
             0.802690583
            ]
           },
           {
            "iteration": 926,
            "learn": [
             0.1488169778,
             0.9655688623
            ],
            "passed_time": 7.187306295,
            "remaining_time": 0.5659906791,
            "test": [
             0.4312375412,
             0.798206278
            ]
           },
           {
            "iteration": 927,
            "learn": [
             0.148627705,
             0.9655688623
            ],
            "passed_time": 7.194059446,
            "remaining_time": 0.5581597846,
            "test": [
             0.4313867666,
             0.798206278
            ]
           },
           {
            "iteration": 928,
            "learn": [
             0.1485180506,
             0.9655688623
            ],
            "passed_time": 7.201341331,
            "remaining_time": 0.5503716195,
            "test": [
             0.4314699365,
             0.798206278
            ]
           },
           {
            "iteration": 929,
            "learn": [
             0.1484942309,
             0.9655688623
            ],
            "passed_time": 7.208704909,
            "remaining_time": 0.5425906921,
            "test": [
             0.4314800598,
             0.798206278
            ]
           },
           {
            "iteration": 930,
            "learn": [
             0.1483038354,
             0.9655688623
            ],
            "passed_time": 7.216141426,
            "remaining_time": 0.534816067,
            "test": [
             0.4315076806,
             0.798206278
            ]
           },
           {
            "iteration": 931,
            "learn": [
             0.1481370123,
             0.9655688623
            ],
            "passed_time": 7.223856642,
            "remaining_time": 0.5270625018,
            "test": [
             0.4319553088,
             0.798206278
            ]
           },
           {
            "iteration": 932,
            "learn": [
             0.1480474502,
             0.9655688623
            ],
            "passed_time": 7.231196713,
            "remaining_time": 0.519282079,
            "test": [
             0.4319363195,
             0.802690583
            ]
           },
           {
            "iteration": 933,
            "learn": [
             0.1478946005,
             0.9655688623
            ],
            "passed_time": 7.237768519,
            "remaining_time": 0.5114483107,
            "test": [
             0.4323096117,
             0.798206278
            ]
           },
           {
            "iteration": 934,
            "learn": [
             0.1476832927,
             0.9655688623
            ],
            "passed_time": 7.24544008,
            "remaining_time": 0.5036936954,
            "test": [
             0.4329944731,
             0.798206278
            ]
           },
           {
            "iteration": 935,
            "learn": [
             0.147438645,
             0.9655688623
            ],
            "passed_time": 7.252339687,
            "remaining_time": 0.4958864744,
            "test": [
             0.4332555189,
             0.798206278
            ]
           },
           {
            "iteration": 936,
            "learn": [
             0.1471856856,
             0.9655688623
            ],
            "passed_time": 7.25996921,
            "remaining_time": 0.4881302671,
            "test": [
             0.4330581432,
             0.798206278
            ]
           },
           {
            "iteration": 937,
            "learn": [
             0.1470149067,
             0.9655688623
            ],
            "passed_time": 7.267703372,
            "remaining_time": 0.4803812464,
            "test": [
             0.4333114523,
             0.798206278
            ]
           },
           {
            "iteration": 938,
            "learn": [
             0.1468249123,
             0.9670658683
            ],
            "passed_time": 7.275266586,
            "remaining_time": 0.472621152,
            "test": [
             0.4335236922,
             0.802690583
            ]
           },
           {
            "iteration": 939,
            "learn": [
             0.1467911289,
             0.9670658683
            ],
            "passed_time": 7.282229865,
            "remaining_time": 0.4648231829,
            "test": [
             0.433588262,
             0.798206278
            ]
           },
           {
            "iteration": 940,
            "learn": [
             0.1466049411,
             0.9670658683
            ],
            "passed_time": 7.290248289,
            "remaining_time": 0.4570931446,
            "test": [
             0.4335763495,
             0.802690583
            ]
           },
           {
            "iteration": 941,
            "learn": [
             0.1463767908,
             0.9670658683
            ],
            "passed_time": 7.297890786,
            "remaining_time": 0.4493393478,
            "test": [
             0.4340809204,
             0.802690583
            ]
           },
           {
            "iteration": 942,
            "learn": [
             0.1461840856,
             0.9670658683
            ],
            "passed_time": 7.305296261,
            "remaining_time": 0.4415714601,
            "test": [
             0.4342412419,
             0.802690583
            ]
           },
           {
            "iteration": 943,
            "learn": [
             0.145804725,
             0.9670658683
            ],
            "passed_time": 7.312669424,
            "remaining_time": 0.4338024234,
            "test": [
             0.4339914929,
             0.802690583
            ]
           },
           {
            "iteration": 944,
            "learn": [
             0.1457393872,
             0.9670658683
            ],
            "passed_time": 7.319974957,
            "remaining_time": 0.4260302885,
            "test": [
             0.4341358557,
             0.802690583
            ]
           },
           {
            "iteration": 945,
            "learn": [
             0.1456146774,
             0.9670658683
            ],
            "passed_time": 7.327437143,
            "remaining_time": 0.4182680821,
            "test": [
             0.4342824442,
             0.802690583
            ]
           },
           {
            "iteration": 946,
            "learn": [
             0.1454178574,
             0.9670658683
            ],
            "passed_time": 7.333993491,
            "remaining_time": 0.4104558131,
            "test": [
             0.4344568246,
             0.802690583
            ]
           },
           {
            "iteration": 947,
            "learn": [
             0.145242563,
             0.9670658683
            ],
            "passed_time": 7.341739031,
            "remaining_time": 0.4027114237,
            "test": [
             0.4348308135,
             0.802690583
            ]
           },
           {
            "iteration": 948,
            "learn": [
             0.1451540757,
             0.9670658683
            ],
            "passed_time": 7.349185303,
            "remaining_time": 0.3949509489,
            "test": [
             0.4346183441,
             0.802690583
            ]
           },
           {
            "iteration": 949,
            "learn": [
             0.1450628578,
             0.9670658683
            ],
            "passed_time": 7.356926314,
            "remaining_time": 0.3872066481,
            "test": [
             0.434647694,
             0.802690583
            ]
           },
           {
            "iteration": 950,
            "learn": [
             0.1449617617,
             0.9670658683
            ],
            "passed_time": 7.364675702,
            "remaining_time": 0.3794627859,
            "test": [
             0.4349689939,
             0.802690583
            ]
           },
           {
            "iteration": 951,
            "learn": [
             0.1448433156,
             0.9670658683
            ],
            "passed_time": 7.372290057,
            "remaining_time": 0.3717121037,
            "test": [
             0.434940539,
             0.802690583
            ]
           },
           {
            "iteration": 952,
            "learn": [
             0.1447868254,
             0.9670658683
            ],
            "passed_time": 7.379412201,
            "remaining_time": 0.3639374328,
            "test": [
             0.4348611467,
             0.802690583
            ]
           },
           {
            "iteration": 953,
            "learn": [
             0.144746727,
             0.9670658683
            ],
            "passed_time": 7.387275402,
            "remaining_time": 0.3561998621,
            "test": [
             0.4347898394,
             0.802690583
            ]
           },
           {
            "iteration": 954,
            "learn": [
             0.1446053324,
             0.9670658683
            ],
            "passed_time": 7.394858013,
            "remaining_time": 0.3484488069,
            "test": [
             0.4350135307,
             0.802690583
            ]
           },
           {
            "iteration": 955,
            "learn": [
             0.1444571142,
             0.9670658683
            ],
            "passed_time": 7.401986345,
            "remaining_time": 0.3406771958,
            "test": [
             0.4359680046,
             0.802690583
            ]
           },
           {
            "iteration": 956,
            "learn": [
             0.1442474671,
             0.9670658683
            ],
            "passed_time": 7.409428019,
            "remaining_time": 0.3329210082,
            "test": [
             0.4360189123,
             0.802690583
            ]
           },
           {
            "iteration": 957,
            "learn": [
             0.1439146032,
             0.9685628743
            ],
            "passed_time": 7.417919658,
            "remaining_time": 0.325211509,
            "test": [
             0.4358642003,
             0.802690583
            ]
           },
           {
            "iteration": 958,
            "learn": [
             0.1436998441,
             0.9685628743
            ],
            "passed_time": 7.42558588,
            "remaining_time": 0.3174650898,
            "test": [
             0.4358993169,
             0.802690583
            ]
           },
           {
            "iteration": 959,
            "learn": [
             0.1435274808,
             0.9685628743
            ],
            "passed_time": 7.433177113,
            "remaining_time": 0.309715713,
            "test": [
             0.4357409634,
             0.802690583
            ]
           },
           {
            "iteration": 960,
            "learn": [
             0.1433444102,
             0.9700598802
            ],
            "passed_time": 7.440578332,
            "remaining_time": 0.3019589541,
            "test": [
             0.4358969804,
             0.802690583
            ]
           },
           {
            "iteration": 961,
            "learn": [
             0.1431957629,
             0.9700598802
            ],
            "passed_time": 7.448106921,
            "remaining_time": 0.2942079657,
            "test": [
             0.4362166024,
             0.802690583
            ]
           },
           {
            "iteration": 962,
            "learn": [
             0.1429716253,
             0.9700598802
            ],
            "passed_time": 7.455659826,
            "remaining_time": 0.2864583734,
            "test": [
             0.4365563837,
             0.798206278
            ]
           },
           {
            "iteration": 963,
            "learn": [
             0.1427362042,
             0.9715568862
            ],
            "passed_time": 7.462726419,
            "remaining_time": 0.2786910281,
            "test": [
             0.4368190223,
             0.798206278
            ]
           },
           {
            "iteration": 964,
            "learn": [
             0.1426933238,
             0.9700598802
            ],
            "passed_time": 7.469691804,
            "remaining_time": 0.2709214644,
            "test": [
             0.4367965169,
             0.798206278
            ]
           },
           {
            "iteration": 965,
            "learn": [
             0.1426753418,
             0.9700598802
            ],
            "passed_time": 7.477242144,
            "remaining_time": 0.2631741541,
            "test": [
             0.4368335963,
             0.798206278
            ]
           },
           {
            "iteration": 966,
            "learn": [
             0.1425321579,
             0.9700598802
            ],
            "passed_time": 7.484140704,
            "remaining_time": 0.2554050085,
            "test": [
             0.4372335725,
             0.798206278
            ]
           },
           {
            "iteration": 967,
            "learn": [
             0.1424264172,
             0.9700598802
            ],
            "passed_time": 7.491844265,
            "remaining_time": 0.2476642732,
            "test": [
             0.4375633319,
             0.7937219731
            ]
           },
           {
            "iteration": 968,
            "learn": [
             0.142361861,
             0.9700598802
            ],
            "passed_time": 7.498237256,
            "remaining_time": 0.2398816872,
            "test": [
             0.4375954044,
             0.7937219731
            ]
           },
           {
            "iteration": 969,
            "learn": [
             0.142144035,
             0.9700598802
            ],
            "passed_time": 7.509472583,
            "remaining_time": 0.2322517294,
            "test": [
             0.4376685641,
             0.798206278
            ]
           },
           {
            "iteration": 970,
            "learn": [
             0.1421192951,
             0.9700598802
            ],
            "passed_time": 7.516728203,
            "remaining_time": 0.224495487,
            "test": [
             0.4377405881,
             0.798206278
            ]
           },
           {
            "iteration": 971,
            "learn": [
             0.1417854987,
             0.9700598802
            ],
            "passed_time": 7.525061746,
            "remaining_time": 0.216771326,
            "test": [
             0.437394848,
             0.7937219731
            ]
           },
           {
            "iteration": 972,
            "learn": [
             0.1414739638,
             0.9700598802
            ],
            "passed_time": 7.533147383,
            "remaining_time": 0.2090390332,
            "test": [
             0.4372395586,
             0.798206278
            ]
           },
           {
            "iteration": 973,
            "learn": [
             0.1413165392,
             0.9700598802
            ],
            "passed_time": 7.54085098,
            "remaining_time": 0.2012958167,
            "test": [
             0.4374336181,
             0.798206278
            ]
           },
           {
            "iteration": 974,
            "learn": [
             0.1412069658,
             0.9700598802
            ],
            "passed_time": 7.548207161,
            "remaining_time": 0.1935437734,
            "test": [
             0.4369076993,
             0.798206278
            ]
           },
           {
            "iteration": 975,
            "learn": [
             0.1409489423,
             0.9700598802
            ],
            "passed_time": 7.567370779,
            "remaining_time": 0.186082888,
            "test": [
             0.4369132064,
             0.798206278
            ]
           },
           {
            "iteration": 976,
            "learn": [
             0.1409234738,
             0.9700598802
            ],
            "passed_time": 7.574663084,
            "remaining_time": 0.1783185782,
            "test": [
             0.4368886385,
             0.798206278
            ]
           },
           {
            "iteration": 977,
            "learn": [
             0.1407566731,
             0.9700598802
            ],
            "passed_time": 7.581201993,
            "remaining_time": 0.1705382861,
            "test": [
             0.436669861,
             0.798206278
            ]
           },
           {
            "iteration": 978,
            "learn": [
             0.1406087038,
             0.9700598802
            ],
            "passed_time": 7.588472827,
            "remaining_time": 0.1627762302,
            "test": [
             0.4367471685,
             0.798206278
            ]
           },
           {
            "iteration": 979,
            "learn": [
             0.1404784497,
             0.9700598802
            ],
            "passed_time": 7.595308727,
            "remaining_time": 0.1550063006,
            "test": [
             0.4367188383,
             0.798206278
            ]
           },
           {
            "iteration": 980,
            "learn": [
             0.140446817,
             0.9700598802
            ],
            "passed_time": 7.602813741,
            "remaining_time": 0.1472512345,
            "test": [
             0.4366937562,
             0.798206278
            ]
           },
           {
            "iteration": 981,
            "learn": [
             0.1403262556,
             0.9700598802
            ],
            "passed_time": 7.609567129,
            "remaining_time": 0.1394829005,
            "test": [
             0.4366148366,
             0.798206278
            ]
           },
           {
            "iteration": 982,
            "learn": [
             0.1402954633,
             0.9715568862
            ],
            "passed_time": 7.617157757,
            "remaining_time": 0.1317311107,
            "test": [
             0.4365037149,
             0.798206278
            ]
           },
           {
            "iteration": 983,
            "learn": [
             0.140125608,
             0.9715568862
            ],
            "passed_time": 7.624046965,
            "remaining_time": 0.1239682433,
            "test": [
             0.436654684,
             0.798206278
            ]
           },
           {
            "iteration": 984,
            "learn": [
             0.1400960946,
             0.9715568862
            ],
            "passed_time": 7.630457785,
            "remaining_time": 0.1161998647,
            "test": [
             0.4366136383,
             0.798206278
            ]
           },
           {
            "iteration": 985,
            "learn": [
             0.1398100979,
             0.9730538922
            ],
            "passed_time": 7.637340533,
            "remaining_time": 0.1084409406,
            "test": [
             0.436890597,
             0.798206278
            ]
           },
           {
            "iteration": 986,
            "learn": [
             0.1396404146,
             0.9730538922
            ],
            "passed_time": 7.644559306,
            "remaining_time": 0.1006882178,
            "test": [
             0.4370100415,
             0.798206278
            ]
           },
           {
            "iteration": 987,
            "learn": [
             0.1393904015,
             0.9730538922
            ],
            "passed_time": 7.651247641,
            "remaining_time": 0.0929301333,
            "test": [
             0.4370537126,
             0.802690583
            ]
           },
           {
            "iteration": 988,
            "learn": [
             0.1392550595,
             0.9730538922
            ],
            "passed_time": 7.658372421,
            "remaining_time": 0.08517906636,
            "test": [
             0.4371018615,
             0.802690583
            ]
           },
           {
            "iteration": 989,
            "learn": [
             0.1390832089,
             0.9730538922
            ],
            "passed_time": 7.665074862,
            "remaining_time": 0.07742499861,
            "test": [
             0.4368715474,
             0.802690583
            ]
           },
           {
            "iteration": 990,
            "learn": [
             0.1390398754,
             0.9730538922
            ],
            "passed_time": 7.671116785,
            "remaining_time": 0.06966705456,
            "test": [
             0.4367512592,
             0.802690583
            ]
           },
           {
            "iteration": 991,
            "learn": [
             0.1386081323,
             0.9730538922
            ],
            "passed_time": 7.678564983,
            "remaining_time": 0.06192391115,
            "test": [
             0.4364353865,
             0.798206278
            ]
           },
           {
            "iteration": 992,
            "learn": [
             0.1383339325,
             0.9730538922
            ],
            "passed_time": 7.686120863,
            "remaining_time": 0.05418212089,
            "test": [
             0.4366860355,
             0.798206278
            ]
           },
           {
            "iteration": 993,
            "learn": [
             0.1381505617,
             0.9730538922
            ],
            "passed_time": 7.692938521,
            "remaining_time": 0.04643624862,
            "test": [
             0.4366797666,
             0.798206278
            ]
           },
           {
            "iteration": 994,
            "learn": [
             0.1380261789,
             0.9730538922
            ],
            "passed_time": 7.699765446,
            "remaining_time": 0.03869228867,
            "test": [
             0.4366479161,
             0.798206278
            ]
           },
           {
            "iteration": 995,
            "learn": [
             0.1380093746,
             0.9730538922
            ],
            "passed_time": 7.706740623,
            "remaining_time": 0.03095076555,
            "test": [
             0.4367278215,
             0.798206278
            ]
           },
           {
            "iteration": 996,
            "learn": [
             0.1377752814,
             0.9730538922
            ],
            "passed_time": 7.713493665,
            "remaining_time": 0.02321011133,
            "test": [
             0.4366820868,
             0.7937219731
            ]
           },
           {
            "iteration": 997,
            "learn": [
             0.1377164407,
             0.9730538922
            ],
            "passed_time": 7.720329599,
            "remaining_time": 0.0154716024,
            "test": [
             0.4367756502,
             0.7937219731
            ]
           },
           {
            "iteration": 998,
            "learn": [
             0.1376250742,
             0.9730538922
            ],
            "passed_time": 7.727688474,
            "remaining_time": 0.007735423898,
            "test": [
             0.4368416259,
             0.7937219731
            ]
           },
           {
            "iteration": 999,
            "learn": [
             0.1375022707,
             0.9730538922
            ],
            "passed_time": 7.734909391,
            "remaining_time": 0,
            "test": [
             0.437064621,
             0.7937219731
            ]
           }
          ],
          "meta": {
           "iteration_count": 1000,
           "launch_mode": "Train",
           "learn_metrics": [
            {
             "best_value": "Min",
             "name": "Logloss"
            },
            {
             "best_value": "Max",
             "name": "Accuracy"
            }
           ],
           "learn_sets": [
            "learn"
           ],
           "name": "experiment",
           "parameters": "",
           "test_metrics": [
            {
             "best_value": "Min",
             "name": "Logloss"
            },
            {
             "best_value": "Max",
             "name": "Accuracy"
            }
           ],
           "test_sets": [
            "test"
           ]
          }
         },
         "passed_iterations": 999,
         "total_iterations": 1000
        },
        "name": "catboost_info",
        "path": "catboost_info"
       }
      },
      "layout": "IPY_MODEL_a77b164d53b64769a0a2c00b706fe8c4"
     }
    }
   }
  }
 },
 "nbformat": 4,
 "nbformat_minor": 1
}
